{
  "nbformat": 4,
  "nbformat_minor": 0,
  "metadata": {
    "colab": {
      "name": "Movie_Data_Analysis.ipynb",
      "provenance": [],
      "collapsed_sections": []
    },
    "kernelspec": {
      "name": "python3",
      "display_name": "Python 3"
    },
    "language_info": {
      "name": "python"
    }
  },
  "cells": [
    {
      "cell_type": "markdown",
      "source": [
        "# Movie Data Analysis\n",
        "\n",
        "In this notebook, we will be exploring a movie data set and answer some questions based on our data."
      ],
      "metadata": {
        "id": "CU0jR5mOMKff"
      }
    },
    {
      "cell_type": "markdown",
      "source": [
        "![](https://images.unsplash.com/photo-1548095115-45697e222a58?ixlib=rb-1.2.1&ixid=MnwxMjA3fDB8MHxwaG90by1wYWdlfHx8fGVufDB8fHx8&auto=format&fit=crop&w=1476&q=80)Image by Aneta Pawlik from Unsplash.com"
      ],
      "metadata": {
        "id": "gL3vE2Icbk3Q"
      }
    },
    {
      "cell_type": "markdown",
      "source": [
        "## About This Notebook\n",
        "\n",
        "This `ipynb` is run on [Google Colab](https://colab.research.google.com/?utm_source=scs-index) as the IDE contains multiple built-in libraries such as `pandas` and many more. It also runs on LinuxOS, which allows more functions that a WinOS user cannot work with.\n",
        "\n",
        "[Link to the Colab Notebook](https://colab.research.google.com/drive/1xT6a09wjuI7-w3eGkS2_NXr8cM8_iSnq?usp=sharing)"
      ],
      "metadata": {
        "id": "RLfCv9NPNI3k"
      }
    },
    {
      "cell_type": "markdown",
      "source": [
        "## About The Analysis\n",
        "\n",
        "This analysis project is inspired by [Harshit Tyagi](https://dswharshit.medium.com/)'s blogpost at Towards Data Science: **2-Part Hitchiker's Guide To Exploratory Data Analysis.**\n",
        "\n",
        "The blogs involved can be found here:\n",
        "\n",
        "* [Part 01](https://towardsdatascience.com/hitchhikers-guide-to-exploratory-data-analysis-6e8d896d3f7e)\n",
        "* [Part 02](https://towardsdatascience.com/hitchhikers-guide-to-exploratory-data-analysis-part-2-36ab72201e1d)\n",
        "\n",
        "---"
      ],
      "metadata": {
        "id": "mvtCZVIeNQK9"
      }
    },
    {
      "cell_type": "markdown",
      "source": [
        "# Theory\n",
        "\n",
        "Before we start analysing our movie data set, we will first start with some theories."
      ],
      "metadata": {
        "id": "KeqPiZrpOSXO"
      }
    },
    {
      "cell_type": "markdown",
      "source": [
        "## What is EDA\n",
        "\n",
        "**Exploratory data analysis (EDA)** is a crucial component of data science which allows you to develop the gist of what your data look like and what kinds of questions might be answered by them.\n",
        "\n",
        "Ultimately, EDA is important because it allows the investigator to **make critical decisions** about what is interesting to pursue and what probably isn’t worth following up on and thus **building a hypothesis** using the relationships between variables."
      ],
      "metadata": {
        "id": "tqkj1kTkP2Na"
      }
    },
    {
      "cell_type": "markdown",
      "source": [
        "## EDA Steps\n",
        "\n",
        "To perform exploratory data analysis, we will typically follow the following steps:\n",
        "\n",
        "1. Data Preview and Defining Questions\n",
        "2. Data Cleaning\n",
        "3. Data Transformation\n",
        "4. Answering Questions"
      ],
      "metadata": {
        "id": "w_oMqziwO6dx"
      }
    },
    {
      "cell_type": "markdown",
      "source": [
        "## Our Data Set\n",
        "\n",
        "We will be using the Movie Dataset from Kaggle, which can be found [here](https://www.kaggle.com/tmdb/tmdb-movie-metadata/). It contains two files:\n",
        "\n",
        "* `tmdb_5000_movies.csv` stores the details of the movies.\n",
        "* `tmdb_5000_credits.csv` stores the credits of the making of the movies.\n",
        "\n",
        "---"
      ],
      "metadata": {
        "id": "IpLLyxYgOrH4"
      }
    },
    {
      "cell_type": "markdown",
      "source": [
        "# Preanalyzing Steps\n",
        "\n",
        "To start analyzing our movie data, we first need to set up our environment, import the suitable modules and import our data sets."
      ],
      "metadata": {
        "id": "yyGZk8yjP7cq"
      }
    },
    {
      "cell_type": "markdown",
      "source": [
        "## Setting Up Environment\n",
        "\n",
        "Typically, we will need to install some libraries or modules before importing them into our notebook.\n",
        "\n",
        "```sh\n",
        "pip install numpy pandas seaborn matplotlib\n",
        "```\n",
        "\n",
        "But since this notebook is written in Google Colab, the modules are preinstalled for us.\n",
        "\n",
        "We will be cloning the GitHub repository that contains our movie data set. Link to the GitHub repository at [here](https://github.com/LimJY03/DataVisualization)."
      ],
      "metadata": {
        "id": "3V1wNuntQPJM"
      }
    },
    {
      "cell_type": "code",
      "execution_count": 1,
      "metadata": {
        "colab": {
          "base_uri": "https://localhost:8080/"
        },
        "id": "zZuHHjuiLy7d",
        "outputId": "1ec399be-4b32-4f37-f37e-f10b0b5ec086"
      },
      "outputs": [
        {
          "output_type": "stream",
          "name": "stdout",
          "text": [
            "Cloning into 'DataVisualization'...\n",
            "remote: Enumerating objects: 34, done.\u001b[K\n",
            "remote: Counting objects: 100% (34/34), done.\u001b[K\n",
            "remote: Compressing objects: 100% (29/29), done.\u001b[K\n",
            "remote: Total 34 (delta 3), reused 29 (delta 2), pack-reused 0\u001b[K\n",
            "Unpacking objects: 100% (34/34), done.\n"
          ]
        }
      ],
      "source": [
        "!git clone https://github.com/LimJY03/DataVisualization.git"
      ]
    },
    {
      "cell_type": "markdown",
      "source": [
        "## Importing Modules\n",
        "\n",
        "For this notebook, we will need the following modules:"
      ],
      "metadata": {
        "id": "kvT0vJWSiWYB"
      }
    },
    {
      "cell_type": "code",
      "source": [
        "import numpy as np\n",
        "import pandas as pd\n",
        "import seaborn as sns\n",
        "import matplotlib.pyplot as plt\n",
        "import ast, json\n",
        "\n",
        "from datetime import datetime\n",
        "\n",
        "# To Display Graph in Output\n",
        "%matplotlib inline"
      ],
      "metadata": {
        "id": "H1pCRQ-yjt5p"
      },
      "execution_count": 2,
      "outputs": []
    },
    {
      "cell_type": "markdown",
      "source": [
        "More details on `%matplotlib inline` can be found in [the official documentation](https://ipython.readthedocs.io/en/stable/interactive/plotting.html#id11)."
      ],
      "metadata": {
        "id": "7h-2KaDWlzVd"
      }
    },
    {
      "cell_type": "markdown",
      "source": [
        "## Importing Movie Data Set\n",
        "\n",
        "Now we will load our data set into data frames:"
      ],
      "metadata": {
        "id": "nMRwa4rTmz7R"
      }
    },
    {
      "cell_type": "code",
      "source": [
        "movies_df = pd.read_csv('./DataVisualization/Movie Data Analysis/data/movies.csv')\n",
        "credits_df = pd.read_csv('./DataVisualization/Movie Data Analysis/data/credits.csv')"
      ],
      "metadata": {
        "id": "Lv48mF9zl7DT"
      },
      "execution_count": 3,
      "outputs": []
    },
    {
      "cell_type": "markdown",
      "source": [
        "---"
      ],
      "metadata": {
        "id": "HxSK6yR54ypo"
      }
    },
    {
      "cell_type": "markdown",
      "source": [
        "# Preview Data and Define Questions\n",
        "\n",
        "In this first step, we will look at our data and propose some questions that may be answered with our data."
      ],
      "metadata": {
        "id": "jLVhFZMK9gNG"
      }
    },
    {
      "cell_type": "markdown",
      "source": [
        "## Preview of Data Frames\n",
        "\n",
        "We will start by previewing the first 5 rows of both data frames to get an idea of the contents inside each of them."
      ],
      "metadata": {
        "id": "4jBUJ0620UHn"
      }
    },
    {
      "cell_type": "code",
      "source": [
        "movies_df.head()"
      ],
      "metadata": {
        "colab": {
          "base_uri": "https://localhost:8080/",
          "height": 756
        },
        "id": "jMWyCR0a0P6R",
        "outputId": "f8fec332-f33a-4ba8-ee58-3b45b4eb73ee"
      },
      "execution_count": 4,
      "outputs": [
        {
          "output_type": "execute_result",
          "data": {
            "text/plain": [
              "      budget                                             genres  \\\n",
              "0  237000000  [{\"id\": 28, \"name\": \"Action\"}, {\"id\": 12, \"nam...   \n",
              "1  300000000  [{\"id\": 12, \"name\": \"Adventure\"}, {\"id\": 14, \"...   \n",
              "2  245000000  [{\"id\": 28, \"name\": \"Action\"}, {\"id\": 12, \"nam...   \n",
              "3  250000000  [{\"id\": 28, \"name\": \"Action\"}, {\"id\": 80, \"nam...   \n",
              "4  260000000  [{\"id\": 28, \"name\": \"Action\"}, {\"id\": 12, \"nam...   \n",
              "\n",
              "                                       homepage      id  \\\n",
              "0                   http://www.avatarmovie.com/   19995   \n",
              "1  http://disney.go.com/disneypictures/pirates/     285   \n",
              "2   http://www.sonypictures.com/movies/spectre/  206647   \n",
              "3            http://www.thedarkknightrises.com/   49026   \n",
              "4          http://movies.disney.com/john-carter   49529   \n",
              "\n",
              "                                            keywords original_language  \\\n",
              "0  [{\"id\": 1463, \"name\": \"culture clash\"}, {\"id\":...                en   \n",
              "1  [{\"id\": 270, \"name\": \"ocean\"}, {\"id\": 726, \"na...                en   \n",
              "2  [{\"id\": 470, \"name\": \"spy\"}, {\"id\": 818, \"name...                en   \n",
              "3  [{\"id\": 849, \"name\": \"dc comics\"}, {\"id\": 853,...                en   \n",
              "4  [{\"id\": 818, \"name\": \"based on novel\"}, {\"id\":...                en   \n",
              "\n",
              "                             original_title  \\\n",
              "0                                    Avatar   \n",
              "1  Pirates of the Caribbean: At World's End   \n",
              "2                                   Spectre   \n",
              "3                     The Dark Knight Rises   \n",
              "4                               John Carter   \n",
              "\n",
              "                                            overview  popularity  \\\n",
              "0  In the 22nd century, a paraplegic Marine is di...  150.437577   \n",
              "1  Captain Barbossa, long believed to be dead, ha...  139.082615   \n",
              "2  A cryptic message from Bond’s past sends him o...  107.376788   \n",
              "3  Following the death of District Attorney Harve...  112.312950   \n",
              "4  John Carter is a war-weary, former military ca...   43.926995   \n",
              "\n",
              "                                production_companies  \\\n",
              "0  [{\"name\": \"Ingenious Film Partners\", \"id\": 289...   \n",
              "1  [{\"name\": \"Walt Disney Pictures\", \"id\": 2}, {\"...   \n",
              "2  [{\"name\": \"Columbia Pictures\", \"id\": 5}, {\"nam...   \n",
              "3  [{\"name\": \"Legendary Pictures\", \"id\": 923}, {\"...   \n",
              "4        [{\"name\": \"Walt Disney Pictures\", \"id\": 2}]   \n",
              "\n",
              "                                production_countries release_date     revenue  \\\n",
              "0  [{\"iso_3166_1\": \"US\", \"name\": \"United States o...   2009-12-10  2787965087   \n",
              "1  [{\"iso_3166_1\": \"US\", \"name\": \"United States o...   2007-05-19   961000000   \n",
              "2  [{\"iso_3166_1\": \"GB\", \"name\": \"United Kingdom\"...   2015-10-26   880674609   \n",
              "3  [{\"iso_3166_1\": \"US\", \"name\": \"United States o...   2012-07-16  1084939099   \n",
              "4  [{\"iso_3166_1\": \"US\", \"name\": \"United States o...   2012-03-07   284139100   \n",
              "\n",
              "   runtime                                   spoken_languages    status  \\\n",
              "0    162.0  [{\"iso_639_1\": \"en\", \"name\": \"English\"}, {\"iso...  Released   \n",
              "1    169.0           [{\"iso_639_1\": \"en\", \"name\": \"English\"}]  Released   \n",
              "2    148.0  [{\"iso_639_1\": \"fr\", \"name\": \"Fran\\u00e7ais\"},...  Released   \n",
              "3    165.0           [{\"iso_639_1\": \"en\", \"name\": \"English\"}]  Released   \n",
              "4    132.0           [{\"iso_639_1\": \"en\", \"name\": \"English\"}]  Released   \n",
              "\n",
              "                                          tagline  \\\n",
              "0                     Enter the World of Pandora.   \n",
              "1  At the end of the world, the adventure begins.   \n",
              "2                           A Plan No One Escapes   \n",
              "3                                 The Legend Ends   \n",
              "4            Lost in our world, found in another.   \n",
              "\n",
              "                                      title  vote_average  vote_count  \n",
              "0                                    Avatar           7.2       11800  \n",
              "1  Pirates of the Caribbean: At World's End           6.9        4500  \n",
              "2                                   Spectre           6.3        4466  \n",
              "3                     The Dark Knight Rises           7.6        9106  \n",
              "4                               John Carter           6.1        2124  "
            ],
            "text/html": [
              "\n",
              "  <div id=\"df-3a3aea61-ecd8-482b-8dcb-66d2b83a8384\">\n",
              "    <div class=\"colab-df-container\">\n",
              "      <div>\n",
              "<style scoped>\n",
              "    .dataframe tbody tr th:only-of-type {\n",
              "        vertical-align: middle;\n",
              "    }\n",
              "\n",
              "    .dataframe tbody tr th {\n",
              "        vertical-align: top;\n",
              "    }\n",
              "\n",
              "    .dataframe thead th {\n",
              "        text-align: right;\n",
              "    }\n",
              "</style>\n",
              "<table border=\"1\" class=\"dataframe\">\n",
              "  <thead>\n",
              "    <tr style=\"text-align: right;\">\n",
              "      <th></th>\n",
              "      <th>budget</th>\n",
              "      <th>genres</th>\n",
              "      <th>homepage</th>\n",
              "      <th>id</th>\n",
              "      <th>keywords</th>\n",
              "      <th>original_language</th>\n",
              "      <th>original_title</th>\n",
              "      <th>overview</th>\n",
              "      <th>popularity</th>\n",
              "      <th>production_companies</th>\n",
              "      <th>production_countries</th>\n",
              "      <th>release_date</th>\n",
              "      <th>revenue</th>\n",
              "      <th>runtime</th>\n",
              "      <th>spoken_languages</th>\n",
              "      <th>status</th>\n",
              "      <th>tagline</th>\n",
              "      <th>title</th>\n",
              "      <th>vote_average</th>\n",
              "      <th>vote_count</th>\n",
              "    </tr>\n",
              "  </thead>\n",
              "  <tbody>\n",
              "    <tr>\n",
              "      <th>0</th>\n",
              "      <td>237000000</td>\n",
              "      <td>[{\"id\": 28, \"name\": \"Action\"}, {\"id\": 12, \"nam...</td>\n",
              "      <td>http://www.avatarmovie.com/</td>\n",
              "      <td>19995</td>\n",
              "      <td>[{\"id\": 1463, \"name\": \"culture clash\"}, {\"id\":...</td>\n",
              "      <td>en</td>\n",
              "      <td>Avatar</td>\n",
              "      <td>In the 22nd century, a paraplegic Marine is di...</td>\n",
              "      <td>150.437577</td>\n",
              "      <td>[{\"name\": \"Ingenious Film Partners\", \"id\": 289...</td>\n",
              "      <td>[{\"iso_3166_1\": \"US\", \"name\": \"United States o...</td>\n",
              "      <td>2009-12-10</td>\n",
              "      <td>2787965087</td>\n",
              "      <td>162.0</td>\n",
              "      <td>[{\"iso_639_1\": \"en\", \"name\": \"English\"}, {\"iso...</td>\n",
              "      <td>Released</td>\n",
              "      <td>Enter the World of Pandora.</td>\n",
              "      <td>Avatar</td>\n",
              "      <td>7.2</td>\n",
              "      <td>11800</td>\n",
              "    </tr>\n",
              "    <tr>\n",
              "      <th>1</th>\n",
              "      <td>300000000</td>\n",
              "      <td>[{\"id\": 12, \"name\": \"Adventure\"}, {\"id\": 14, \"...</td>\n",
              "      <td>http://disney.go.com/disneypictures/pirates/</td>\n",
              "      <td>285</td>\n",
              "      <td>[{\"id\": 270, \"name\": \"ocean\"}, {\"id\": 726, \"na...</td>\n",
              "      <td>en</td>\n",
              "      <td>Pirates of the Caribbean: At World's End</td>\n",
              "      <td>Captain Barbossa, long believed to be dead, ha...</td>\n",
              "      <td>139.082615</td>\n",
              "      <td>[{\"name\": \"Walt Disney Pictures\", \"id\": 2}, {\"...</td>\n",
              "      <td>[{\"iso_3166_1\": \"US\", \"name\": \"United States o...</td>\n",
              "      <td>2007-05-19</td>\n",
              "      <td>961000000</td>\n",
              "      <td>169.0</td>\n",
              "      <td>[{\"iso_639_1\": \"en\", \"name\": \"English\"}]</td>\n",
              "      <td>Released</td>\n",
              "      <td>At the end of the world, the adventure begins.</td>\n",
              "      <td>Pirates of the Caribbean: At World's End</td>\n",
              "      <td>6.9</td>\n",
              "      <td>4500</td>\n",
              "    </tr>\n",
              "    <tr>\n",
              "      <th>2</th>\n",
              "      <td>245000000</td>\n",
              "      <td>[{\"id\": 28, \"name\": \"Action\"}, {\"id\": 12, \"nam...</td>\n",
              "      <td>http://www.sonypictures.com/movies/spectre/</td>\n",
              "      <td>206647</td>\n",
              "      <td>[{\"id\": 470, \"name\": \"spy\"}, {\"id\": 818, \"name...</td>\n",
              "      <td>en</td>\n",
              "      <td>Spectre</td>\n",
              "      <td>A cryptic message from Bond’s past sends him o...</td>\n",
              "      <td>107.376788</td>\n",
              "      <td>[{\"name\": \"Columbia Pictures\", \"id\": 5}, {\"nam...</td>\n",
              "      <td>[{\"iso_3166_1\": \"GB\", \"name\": \"United Kingdom\"...</td>\n",
              "      <td>2015-10-26</td>\n",
              "      <td>880674609</td>\n",
              "      <td>148.0</td>\n",
              "      <td>[{\"iso_639_1\": \"fr\", \"name\": \"Fran\\u00e7ais\"},...</td>\n",
              "      <td>Released</td>\n",
              "      <td>A Plan No One Escapes</td>\n",
              "      <td>Spectre</td>\n",
              "      <td>6.3</td>\n",
              "      <td>4466</td>\n",
              "    </tr>\n",
              "    <tr>\n",
              "      <th>3</th>\n",
              "      <td>250000000</td>\n",
              "      <td>[{\"id\": 28, \"name\": \"Action\"}, {\"id\": 80, \"nam...</td>\n",
              "      <td>http://www.thedarkknightrises.com/</td>\n",
              "      <td>49026</td>\n",
              "      <td>[{\"id\": 849, \"name\": \"dc comics\"}, {\"id\": 853,...</td>\n",
              "      <td>en</td>\n",
              "      <td>The Dark Knight Rises</td>\n",
              "      <td>Following the death of District Attorney Harve...</td>\n",
              "      <td>112.312950</td>\n",
              "      <td>[{\"name\": \"Legendary Pictures\", \"id\": 923}, {\"...</td>\n",
              "      <td>[{\"iso_3166_1\": \"US\", \"name\": \"United States o...</td>\n",
              "      <td>2012-07-16</td>\n",
              "      <td>1084939099</td>\n",
              "      <td>165.0</td>\n",
              "      <td>[{\"iso_639_1\": \"en\", \"name\": \"English\"}]</td>\n",
              "      <td>Released</td>\n",
              "      <td>The Legend Ends</td>\n",
              "      <td>The Dark Knight Rises</td>\n",
              "      <td>7.6</td>\n",
              "      <td>9106</td>\n",
              "    </tr>\n",
              "    <tr>\n",
              "      <th>4</th>\n",
              "      <td>260000000</td>\n",
              "      <td>[{\"id\": 28, \"name\": \"Action\"}, {\"id\": 12, \"nam...</td>\n",
              "      <td>http://movies.disney.com/john-carter</td>\n",
              "      <td>49529</td>\n",
              "      <td>[{\"id\": 818, \"name\": \"based on novel\"}, {\"id\":...</td>\n",
              "      <td>en</td>\n",
              "      <td>John Carter</td>\n",
              "      <td>John Carter is a war-weary, former military ca...</td>\n",
              "      <td>43.926995</td>\n",
              "      <td>[{\"name\": \"Walt Disney Pictures\", \"id\": 2}]</td>\n",
              "      <td>[{\"iso_3166_1\": \"US\", \"name\": \"United States o...</td>\n",
              "      <td>2012-03-07</td>\n",
              "      <td>284139100</td>\n",
              "      <td>132.0</td>\n",
              "      <td>[{\"iso_639_1\": \"en\", \"name\": \"English\"}]</td>\n",
              "      <td>Released</td>\n",
              "      <td>Lost in our world, found in another.</td>\n",
              "      <td>John Carter</td>\n",
              "      <td>6.1</td>\n",
              "      <td>2124</td>\n",
              "    </tr>\n",
              "  </tbody>\n",
              "</table>\n",
              "</div>\n",
              "      <button class=\"colab-df-convert\" onclick=\"convertToInteractive('df-3a3aea61-ecd8-482b-8dcb-66d2b83a8384')\"\n",
              "              title=\"Convert this dataframe to an interactive table.\"\n",
              "              style=\"display:none;\">\n",
              "        \n",
              "  <svg xmlns=\"http://www.w3.org/2000/svg\" height=\"24px\"viewBox=\"0 0 24 24\"\n",
              "       width=\"24px\">\n",
              "    <path d=\"M0 0h24v24H0V0z\" fill=\"none\"/>\n",
              "    <path d=\"M18.56 5.44l.94 2.06.94-2.06 2.06-.94-2.06-.94-.94-2.06-.94 2.06-2.06.94zm-11 1L8.5 8.5l.94-2.06 2.06-.94-2.06-.94L8.5 2.5l-.94 2.06-2.06.94zm10 10l.94 2.06.94-2.06 2.06-.94-2.06-.94-.94-2.06-.94 2.06-2.06.94z\"/><path d=\"M17.41 7.96l-1.37-1.37c-.4-.4-.92-.59-1.43-.59-.52 0-1.04.2-1.43.59L10.3 9.45l-7.72 7.72c-.78.78-.78 2.05 0 2.83L4 21.41c.39.39.9.59 1.41.59.51 0 1.02-.2 1.41-.59l7.78-7.78 2.81-2.81c.8-.78.8-2.07 0-2.86zM5.41 20L4 18.59l7.72-7.72 1.47 1.35L5.41 20z\"/>\n",
              "  </svg>\n",
              "      </button>\n",
              "      \n",
              "  <style>\n",
              "    .colab-df-container {\n",
              "      display:flex;\n",
              "      flex-wrap:wrap;\n",
              "      gap: 12px;\n",
              "    }\n",
              "\n",
              "    .colab-df-convert {\n",
              "      background-color: #E8F0FE;\n",
              "      border: none;\n",
              "      border-radius: 50%;\n",
              "      cursor: pointer;\n",
              "      display: none;\n",
              "      fill: #1967D2;\n",
              "      height: 32px;\n",
              "      padding: 0 0 0 0;\n",
              "      width: 32px;\n",
              "    }\n",
              "\n",
              "    .colab-df-convert:hover {\n",
              "      background-color: #E2EBFA;\n",
              "      box-shadow: 0px 1px 2px rgba(60, 64, 67, 0.3), 0px 1px 3px 1px rgba(60, 64, 67, 0.15);\n",
              "      fill: #174EA6;\n",
              "    }\n",
              "\n",
              "    [theme=dark] .colab-df-convert {\n",
              "      background-color: #3B4455;\n",
              "      fill: #D2E3FC;\n",
              "    }\n",
              "\n",
              "    [theme=dark] .colab-df-convert:hover {\n",
              "      background-color: #434B5C;\n",
              "      box-shadow: 0px 1px 3px 1px rgba(0, 0, 0, 0.15);\n",
              "      filter: drop-shadow(0px 1px 2px rgba(0, 0, 0, 0.3));\n",
              "      fill: #FFFFFF;\n",
              "    }\n",
              "  </style>\n",
              "\n",
              "      <script>\n",
              "        const buttonEl =\n",
              "          document.querySelector('#df-3a3aea61-ecd8-482b-8dcb-66d2b83a8384 button.colab-df-convert');\n",
              "        buttonEl.style.display =\n",
              "          google.colab.kernel.accessAllowed ? 'block' : 'none';\n",
              "\n",
              "        async function convertToInteractive(key) {\n",
              "          const element = document.querySelector('#df-3a3aea61-ecd8-482b-8dcb-66d2b83a8384');\n",
              "          const dataTable =\n",
              "            await google.colab.kernel.invokeFunction('convertToInteractive',\n",
              "                                                     [key], {});\n",
              "          if (!dataTable) return;\n",
              "\n",
              "          const docLinkHtml = 'Like what you see? Visit the ' +\n",
              "            '<a target=\"_blank\" href=https://colab.research.google.com/notebooks/data_table.ipynb>data table notebook</a>'\n",
              "            + ' to learn more about interactive tables.';\n",
              "          element.innerHTML = '';\n",
              "          dataTable['output_type'] = 'display_data';\n",
              "          await google.colab.output.renderOutput(dataTable, element);\n",
              "          const docLink = document.createElement('div');\n",
              "          docLink.innerHTML = docLinkHtml;\n",
              "          element.appendChild(docLink);\n",
              "        }\n",
              "      </script>\n",
              "    </div>\n",
              "  </div>\n",
              "  "
            ]
          },
          "metadata": {},
          "execution_count": 4
        }
      ]
    },
    {
      "cell_type": "code",
      "source": [
        "credits_df.head()"
      ],
      "metadata": {
        "colab": {
          "base_uri": "https://localhost:8080/",
          "height": 206
        },
        "id": "ZBThqYcQ0u3H",
        "outputId": "baf068ab-cac0-4bbd-af18-011f13e2e713"
      },
      "execution_count": 5,
      "outputs": [
        {
          "output_type": "execute_result",
          "data": {
            "text/plain": [
              "   movie_id                                     title  \\\n",
              "0     19995                                    Avatar   \n",
              "1       285  Pirates of the Caribbean: At World's End   \n",
              "2    206647                                   Spectre   \n",
              "3     49026                     The Dark Knight Rises   \n",
              "4     49529                               John Carter   \n",
              "\n",
              "                                                cast  \\\n",
              "0  [{\"cast_id\": 242, \"character\": \"Jake Sully\", \"...   \n",
              "1  [{\"cast_id\": 4, \"character\": \"Captain Jack Spa...   \n",
              "2  [{\"cast_id\": 1, \"character\": \"James Bond\", \"cr...   \n",
              "3  [{\"cast_id\": 2, \"character\": \"Bruce Wayne / Ba...   \n",
              "4  [{\"cast_id\": 5, \"character\": \"John Carter\", \"c...   \n",
              "\n",
              "                                                crew  \n",
              "0  [{\"credit_id\": \"52fe48009251416c750aca23\", \"de...  \n",
              "1  [{\"credit_id\": \"52fe4232c3a36847f800b579\", \"de...  \n",
              "2  [{\"credit_id\": \"54805967c3a36829b5002c41\", \"de...  \n",
              "3  [{\"credit_id\": \"52fe4781c3a36847f81398c3\", \"de...  \n",
              "4  [{\"credit_id\": \"52fe479ac3a36847f813eaa3\", \"de...  "
            ],
            "text/html": [
              "\n",
              "  <div id=\"df-7d336cd1-573d-4fdf-8348-20535a4609a7\">\n",
              "    <div class=\"colab-df-container\">\n",
              "      <div>\n",
              "<style scoped>\n",
              "    .dataframe tbody tr th:only-of-type {\n",
              "        vertical-align: middle;\n",
              "    }\n",
              "\n",
              "    .dataframe tbody tr th {\n",
              "        vertical-align: top;\n",
              "    }\n",
              "\n",
              "    .dataframe thead th {\n",
              "        text-align: right;\n",
              "    }\n",
              "</style>\n",
              "<table border=\"1\" class=\"dataframe\">\n",
              "  <thead>\n",
              "    <tr style=\"text-align: right;\">\n",
              "      <th></th>\n",
              "      <th>movie_id</th>\n",
              "      <th>title</th>\n",
              "      <th>cast</th>\n",
              "      <th>crew</th>\n",
              "    </tr>\n",
              "  </thead>\n",
              "  <tbody>\n",
              "    <tr>\n",
              "      <th>0</th>\n",
              "      <td>19995</td>\n",
              "      <td>Avatar</td>\n",
              "      <td>[{\"cast_id\": 242, \"character\": \"Jake Sully\", \"...</td>\n",
              "      <td>[{\"credit_id\": \"52fe48009251416c750aca23\", \"de...</td>\n",
              "    </tr>\n",
              "    <tr>\n",
              "      <th>1</th>\n",
              "      <td>285</td>\n",
              "      <td>Pirates of the Caribbean: At World's End</td>\n",
              "      <td>[{\"cast_id\": 4, \"character\": \"Captain Jack Spa...</td>\n",
              "      <td>[{\"credit_id\": \"52fe4232c3a36847f800b579\", \"de...</td>\n",
              "    </tr>\n",
              "    <tr>\n",
              "      <th>2</th>\n",
              "      <td>206647</td>\n",
              "      <td>Spectre</td>\n",
              "      <td>[{\"cast_id\": 1, \"character\": \"James Bond\", \"cr...</td>\n",
              "      <td>[{\"credit_id\": \"54805967c3a36829b5002c41\", \"de...</td>\n",
              "    </tr>\n",
              "    <tr>\n",
              "      <th>3</th>\n",
              "      <td>49026</td>\n",
              "      <td>The Dark Knight Rises</td>\n",
              "      <td>[{\"cast_id\": 2, \"character\": \"Bruce Wayne / Ba...</td>\n",
              "      <td>[{\"credit_id\": \"52fe4781c3a36847f81398c3\", \"de...</td>\n",
              "    </tr>\n",
              "    <tr>\n",
              "      <th>4</th>\n",
              "      <td>49529</td>\n",
              "      <td>John Carter</td>\n",
              "      <td>[{\"cast_id\": 5, \"character\": \"John Carter\", \"c...</td>\n",
              "      <td>[{\"credit_id\": \"52fe479ac3a36847f813eaa3\", \"de...</td>\n",
              "    </tr>\n",
              "  </tbody>\n",
              "</table>\n",
              "</div>\n",
              "      <button class=\"colab-df-convert\" onclick=\"convertToInteractive('df-7d336cd1-573d-4fdf-8348-20535a4609a7')\"\n",
              "              title=\"Convert this dataframe to an interactive table.\"\n",
              "              style=\"display:none;\">\n",
              "        \n",
              "  <svg xmlns=\"http://www.w3.org/2000/svg\" height=\"24px\"viewBox=\"0 0 24 24\"\n",
              "       width=\"24px\">\n",
              "    <path d=\"M0 0h24v24H0V0z\" fill=\"none\"/>\n",
              "    <path d=\"M18.56 5.44l.94 2.06.94-2.06 2.06-.94-2.06-.94-.94-2.06-.94 2.06-2.06.94zm-11 1L8.5 8.5l.94-2.06 2.06-.94-2.06-.94L8.5 2.5l-.94 2.06-2.06.94zm10 10l.94 2.06.94-2.06 2.06-.94-2.06-.94-.94-2.06-.94 2.06-2.06.94z\"/><path d=\"M17.41 7.96l-1.37-1.37c-.4-.4-.92-.59-1.43-.59-.52 0-1.04.2-1.43.59L10.3 9.45l-7.72 7.72c-.78.78-.78 2.05 0 2.83L4 21.41c.39.39.9.59 1.41.59.51 0 1.02-.2 1.41-.59l7.78-7.78 2.81-2.81c.8-.78.8-2.07 0-2.86zM5.41 20L4 18.59l7.72-7.72 1.47 1.35L5.41 20z\"/>\n",
              "  </svg>\n",
              "      </button>\n",
              "      \n",
              "  <style>\n",
              "    .colab-df-container {\n",
              "      display:flex;\n",
              "      flex-wrap:wrap;\n",
              "      gap: 12px;\n",
              "    }\n",
              "\n",
              "    .colab-df-convert {\n",
              "      background-color: #E8F0FE;\n",
              "      border: none;\n",
              "      border-radius: 50%;\n",
              "      cursor: pointer;\n",
              "      display: none;\n",
              "      fill: #1967D2;\n",
              "      height: 32px;\n",
              "      padding: 0 0 0 0;\n",
              "      width: 32px;\n",
              "    }\n",
              "\n",
              "    .colab-df-convert:hover {\n",
              "      background-color: #E2EBFA;\n",
              "      box-shadow: 0px 1px 2px rgba(60, 64, 67, 0.3), 0px 1px 3px 1px rgba(60, 64, 67, 0.15);\n",
              "      fill: #174EA6;\n",
              "    }\n",
              "\n",
              "    [theme=dark] .colab-df-convert {\n",
              "      background-color: #3B4455;\n",
              "      fill: #D2E3FC;\n",
              "    }\n",
              "\n",
              "    [theme=dark] .colab-df-convert:hover {\n",
              "      background-color: #434B5C;\n",
              "      box-shadow: 0px 1px 3px 1px rgba(0, 0, 0, 0.15);\n",
              "      filter: drop-shadow(0px 1px 2px rgba(0, 0, 0, 0.3));\n",
              "      fill: #FFFFFF;\n",
              "    }\n",
              "  </style>\n",
              "\n",
              "      <script>\n",
              "        const buttonEl =\n",
              "          document.querySelector('#df-7d336cd1-573d-4fdf-8348-20535a4609a7 button.colab-df-convert');\n",
              "        buttonEl.style.display =\n",
              "          google.colab.kernel.accessAllowed ? 'block' : 'none';\n",
              "\n",
              "        async function convertToInteractive(key) {\n",
              "          const element = document.querySelector('#df-7d336cd1-573d-4fdf-8348-20535a4609a7');\n",
              "          const dataTable =\n",
              "            await google.colab.kernel.invokeFunction('convertToInteractive',\n",
              "                                                     [key], {});\n",
              "          if (!dataTable) return;\n",
              "\n",
              "          const docLinkHtml = 'Like what you see? Visit the ' +\n",
              "            '<a target=\"_blank\" href=https://colab.research.google.com/notebooks/data_table.ipynb>data table notebook</a>'\n",
              "            + ' to learn more about interactive tables.';\n",
              "          element.innerHTML = '';\n",
              "          dataTable['output_type'] = 'display_data';\n",
              "          await google.colab.output.renderOutput(dataTable, element);\n",
              "          const docLink = document.createElement('div');\n",
              "          docLink.innerHTML = docLinkHtml;\n",
              "          element.appendChild(docLink);\n",
              "        }\n",
              "      </script>\n",
              "    </div>\n",
              "  </div>\n",
              "  "
            ]
          },
          "metadata": {},
          "execution_count": 5
        }
      ]
    },
    {
      "cell_type": "markdown",
      "source": [
        "We can join both data frames together since they share the same ID so we will only be dealing with one data frame afterwards."
      ],
      "metadata": {
        "id": "Frx53P_l5OfS"
      }
    },
    {
      "cell_type": "code",
      "source": [
        "# Left join both data frames and give suffixes to duplicated columns in credits_df\n",
        "movie_data = pd.merge(movies_df, credits_df, how='left', left_on='id', right_on='movie_id', suffixes=('', '_duplicate'))"
      ],
      "metadata": {
        "id": "R774rtpr5XsU"
      },
      "execution_count": 6,
      "outputs": []
    },
    {
      "cell_type": "markdown",
      "source": [
        "Now we will look at the resulting data frame:"
      ],
      "metadata": {
        "id": "3c686u2b6jDa"
      }
    },
    {
      "cell_type": "code",
      "source": [
        "movie_data.head()"
      ],
      "metadata": {
        "colab": {
          "base_uri": "https://localhost:8080/",
          "height": 786
        },
        "id": "JY_vQ42q6vL1",
        "outputId": "0b32e99a-2c0a-425b-8701-8bf3332f1dc1"
      },
      "execution_count": 7,
      "outputs": [
        {
          "output_type": "execute_result",
          "data": {
            "text/plain": [
              "      budget                                             genres  \\\n",
              "0  237000000  [{\"id\": 28, \"name\": \"Action\"}, {\"id\": 12, \"nam...   \n",
              "1  300000000  [{\"id\": 12, \"name\": \"Adventure\"}, {\"id\": 14, \"...   \n",
              "2  245000000  [{\"id\": 28, \"name\": \"Action\"}, {\"id\": 12, \"nam...   \n",
              "3  250000000  [{\"id\": 28, \"name\": \"Action\"}, {\"id\": 80, \"nam...   \n",
              "4  260000000  [{\"id\": 28, \"name\": \"Action\"}, {\"id\": 12, \"nam...   \n",
              "\n",
              "                                       homepage      id  \\\n",
              "0                   http://www.avatarmovie.com/   19995   \n",
              "1  http://disney.go.com/disneypictures/pirates/     285   \n",
              "2   http://www.sonypictures.com/movies/spectre/  206647   \n",
              "3            http://www.thedarkknightrises.com/   49026   \n",
              "4          http://movies.disney.com/john-carter   49529   \n",
              "\n",
              "                                            keywords original_language  \\\n",
              "0  [{\"id\": 1463, \"name\": \"culture clash\"}, {\"id\":...                en   \n",
              "1  [{\"id\": 270, \"name\": \"ocean\"}, {\"id\": 726, \"na...                en   \n",
              "2  [{\"id\": 470, \"name\": \"spy\"}, {\"id\": 818, \"name...                en   \n",
              "3  [{\"id\": 849, \"name\": \"dc comics\"}, {\"id\": 853,...                en   \n",
              "4  [{\"id\": 818, \"name\": \"based on novel\"}, {\"id\":...                en   \n",
              "\n",
              "                             original_title  \\\n",
              "0                                    Avatar   \n",
              "1  Pirates of the Caribbean: At World's End   \n",
              "2                                   Spectre   \n",
              "3                     The Dark Knight Rises   \n",
              "4                               John Carter   \n",
              "\n",
              "                                            overview  popularity  \\\n",
              "0  In the 22nd century, a paraplegic Marine is di...  150.437577   \n",
              "1  Captain Barbossa, long believed to be dead, ha...  139.082615   \n",
              "2  A cryptic message from Bond’s past sends him o...  107.376788   \n",
              "3  Following the death of District Attorney Harve...  112.312950   \n",
              "4  John Carter is a war-weary, former military ca...   43.926995   \n",
              "\n",
              "                                production_companies  ...  \\\n",
              "0  [{\"name\": \"Ingenious Film Partners\", \"id\": 289...  ...   \n",
              "1  [{\"name\": \"Walt Disney Pictures\", \"id\": 2}, {\"...  ...   \n",
              "2  [{\"name\": \"Columbia Pictures\", \"id\": 5}, {\"nam...  ...   \n",
              "3  [{\"name\": \"Legendary Pictures\", \"id\": 923}, {\"...  ...   \n",
              "4        [{\"name\": \"Walt Disney Pictures\", \"id\": 2}]  ...   \n",
              "\n",
              "                                    spoken_languages    status  \\\n",
              "0  [{\"iso_639_1\": \"en\", \"name\": \"English\"}, {\"iso...  Released   \n",
              "1           [{\"iso_639_1\": \"en\", \"name\": \"English\"}]  Released   \n",
              "2  [{\"iso_639_1\": \"fr\", \"name\": \"Fran\\u00e7ais\"},...  Released   \n",
              "3           [{\"iso_639_1\": \"en\", \"name\": \"English\"}]  Released   \n",
              "4           [{\"iso_639_1\": \"en\", \"name\": \"English\"}]  Released   \n",
              "\n",
              "                                          tagline  \\\n",
              "0                     Enter the World of Pandora.   \n",
              "1  At the end of the world, the adventure begins.   \n",
              "2                           A Plan No One Escapes   \n",
              "3                                 The Legend Ends   \n",
              "4            Lost in our world, found in another.   \n",
              "\n",
              "                                      title vote_average vote_count movie_id  \\\n",
              "0                                    Avatar          7.2      11800    19995   \n",
              "1  Pirates of the Caribbean: At World's End          6.9       4500      285   \n",
              "2                                   Spectre          6.3       4466   206647   \n",
              "3                     The Dark Knight Rises          7.6       9106    49026   \n",
              "4                               John Carter          6.1       2124    49529   \n",
              "\n",
              "                            title_duplicate  \\\n",
              "0                                    Avatar   \n",
              "1  Pirates of the Caribbean: At World's End   \n",
              "2                                   Spectre   \n",
              "3                     The Dark Knight Rises   \n",
              "4                               John Carter   \n",
              "\n",
              "                                                cast  \\\n",
              "0  [{\"cast_id\": 242, \"character\": \"Jake Sully\", \"...   \n",
              "1  [{\"cast_id\": 4, \"character\": \"Captain Jack Spa...   \n",
              "2  [{\"cast_id\": 1, \"character\": \"James Bond\", \"cr...   \n",
              "3  [{\"cast_id\": 2, \"character\": \"Bruce Wayne / Ba...   \n",
              "4  [{\"cast_id\": 5, \"character\": \"John Carter\", \"c...   \n",
              "\n",
              "                                                crew  \n",
              "0  [{\"credit_id\": \"52fe48009251416c750aca23\", \"de...  \n",
              "1  [{\"credit_id\": \"52fe4232c3a36847f800b579\", \"de...  \n",
              "2  [{\"credit_id\": \"54805967c3a36829b5002c41\", \"de...  \n",
              "3  [{\"credit_id\": \"52fe4781c3a36847f81398c3\", \"de...  \n",
              "4  [{\"credit_id\": \"52fe479ac3a36847f813eaa3\", \"de...  \n",
              "\n",
              "[5 rows x 24 columns]"
            ],
            "text/html": [
              "\n",
              "  <div id=\"df-9ded2d3e-e100-48e5-bdc2-c2115323ea85\">\n",
              "    <div class=\"colab-df-container\">\n",
              "      <div>\n",
              "<style scoped>\n",
              "    .dataframe tbody tr th:only-of-type {\n",
              "        vertical-align: middle;\n",
              "    }\n",
              "\n",
              "    .dataframe tbody tr th {\n",
              "        vertical-align: top;\n",
              "    }\n",
              "\n",
              "    .dataframe thead th {\n",
              "        text-align: right;\n",
              "    }\n",
              "</style>\n",
              "<table border=\"1\" class=\"dataframe\">\n",
              "  <thead>\n",
              "    <tr style=\"text-align: right;\">\n",
              "      <th></th>\n",
              "      <th>budget</th>\n",
              "      <th>genres</th>\n",
              "      <th>homepage</th>\n",
              "      <th>id</th>\n",
              "      <th>keywords</th>\n",
              "      <th>original_language</th>\n",
              "      <th>original_title</th>\n",
              "      <th>overview</th>\n",
              "      <th>popularity</th>\n",
              "      <th>production_companies</th>\n",
              "      <th>...</th>\n",
              "      <th>spoken_languages</th>\n",
              "      <th>status</th>\n",
              "      <th>tagline</th>\n",
              "      <th>title</th>\n",
              "      <th>vote_average</th>\n",
              "      <th>vote_count</th>\n",
              "      <th>movie_id</th>\n",
              "      <th>title_duplicate</th>\n",
              "      <th>cast</th>\n",
              "      <th>crew</th>\n",
              "    </tr>\n",
              "  </thead>\n",
              "  <tbody>\n",
              "    <tr>\n",
              "      <th>0</th>\n",
              "      <td>237000000</td>\n",
              "      <td>[{\"id\": 28, \"name\": \"Action\"}, {\"id\": 12, \"nam...</td>\n",
              "      <td>http://www.avatarmovie.com/</td>\n",
              "      <td>19995</td>\n",
              "      <td>[{\"id\": 1463, \"name\": \"culture clash\"}, {\"id\":...</td>\n",
              "      <td>en</td>\n",
              "      <td>Avatar</td>\n",
              "      <td>In the 22nd century, a paraplegic Marine is di...</td>\n",
              "      <td>150.437577</td>\n",
              "      <td>[{\"name\": \"Ingenious Film Partners\", \"id\": 289...</td>\n",
              "      <td>...</td>\n",
              "      <td>[{\"iso_639_1\": \"en\", \"name\": \"English\"}, {\"iso...</td>\n",
              "      <td>Released</td>\n",
              "      <td>Enter the World of Pandora.</td>\n",
              "      <td>Avatar</td>\n",
              "      <td>7.2</td>\n",
              "      <td>11800</td>\n",
              "      <td>19995</td>\n",
              "      <td>Avatar</td>\n",
              "      <td>[{\"cast_id\": 242, \"character\": \"Jake Sully\", \"...</td>\n",
              "      <td>[{\"credit_id\": \"52fe48009251416c750aca23\", \"de...</td>\n",
              "    </tr>\n",
              "    <tr>\n",
              "      <th>1</th>\n",
              "      <td>300000000</td>\n",
              "      <td>[{\"id\": 12, \"name\": \"Adventure\"}, {\"id\": 14, \"...</td>\n",
              "      <td>http://disney.go.com/disneypictures/pirates/</td>\n",
              "      <td>285</td>\n",
              "      <td>[{\"id\": 270, \"name\": \"ocean\"}, {\"id\": 726, \"na...</td>\n",
              "      <td>en</td>\n",
              "      <td>Pirates of the Caribbean: At World's End</td>\n",
              "      <td>Captain Barbossa, long believed to be dead, ha...</td>\n",
              "      <td>139.082615</td>\n",
              "      <td>[{\"name\": \"Walt Disney Pictures\", \"id\": 2}, {\"...</td>\n",
              "      <td>...</td>\n",
              "      <td>[{\"iso_639_1\": \"en\", \"name\": \"English\"}]</td>\n",
              "      <td>Released</td>\n",
              "      <td>At the end of the world, the adventure begins.</td>\n",
              "      <td>Pirates of the Caribbean: At World's End</td>\n",
              "      <td>6.9</td>\n",
              "      <td>4500</td>\n",
              "      <td>285</td>\n",
              "      <td>Pirates of the Caribbean: At World's End</td>\n",
              "      <td>[{\"cast_id\": 4, \"character\": \"Captain Jack Spa...</td>\n",
              "      <td>[{\"credit_id\": \"52fe4232c3a36847f800b579\", \"de...</td>\n",
              "    </tr>\n",
              "    <tr>\n",
              "      <th>2</th>\n",
              "      <td>245000000</td>\n",
              "      <td>[{\"id\": 28, \"name\": \"Action\"}, {\"id\": 12, \"nam...</td>\n",
              "      <td>http://www.sonypictures.com/movies/spectre/</td>\n",
              "      <td>206647</td>\n",
              "      <td>[{\"id\": 470, \"name\": \"spy\"}, {\"id\": 818, \"name...</td>\n",
              "      <td>en</td>\n",
              "      <td>Spectre</td>\n",
              "      <td>A cryptic message from Bond’s past sends him o...</td>\n",
              "      <td>107.376788</td>\n",
              "      <td>[{\"name\": \"Columbia Pictures\", \"id\": 5}, {\"nam...</td>\n",
              "      <td>...</td>\n",
              "      <td>[{\"iso_639_1\": \"fr\", \"name\": \"Fran\\u00e7ais\"},...</td>\n",
              "      <td>Released</td>\n",
              "      <td>A Plan No One Escapes</td>\n",
              "      <td>Spectre</td>\n",
              "      <td>6.3</td>\n",
              "      <td>4466</td>\n",
              "      <td>206647</td>\n",
              "      <td>Spectre</td>\n",
              "      <td>[{\"cast_id\": 1, \"character\": \"James Bond\", \"cr...</td>\n",
              "      <td>[{\"credit_id\": \"54805967c3a36829b5002c41\", \"de...</td>\n",
              "    </tr>\n",
              "    <tr>\n",
              "      <th>3</th>\n",
              "      <td>250000000</td>\n",
              "      <td>[{\"id\": 28, \"name\": \"Action\"}, {\"id\": 80, \"nam...</td>\n",
              "      <td>http://www.thedarkknightrises.com/</td>\n",
              "      <td>49026</td>\n",
              "      <td>[{\"id\": 849, \"name\": \"dc comics\"}, {\"id\": 853,...</td>\n",
              "      <td>en</td>\n",
              "      <td>The Dark Knight Rises</td>\n",
              "      <td>Following the death of District Attorney Harve...</td>\n",
              "      <td>112.312950</td>\n",
              "      <td>[{\"name\": \"Legendary Pictures\", \"id\": 923}, {\"...</td>\n",
              "      <td>...</td>\n",
              "      <td>[{\"iso_639_1\": \"en\", \"name\": \"English\"}]</td>\n",
              "      <td>Released</td>\n",
              "      <td>The Legend Ends</td>\n",
              "      <td>The Dark Knight Rises</td>\n",
              "      <td>7.6</td>\n",
              "      <td>9106</td>\n",
              "      <td>49026</td>\n",
              "      <td>The Dark Knight Rises</td>\n",
              "      <td>[{\"cast_id\": 2, \"character\": \"Bruce Wayne / Ba...</td>\n",
              "      <td>[{\"credit_id\": \"52fe4781c3a36847f81398c3\", \"de...</td>\n",
              "    </tr>\n",
              "    <tr>\n",
              "      <th>4</th>\n",
              "      <td>260000000</td>\n",
              "      <td>[{\"id\": 28, \"name\": \"Action\"}, {\"id\": 12, \"nam...</td>\n",
              "      <td>http://movies.disney.com/john-carter</td>\n",
              "      <td>49529</td>\n",
              "      <td>[{\"id\": 818, \"name\": \"based on novel\"}, {\"id\":...</td>\n",
              "      <td>en</td>\n",
              "      <td>John Carter</td>\n",
              "      <td>John Carter is a war-weary, former military ca...</td>\n",
              "      <td>43.926995</td>\n",
              "      <td>[{\"name\": \"Walt Disney Pictures\", \"id\": 2}]</td>\n",
              "      <td>...</td>\n",
              "      <td>[{\"iso_639_1\": \"en\", \"name\": \"English\"}]</td>\n",
              "      <td>Released</td>\n",
              "      <td>Lost in our world, found in another.</td>\n",
              "      <td>John Carter</td>\n",
              "      <td>6.1</td>\n",
              "      <td>2124</td>\n",
              "      <td>49529</td>\n",
              "      <td>John Carter</td>\n",
              "      <td>[{\"cast_id\": 5, \"character\": \"John Carter\", \"c...</td>\n",
              "      <td>[{\"credit_id\": \"52fe479ac3a36847f813eaa3\", \"de...</td>\n",
              "    </tr>\n",
              "  </tbody>\n",
              "</table>\n",
              "<p>5 rows × 24 columns</p>\n",
              "</div>\n",
              "      <button class=\"colab-df-convert\" onclick=\"convertToInteractive('df-9ded2d3e-e100-48e5-bdc2-c2115323ea85')\"\n",
              "              title=\"Convert this dataframe to an interactive table.\"\n",
              "              style=\"display:none;\">\n",
              "        \n",
              "  <svg xmlns=\"http://www.w3.org/2000/svg\" height=\"24px\"viewBox=\"0 0 24 24\"\n",
              "       width=\"24px\">\n",
              "    <path d=\"M0 0h24v24H0V0z\" fill=\"none\"/>\n",
              "    <path d=\"M18.56 5.44l.94 2.06.94-2.06 2.06-.94-2.06-.94-.94-2.06-.94 2.06-2.06.94zm-11 1L8.5 8.5l.94-2.06 2.06-.94-2.06-.94L8.5 2.5l-.94 2.06-2.06.94zm10 10l.94 2.06.94-2.06 2.06-.94-2.06-.94-.94-2.06-.94 2.06-2.06.94z\"/><path d=\"M17.41 7.96l-1.37-1.37c-.4-.4-.92-.59-1.43-.59-.52 0-1.04.2-1.43.59L10.3 9.45l-7.72 7.72c-.78.78-.78 2.05 0 2.83L4 21.41c.39.39.9.59 1.41.59.51 0 1.02-.2 1.41-.59l7.78-7.78 2.81-2.81c.8-.78.8-2.07 0-2.86zM5.41 20L4 18.59l7.72-7.72 1.47 1.35L5.41 20z\"/>\n",
              "  </svg>\n",
              "      </button>\n",
              "      \n",
              "  <style>\n",
              "    .colab-df-container {\n",
              "      display:flex;\n",
              "      flex-wrap:wrap;\n",
              "      gap: 12px;\n",
              "    }\n",
              "\n",
              "    .colab-df-convert {\n",
              "      background-color: #E8F0FE;\n",
              "      border: none;\n",
              "      border-radius: 50%;\n",
              "      cursor: pointer;\n",
              "      display: none;\n",
              "      fill: #1967D2;\n",
              "      height: 32px;\n",
              "      padding: 0 0 0 0;\n",
              "      width: 32px;\n",
              "    }\n",
              "\n",
              "    .colab-df-convert:hover {\n",
              "      background-color: #E2EBFA;\n",
              "      box-shadow: 0px 1px 2px rgba(60, 64, 67, 0.3), 0px 1px 3px 1px rgba(60, 64, 67, 0.15);\n",
              "      fill: #174EA6;\n",
              "    }\n",
              "\n",
              "    [theme=dark] .colab-df-convert {\n",
              "      background-color: #3B4455;\n",
              "      fill: #D2E3FC;\n",
              "    }\n",
              "\n",
              "    [theme=dark] .colab-df-convert:hover {\n",
              "      background-color: #434B5C;\n",
              "      box-shadow: 0px 1px 3px 1px rgba(0, 0, 0, 0.15);\n",
              "      filter: drop-shadow(0px 1px 2px rgba(0, 0, 0, 0.3));\n",
              "      fill: #FFFFFF;\n",
              "    }\n",
              "  </style>\n",
              "\n",
              "      <script>\n",
              "        const buttonEl =\n",
              "          document.querySelector('#df-9ded2d3e-e100-48e5-bdc2-c2115323ea85 button.colab-df-convert');\n",
              "        buttonEl.style.display =\n",
              "          google.colab.kernel.accessAllowed ? 'block' : 'none';\n",
              "\n",
              "        async function convertToInteractive(key) {\n",
              "          const element = document.querySelector('#df-9ded2d3e-e100-48e5-bdc2-c2115323ea85');\n",
              "          const dataTable =\n",
              "            await google.colab.kernel.invokeFunction('convertToInteractive',\n",
              "                                                     [key], {});\n",
              "          if (!dataTable) return;\n",
              "\n",
              "          const docLinkHtml = 'Like what you see? Visit the ' +\n",
              "            '<a target=\"_blank\" href=https://colab.research.google.com/notebooks/data_table.ipynb>data table notebook</a>'\n",
              "            + ' to learn more about interactive tables.';\n",
              "          element.innerHTML = '';\n",
              "          dataTable['output_type'] = 'display_data';\n",
              "          await google.colab.output.renderOutput(dataTable, element);\n",
              "          const docLink = document.createElement('div');\n",
              "          docLink.innerHTML = docLinkHtml;\n",
              "          element.appendChild(docLink);\n",
              "        }\n",
              "      </script>\n",
              "    </div>\n",
              "  </div>\n",
              "  "
            ]
          },
          "metadata": {},
          "execution_count": 7
        }
      ]
    },
    {
      "cell_type": "markdown",
      "source": [
        "Looks like we have several columns that cannot be shown, lets look at all columns available in our data frame:"
      ],
      "metadata": {
        "id": "c3vlOxgj7Hlg"
      }
    },
    {
      "cell_type": "code",
      "source": [
        "movie_data.columns"
      ],
      "metadata": {
        "colab": {
          "base_uri": "https://localhost:8080/"
        },
        "id": "sa1_Sei-6l7F",
        "outputId": "93790ec7-2f74-4536-a90b-627593a0cf52"
      },
      "execution_count": 8,
      "outputs": [
        {
          "output_type": "execute_result",
          "data": {
            "text/plain": [
              "Index(['budget', 'genres', 'homepage', 'id', 'keywords', 'original_language',\n",
              "       'original_title', 'overview', 'popularity', 'production_companies',\n",
              "       'production_countries', 'release_date', 'revenue', 'runtime',\n",
              "       'spoken_languages', 'status', 'tagline', 'title', 'vote_average',\n",
              "       'vote_count', 'movie_id', 'title_duplicate', 'cast', 'crew'],\n",
              "      dtype='object')"
            ]
          },
          "metadata": {},
          "execution_count": 8
        }
      ]
    },
    {
      "cell_type": "markdown",
      "source": [
        "As we can see, the `production_countries`, `release_date`, `revenue` and `runtime` are not shown in the output preview. Lets take a look at the data of those columns:"
      ],
      "metadata": {
        "id": "_fvb0qmJ7NLj"
      }
    },
    {
      "cell_type": "code",
      "source": [
        "movie_data[['production_countries', 'release_date', 'revenue', 'runtime']].head()"
      ],
      "metadata": {
        "colab": {
          "base_uri": "https://localhost:8080/",
          "height": 206
        },
        "id": "ds2SMFQL7kXc",
        "outputId": "373b2105-ce11-4411-8052-30e5220058fb"
      },
      "execution_count": 9,
      "outputs": [
        {
          "output_type": "execute_result",
          "data": {
            "text/plain": [
              "                                production_countries release_date     revenue  \\\n",
              "0  [{\"iso_3166_1\": \"US\", \"name\": \"United States o...   2009-12-10  2787965087   \n",
              "1  [{\"iso_3166_1\": \"US\", \"name\": \"United States o...   2007-05-19   961000000   \n",
              "2  [{\"iso_3166_1\": \"GB\", \"name\": \"United Kingdom\"...   2015-10-26   880674609   \n",
              "3  [{\"iso_3166_1\": \"US\", \"name\": \"United States o...   2012-07-16  1084939099   \n",
              "4  [{\"iso_3166_1\": \"US\", \"name\": \"United States o...   2012-03-07   284139100   \n",
              "\n",
              "   runtime  \n",
              "0    162.0  \n",
              "1    169.0  \n",
              "2    148.0  \n",
              "3    165.0  \n",
              "4    132.0  "
            ],
            "text/html": [
              "\n",
              "  <div id=\"df-0b756f66-6ab8-44de-8186-e59acd26bffa\">\n",
              "    <div class=\"colab-df-container\">\n",
              "      <div>\n",
              "<style scoped>\n",
              "    .dataframe tbody tr th:only-of-type {\n",
              "        vertical-align: middle;\n",
              "    }\n",
              "\n",
              "    .dataframe tbody tr th {\n",
              "        vertical-align: top;\n",
              "    }\n",
              "\n",
              "    .dataframe thead th {\n",
              "        text-align: right;\n",
              "    }\n",
              "</style>\n",
              "<table border=\"1\" class=\"dataframe\">\n",
              "  <thead>\n",
              "    <tr style=\"text-align: right;\">\n",
              "      <th></th>\n",
              "      <th>production_countries</th>\n",
              "      <th>release_date</th>\n",
              "      <th>revenue</th>\n",
              "      <th>runtime</th>\n",
              "    </tr>\n",
              "  </thead>\n",
              "  <tbody>\n",
              "    <tr>\n",
              "      <th>0</th>\n",
              "      <td>[{\"iso_3166_1\": \"US\", \"name\": \"United States o...</td>\n",
              "      <td>2009-12-10</td>\n",
              "      <td>2787965087</td>\n",
              "      <td>162.0</td>\n",
              "    </tr>\n",
              "    <tr>\n",
              "      <th>1</th>\n",
              "      <td>[{\"iso_3166_1\": \"US\", \"name\": \"United States o...</td>\n",
              "      <td>2007-05-19</td>\n",
              "      <td>961000000</td>\n",
              "      <td>169.0</td>\n",
              "    </tr>\n",
              "    <tr>\n",
              "      <th>2</th>\n",
              "      <td>[{\"iso_3166_1\": \"GB\", \"name\": \"United Kingdom\"...</td>\n",
              "      <td>2015-10-26</td>\n",
              "      <td>880674609</td>\n",
              "      <td>148.0</td>\n",
              "    </tr>\n",
              "    <tr>\n",
              "      <th>3</th>\n",
              "      <td>[{\"iso_3166_1\": \"US\", \"name\": \"United States o...</td>\n",
              "      <td>2012-07-16</td>\n",
              "      <td>1084939099</td>\n",
              "      <td>165.0</td>\n",
              "    </tr>\n",
              "    <tr>\n",
              "      <th>4</th>\n",
              "      <td>[{\"iso_3166_1\": \"US\", \"name\": \"United States o...</td>\n",
              "      <td>2012-03-07</td>\n",
              "      <td>284139100</td>\n",
              "      <td>132.0</td>\n",
              "    </tr>\n",
              "  </tbody>\n",
              "</table>\n",
              "</div>\n",
              "      <button class=\"colab-df-convert\" onclick=\"convertToInteractive('df-0b756f66-6ab8-44de-8186-e59acd26bffa')\"\n",
              "              title=\"Convert this dataframe to an interactive table.\"\n",
              "              style=\"display:none;\">\n",
              "        \n",
              "  <svg xmlns=\"http://www.w3.org/2000/svg\" height=\"24px\"viewBox=\"0 0 24 24\"\n",
              "       width=\"24px\">\n",
              "    <path d=\"M0 0h24v24H0V0z\" fill=\"none\"/>\n",
              "    <path d=\"M18.56 5.44l.94 2.06.94-2.06 2.06-.94-2.06-.94-.94-2.06-.94 2.06-2.06.94zm-11 1L8.5 8.5l.94-2.06 2.06-.94-2.06-.94L8.5 2.5l-.94 2.06-2.06.94zm10 10l.94 2.06.94-2.06 2.06-.94-2.06-.94-.94-2.06-.94 2.06-2.06.94z\"/><path d=\"M17.41 7.96l-1.37-1.37c-.4-.4-.92-.59-1.43-.59-.52 0-1.04.2-1.43.59L10.3 9.45l-7.72 7.72c-.78.78-.78 2.05 0 2.83L4 21.41c.39.39.9.59 1.41.59.51 0 1.02-.2 1.41-.59l7.78-7.78 2.81-2.81c.8-.78.8-2.07 0-2.86zM5.41 20L4 18.59l7.72-7.72 1.47 1.35L5.41 20z\"/>\n",
              "  </svg>\n",
              "      </button>\n",
              "      \n",
              "  <style>\n",
              "    .colab-df-container {\n",
              "      display:flex;\n",
              "      flex-wrap:wrap;\n",
              "      gap: 12px;\n",
              "    }\n",
              "\n",
              "    .colab-df-convert {\n",
              "      background-color: #E8F0FE;\n",
              "      border: none;\n",
              "      border-radius: 50%;\n",
              "      cursor: pointer;\n",
              "      display: none;\n",
              "      fill: #1967D2;\n",
              "      height: 32px;\n",
              "      padding: 0 0 0 0;\n",
              "      width: 32px;\n",
              "    }\n",
              "\n",
              "    .colab-df-convert:hover {\n",
              "      background-color: #E2EBFA;\n",
              "      box-shadow: 0px 1px 2px rgba(60, 64, 67, 0.3), 0px 1px 3px 1px rgba(60, 64, 67, 0.15);\n",
              "      fill: #174EA6;\n",
              "    }\n",
              "\n",
              "    [theme=dark] .colab-df-convert {\n",
              "      background-color: #3B4455;\n",
              "      fill: #D2E3FC;\n",
              "    }\n",
              "\n",
              "    [theme=dark] .colab-df-convert:hover {\n",
              "      background-color: #434B5C;\n",
              "      box-shadow: 0px 1px 3px 1px rgba(0, 0, 0, 0.15);\n",
              "      filter: drop-shadow(0px 1px 2px rgba(0, 0, 0, 0.3));\n",
              "      fill: #FFFFFF;\n",
              "    }\n",
              "  </style>\n",
              "\n",
              "      <script>\n",
              "        const buttonEl =\n",
              "          document.querySelector('#df-0b756f66-6ab8-44de-8186-e59acd26bffa button.colab-df-convert');\n",
              "        buttonEl.style.display =\n",
              "          google.colab.kernel.accessAllowed ? 'block' : 'none';\n",
              "\n",
              "        async function convertToInteractive(key) {\n",
              "          const element = document.querySelector('#df-0b756f66-6ab8-44de-8186-e59acd26bffa');\n",
              "          const dataTable =\n",
              "            await google.colab.kernel.invokeFunction('convertToInteractive',\n",
              "                                                     [key], {});\n",
              "          if (!dataTable) return;\n",
              "\n",
              "          const docLinkHtml = 'Like what you see? Visit the ' +\n",
              "            '<a target=\"_blank\" href=https://colab.research.google.com/notebooks/data_table.ipynb>data table notebook</a>'\n",
              "            + ' to learn more about interactive tables.';\n",
              "          element.innerHTML = '';\n",
              "          dataTable['output_type'] = 'display_data';\n",
              "          await google.colab.output.renderOutput(dataTable, element);\n",
              "          const docLink = document.createElement('div');\n",
              "          docLink.innerHTML = docLinkHtml;\n",
              "          element.appendChild(docLink);\n",
              "        }\n",
              "      </script>\n",
              "    </div>\n",
              "  </div>\n",
              "  "
            ]
          },
          "metadata": {},
          "execution_count": 9
        }
      ]
    },
    {
      "cell_type": "markdown",
      "source": [
        "## Defining Questions\n",
        "\n",
        "After looking at the previews of all columns, we can start to propose some questions that can be answered with our data:\n",
        "\n",
        "1. Top 5 Most Budget Expensive Movies\n",
        "2. Top 5 Most Popular Movies\n",
        "3. Top 5 Most Profitable Movies\n",
        "4. Year of Most Profitable Movies\n",
        "5. Budget Range of Profitable Movies\n",
        "6. Average Runtime of Profitable Movies compared to Average Runtime of Movies \n",
        "7. Language of Profitable Movies\n",
        "8. Most Successful Genres\n",
        "9. Highly Voted Movies\n",
        "10. Frequent Cast in the Movies\n",
        "\n",
        "---"
      ],
      "metadata": {
        "id": "YJhuKk8K9ug0"
      }
    },
    {
      "cell_type": "markdown",
      "source": [
        "# Data Cleaning\n",
        "\n",
        "After observing the dataset and proposed questions for the analysis, we will perform data cleaning to make our calculation easy and understandable. This is the first step in data processing.\n",
        "\n",
        "Normally, data cleaning consists of the following steps:\n",
        "\n",
        "1. Remove unused columns.\n",
        "2. Removing the duplicate values in the rows (if any).\n",
        "3. Removing invalid data (`NaN` etc.).\n",
        "\n"
      ],
      "metadata": {
        "id": "DdONYsNN0CKI"
      }
    },
    {
      "cell_type": "markdown",
      "source": [
        "## Remove Unused and Duplicate Columns\n",
        "\n",
        "Now that we have previewed all columns in our final data frame, we can see that there are many columns with descriptive data of the movies that aren't really useful. So, we will delete those columns:"
      ],
      "metadata": {
        "id": "_sH4bfKu2e1j"
      }
    },
    {
      "cell_type": "code",
      "source": [
        "# Creates A List Of Columns To Drop\n",
        "columns_to_drop = ['homepage', 'keywords', 'original_language', 'original_title', 'overview', 'status', 'tagline', 'title_duplicate']\n",
        "\n",
        "# Drops The Columns\n",
        "movie_data = movie_data.drop(columns_to_drop, axis=1)\n",
        "\n",
        "# Preview New DataFrame\n",
        "movie_data.head()"
      ],
      "metadata": {
        "colab": {
          "base_uri": "https://localhost:8080/",
          "height": 563
        },
        "id": "SuFgATDS3yno",
        "outputId": "a5612a06-3ba4-4bc8-b6e1-be0277ba9916"
      },
      "execution_count": 10,
      "outputs": [
        {
          "output_type": "execute_result",
          "data": {
            "text/plain": [
              "      budget                                             genres      id  \\\n",
              "0  237000000  [{\"id\": 28, \"name\": \"Action\"}, {\"id\": 12, \"nam...   19995   \n",
              "1  300000000  [{\"id\": 12, \"name\": \"Adventure\"}, {\"id\": 14, \"...     285   \n",
              "2  245000000  [{\"id\": 28, \"name\": \"Action\"}, {\"id\": 12, \"nam...  206647   \n",
              "3  250000000  [{\"id\": 28, \"name\": \"Action\"}, {\"id\": 80, \"nam...   49026   \n",
              "4  260000000  [{\"id\": 28, \"name\": \"Action\"}, {\"id\": 12, \"nam...   49529   \n",
              "\n",
              "   popularity                               production_companies  \\\n",
              "0  150.437577  [{\"name\": \"Ingenious Film Partners\", \"id\": 289...   \n",
              "1  139.082615  [{\"name\": \"Walt Disney Pictures\", \"id\": 2}, {\"...   \n",
              "2  107.376788  [{\"name\": \"Columbia Pictures\", \"id\": 5}, {\"nam...   \n",
              "3  112.312950  [{\"name\": \"Legendary Pictures\", \"id\": 923}, {\"...   \n",
              "4   43.926995        [{\"name\": \"Walt Disney Pictures\", \"id\": 2}]   \n",
              "\n",
              "                                production_countries release_date     revenue  \\\n",
              "0  [{\"iso_3166_1\": \"US\", \"name\": \"United States o...   2009-12-10  2787965087   \n",
              "1  [{\"iso_3166_1\": \"US\", \"name\": \"United States o...   2007-05-19   961000000   \n",
              "2  [{\"iso_3166_1\": \"GB\", \"name\": \"United Kingdom\"...   2015-10-26   880674609   \n",
              "3  [{\"iso_3166_1\": \"US\", \"name\": \"United States o...   2012-07-16  1084939099   \n",
              "4  [{\"iso_3166_1\": \"US\", \"name\": \"United States o...   2012-03-07   284139100   \n",
              "\n",
              "   runtime                                   spoken_languages  \\\n",
              "0    162.0  [{\"iso_639_1\": \"en\", \"name\": \"English\"}, {\"iso...   \n",
              "1    169.0           [{\"iso_639_1\": \"en\", \"name\": \"English\"}]   \n",
              "2    148.0  [{\"iso_639_1\": \"fr\", \"name\": \"Fran\\u00e7ais\"},...   \n",
              "3    165.0           [{\"iso_639_1\": \"en\", \"name\": \"English\"}]   \n",
              "4    132.0           [{\"iso_639_1\": \"en\", \"name\": \"English\"}]   \n",
              "\n",
              "                                      title  vote_average  vote_count  \\\n",
              "0                                    Avatar           7.2       11800   \n",
              "1  Pirates of the Caribbean: At World's End           6.9        4500   \n",
              "2                                   Spectre           6.3        4466   \n",
              "3                     The Dark Knight Rises           7.6        9106   \n",
              "4                               John Carter           6.1        2124   \n",
              "\n",
              "   movie_id                                               cast  \\\n",
              "0     19995  [{\"cast_id\": 242, \"character\": \"Jake Sully\", \"...   \n",
              "1       285  [{\"cast_id\": 4, \"character\": \"Captain Jack Spa...   \n",
              "2    206647  [{\"cast_id\": 1, \"character\": \"James Bond\", \"cr...   \n",
              "3     49026  [{\"cast_id\": 2, \"character\": \"Bruce Wayne / Ba...   \n",
              "4     49529  [{\"cast_id\": 5, \"character\": \"John Carter\", \"c...   \n",
              "\n",
              "                                                crew  \n",
              "0  [{\"credit_id\": \"52fe48009251416c750aca23\", \"de...  \n",
              "1  [{\"credit_id\": \"52fe4232c3a36847f800b579\", \"de...  \n",
              "2  [{\"credit_id\": \"54805967c3a36829b5002c41\", \"de...  \n",
              "3  [{\"credit_id\": \"52fe4781c3a36847f81398c3\", \"de...  \n",
              "4  [{\"credit_id\": \"52fe479ac3a36847f813eaa3\", \"de...  "
            ],
            "text/html": [
              "\n",
              "  <div id=\"df-ddcd71a9-e874-477e-949c-a248058445b5\">\n",
              "    <div class=\"colab-df-container\">\n",
              "      <div>\n",
              "<style scoped>\n",
              "    .dataframe tbody tr th:only-of-type {\n",
              "        vertical-align: middle;\n",
              "    }\n",
              "\n",
              "    .dataframe tbody tr th {\n",
              "        vertical-align: top;\n",
              "    }\n",
              "\n",
              "    .dataframe thead th {\n",
              "        text-align: right;\n",
              "    }\n",
              "</style>\n",
              "<table border=\"1\" class=\"dataframe\">\n",
              "  <thead>\n",
              "    <tr style=\"text-align: right;\">\n",
              "      <th></th>\n",
              "      <th>budget</th>\n",
              "      <th>genres</th>\n",
              "      <th>id</th>\n",
              "      <th>popularity</th>\n",
              "      <th>production_companies</th>\n",
              "      <th>production_countries</th>\n",
              "      <th>release_date</th>\n",
              "      <th>revenue</th>\n",
              "      <th>runtime</th>\n",
              "      <th>spoken_languages</th>\n",
              "      <th>title</th>\n",
              "      <th>vote_average</th>\n",
              "      <th>vote_count</th>\n",
              "      <th>movie_id</th>\n",
              "      <th>cast</th>\n",
              "      <th>crew</th>\n",
              "    </tr>\n",
              "  </thead>\n",
              "  <tbody>\n",
              "    <tr>\n",
              "      <th>0</th>\n",
              "      <td>237000000</td>\n",
              "      <td>[{\"id\": 28, \"name\": \"Action\"}, {\"id\": 12, \"nam...</td>\n",
              "      <td>19995</td>\n",
              "      <td>150.437577</td>\n",
              "      <td>[{\"name\": \"Ingenious Film Partners\", \"id\": 289...</td>\n",
              "      <td>[{\"iso_3166_1\": \"US\", \"name\": \"United States o...</td>\n",
              "      <td>2009-12-10</td>\n",
              "      <td>2787965087</td>\n",
              "      <td>162.0</td>\n",
              "      <td>[{\"iso_639_1\": \"en\", \"name\": \"English\"}, {\"iso...</td>\n",
              "      <td>Avatar</td>\n",
              "      <td>7.2</td>\n",
              "      <td>11800</td>\n",
              "      <td>19995</td>\n",
              "      <td>[{\"cast_id\": 242, \"character\": \"Jake Sully\", \"...</td>\n",
              "      <td>[{\"credit_id\": \"52fe48009251416c750aca23\", \"de...</td>\n",
              "    </tr>\n",
              "    <tr>\n",
              "      <th>1</th>\n",
              "      <td>300000000</td>\n",
              "      <td>[{\"id\": 12, \"name\": \"Adventure\"}, {\"id\": 14, \"...</td>\n",
              "      <td>285</td>\n",
              "      <td>139.082615</td>\n",
              "      <td>[{\"name\": \"Walt Disney Pictures\", \"id\": 2}, {\"...</td>\n",
              "      <td>[{\"iso_3166_1\": \"US\", \"name\": \"United States o...</td>\n",
              "      <td>2007-05-19</td>\n",
              "      <td>961000000</td>\n",
              "      <td>169.0</td>\n",
              "      <td>[{\"iso_639_1\": \"en\", \"name\": \"English\"}]</td>\n",
              "      <td>Pirates of the Caribbean: At World's End</td>\n",
              "      <td>6.9</td>\n",
              "      <td>4500</td>\n",
              "      <td>285</td>\n",
              "      <td>[{\"cast_id\": 4, \"character\": \"Captain Jack Spa...</td>\n",
              "      <td>[{\"credit_id\": \"52fe4232c3a36847f800b579\", \"de...</td>\n",
              "    </tr>\n",
              "    <tr>\n",
              "      <th>2</th>\n",
              "      <td>245000000</td>\n",
              "      <td>[{\"id\": 28, \"name\": \"Action\"}, {\"id\": 12, \"nam...</td>\n",
              "      <td>206647</td>\n",
              "      <td>107.376788</td>\n",
              "      <td>[{\"name\": \"Columbia Pictures\", \"id\": 5}, {\"nam...</td>\n",
              "      <td>[{\"iso_3166_1\": \"GB\", \"name\": \"United Kingdom\"...</td>\n",
              "      <td>2015-10-26</td>\n",
              "      <td>880674609</td>\n",
              "      <td>148.0</td>\n",
              "      <td>[{\"iso_639_1\": \"fr\", \"name\": \"Fran\\u00e7ais\"},...</td>\n",
              "      <td>Spectre</td>\n",
              "      <td>6.3</td>\n",
              "      <td>4466</td>\n",
              "      <td>206647</td>\n",
              "      <td>[{\"cast_id\": 1, \"character\": \"James Bond\", \"cr...</td>\n",
              "      <td>[{\"credit_id\": \"54805967c3a36829b5002c41\", \"de...</td>\n",
              "    </tr>\n",
              "    <tr>\n",
              "      <th>3</th>\n",
              "      <td>250000000</td>\n",
              "      <td>[{\"id\": 28, \"name\": \"Action\"}, {\"id\": 80, \"nam...</td>\n",
              "      <td>49026</td>\n",
              "      <td>112.312950</td>\n",
              "      <td>[{\"name\": \"Legendary Pictures\", \"id\": 923}, {\"...</td>\n",
              "      <td>[{\"iso_3166_1\": \"US\", \"name\": \"United States o...</td>\n",
              "      <td>2012-07-16</td>\n",
              "      <td>1084939099</td>\n",
              "      <td>165.0</td>\n",
              "      <td>[{\"iso_639_1\": \"en\", \"name\": \"English\"}]</td>\n",
              "      <td>The Dark Knight Rises</td>\n",
              "      <td>7.6</td>\n",
              "      <td>9106</td>\n",
              "      <td>49026</td>\n",
              "      <td>[{\"cast_id\": 2, \"character\": \"Bruce Wayne / Ba...</td>\n",
              "      <td>[{\"credit_id\": \"52fe4781c3a36847f81398c3\", \"de...</td>\n",
              "    </tr>\n",
              "    <tr>\n",
              "      <th>4</th>\n",
              "      <td>260000000</td>\n",
              "      <td>[{\"id\": 28, \"name\": \"Action\"}, {\"id\": 12, \"nam...</td>\n",
              "      <td>49529</td>\n",
              "      <td>43.926995</td>\n",
              "      <td>[{\"name\": \"Walt Disney Pictures\", \"id\": 2}]</td>\n",
              "      <td>[{\"iso_3166_1\": \"US\", \"name\": \"United States o...</td>\n",
              "      <td>2012-03-07</td>\n",
              "      <td>284139100</td>\n",
              "      <td>132.0</td>\n",
              "      <td>[{\"iso_639_1\": \"en\", \"name\": \"English\"}]</td>\n",
              "      <td>John Carter</td>\n",
              "      <td>6.1</td>\n",
              "      <td>2124</td>\n",
              "      <td>49529</td>\n",
              "      <td>[{\"cast_id\": 5, \"character\": \"John Carter\", \"c...</td>\n",
              "      <td>[{\"credit_id\": \"52fe479ac3a36847f813eaa3\", \"de...</td>\n",
              "    </tr>\n",
              "  </tbody>\n",
              "</table>\n",
              "</div>\n",
              "      <button class=\"colab-df-convert\" onclick=\"convertToInteractive('df-ddcd71a9-e874-477e-949c-a248058445b5')\"\n",
              "              title=\"Convert this dataframe to an interactive table.\"\n",
              "              style=\"display:none;\">\n",
              "        \n",
              "  <svg xmlns=\"http://www.w3.org/2000/svg\" height=\"24px\"viewBox=\"0 0 24 24\"\n",
              "       width=\"24px\">\n",
              "    <path d=\"M0 0h24v24H0V0z\" fill=\"none\"/>\n",
              "    <path d=\"M18.56 5.44l.94 2.06.94-2.06 2.06-.94-2.06-.94-.94-2.06-.94 2.06-2.06.94zm-11 1L8.5 8.5l.94-2.06 2.06-.94-2.06-.94L8.5 2.5l-.94 2.06-2.06.94zm10 10l.94 2.06.94-2.06 2.06-.94-2.06-.94-.94-2.06-.94 2.06-2.06.94z\"/><path d=\"M17.41 7.96l-1.37-1.37c-.4-.4-.92-.59-1.43-.59-.52 0-1.04.2-1.43.59L10.3 9.45l-7.72 7.72c-.78.78-.78 2.05 0 2.83L4 21.41c.39.39.9.59 1.41.59.51 0 1.02-.2 1.41-.59l7.78-7.78 2.81-2.81c.8-.78.8-2.07 0-2.86zM5.41 20L4 18.59l7.72-7.72 1.47 1.35L5.41 20z\"/>\n",
              "  </svg>\n",
              "      </button>\n",
              "      \n",
              "  <style>\n",
              "    .colab-df-container {\n",
              "      display:flex;\n",
              "      flex-wrap:wrap;\n",
              "      gap: 12px;\n",
              "    }\n",
              "\n",
              "    .colab-df-convert {\n",
              "      background-color: #E8F0FE;\n",
              "      border: none;\n",
              "      border-radius: 50%;\n",
              "      cursor: pointer;\n",
              "      display: none;\n",
              "      fill: #1967D2;\n",
              "      height: 32px;\n",
              "      padding: 0 0 0 0;\n",
              "      width: 32px;\n",
              "    }\n",
              "\n",
              "    .colab-df-convert:hover {\n",
              "      background-color: #E2EBFA;\n",
              "      box-shadow: 0px 1px 2px rgba(60, 64, 67, 0.3), 0px 1px 3px 1px rgba(60, 64, 67, 0.15);\n",
              "      fill: #174EA6;\n",
              "    }\n",
              "\n",
              "    [theme=dark] .colab-df-convert {\n",
              "      background-color: #3B4455;\n",
              "      fill: #D2E3FC;\n",
              "    }\n",
              "\n",
              "    [theme=dark] .colab-df-convert:hover {\n",
              "      background-color: #434B5C;\n",
              "      box-shadow: 0px 1px 3px 1px rgba(0, 0, 0, 0.15);\n",
              "      filter: drop-shadow(0px 1px 2px rgba(0, 0, 0, 0.3));\n",
              "      fill: #FFFFFF;\n",
              "    }\n",
              "  </style>\n",
              "\n",
              "      <script>\n",
              "        const buttonEl =\n",
              "          document.querySelector('#df-ddcd71a9-e874-477e-949c-a248058445b5 button.colab-df-convert');\n",
              "        buttonEl.style.display =\n",
              "          google.colab.kernel.accessAllowed ? 'block' : 'none';\n",
              "\n",
              "        async function convertToInteractive(key) {\n",
              "          const element = document.querySelector('#df-ddcd71a9-e874-477e-949c-a248058445b5');\n",
              "          const dataTable =\n",
              "            await google.colab.kernel.invokeFunction('convertToInteractive',\n",
              "                                                     [key], {});\n",
              "          if (!dataTable) return;\n",
              "\n",
              "          const docLinkHtml = 'Like what you see? Visit the ' +\n",
              "            '<a target=\"_blank\" href=https://colab.research.google.com/notebooks/data_table.ipynb>data table notebook</a>'\n",
              "            + ' to learn more about interactive tables.';\n",
              "          element.innerHTML = '';\n",
              "          dataTable['output_type'] = 'display_data';\n",
              "          await google.colab.output.renderOutput(dataTable, element);\n",
              "          const docLink = document.createElement('div');\n",
              "          docLink.innerHTML = docLinkHtml;\n",
              "          element.appendChild(docLink);\n",
              "        }\n",
              "      </script>\n",
              "    </div>\n",
              "  </div>\n",
              "  "
            ]
          },
          "metadata": {},
          "execution_count": 10
        }
      ]
    },
    {
      "cell_type": "markdown",
      "source": [
        "## Remove Duplicate Rows\n",
        "\n",
        "As we cannot tell from the preview that there might be duplicate rows, we will run the following cell to \"try and remove\" the duplicate rows:"
      ],
      "metadata": {
        "id": "Fd2OWabCApzS"
      }
    },
    {
      "cell_type": "code",
      "source": [
        "# Display Initial DataFrame Dimensions\n",
        "print('Initial DataFrame Dimension:', movie_data.shape)\n",
        "\n",
        "# Attempt to Drop Duplicate Rows\n",
        "movie_data = movie_data.drop_duplicates(keep='first')\n",
        "\n",
        "# Display Final DataFrame Dimensions\n",
        "print('Final DataFrame Dimension:  ', movie_data.shape)"
      ],
      "metadata": {
        "colab": {
          "base_uri": "https://localhost:8080/"
        },
        "id": "rjsDtfo9Ar3c",
        "outputId": "0e2032a9-1226-428f-b442-15fa7383f1ad"
      },
      "execution_count": 11,
      "outputs": [
        {
          "output_type": "stream",
          "name": "stdout",
          "text": [
            "Initial DataFrame Dimension: (4803, 16)\n",
            "Final DataFrame Dimension:   (4803, 16)\n"
          ]
        }
      ]
    },
    {
      "cell_type": "markdown",
      "source": [
        "It is good that there are no duplicate rows in the original data frame, but it is still better to try and remove those duplicates just in case there are."
      ],
      "metadata": {
        "id": "fj8K6jZiB5EL"
      }
    },
    {
      "cell_type": "markdown",
      "source": [
        "## Remove Invalid Data\n",
        "\n",
        "Before we start converting data types and other data processing steps, we will first drop the invalid data.\n",
        "\n",
        "Looking back at the [Data Set Description on Kaggle](https://www.kaggle.com/datasets/tmdb/tmdb-movie-metadata?select=tmdb_5000_movies.csv), we noticed that there are 0s in the `budget`, `revenue` and `runtime`. It is logically impossible to have a 0 budget, 0 revenue and 0 runtime, so this means that these 0s represent missing data in their columns.\n",
        "\n",
        "So let's replace these 0s with `NaN` so that we can drop them easily next:"
      ],
      "metadata": {
        "id": "dQQM-BPgM4Gv"
      }
    },
    {
      "cell_type": "code",
      "source": [
        "# Create a List of Columns to Replace 0 with NaN\n",
        "replace0 = ['budget', 'revenue', 'runtime']\n",
        "\n",
        "# Replace All 0 in The Columns with NaN\n",
        "movie_data[replace0] = movie_data[replace0].replace(0, np.nan)"
      ],
      "metadata": {
        "id": "bky-IwNrOFu_"
      },
      "execution_count": 12,
      "outputs": []
    },
    {
      "cell_type": "markdown",
      "source": [
        "Now we will drop all rows containing `NaN`:"
      ],
      "metadata": {
        "id": "H1qAwf0rOiG_"
      }
    },
    {
      "cell_type": "code",
      "source": [
        "movie_data.dropna(axis=0, inplace=True)\n",
        "\n",
        "# Display Final DataFrame Dimensions\n",
        "print('New Final DataFrame Dimension:', movie_data.shape)"
      ],
      "metadata": {
        "colab": {
          "base_uri": "https://localhost:8080/"
        },
        "id": "sCX1todpOkg6",
        "outputId": "f5ecd011-5f87-44a9-ff88-95d2b4f4eb60"
      },
      "execution_count": 13,
      "outputs": [
        {
          "output_type": "stream",
          "name": "stdout",
          "text": [
            "New Final DataFrame Dimension: (3229, 16)\n"
          ]
        }
      ]
    },
    {
      "cell_type": "markdown",
      "source": [
        "As we can see, there are quite a few rows that contains `NaN` in the original data.\n",
        "\n",
        "Now we have completed our data cleaning steps.\n",
        "\n",
        "---"
      ],
      "metadata": {
        "id": "rCu_D7k5P9gQ"
      }
    },
    {
      "cell_type": "markdown",
      "source": [
        "# Data Transformation\n",
        "\n",
        "In this step, we will transform our data so that we can answer the questions that we defined earlier.\n",
        "\n",
        "The most common data transformation steps are:\n",
        "\n",
        "1. Change the data types of certain column.\n",
        "2. Extract information from `JSON` strings.\n",
        "3. Execute Mathematical operations on columns and place the result in new columns."
      ],
      "metadata": {
        "id": "hnmeAeIOREF3"
      }
    },
    {
      "cell_type": "markdown",
      "source": [
        "## Changing Data Type\n",
        "\n",
        "First of all let's look at the data types of each columns in our data frame:"
      ],
      "metadata": {
        "id": "ZnBUCs9uB_6n"
      }
    },
    {
      "cell_type": "code",
      "source": [
        "movie_data.dtypes"
      ],
      "metadata": {
        "colab": {
          "base_uri": "https://localhost:8080/"
        },
        "id": "6AttheX0B_Jf",
        "outputId": "4ae25591-30c5-42aa-d4ae-b728a2b35f92"
      },
      "execution_count": 14,
      "outputs": [
        {
          "output_type": "execute_result",
          "data": {
            "text/plain": [
              "budget                  float64\n",
              "genres                   object\n",
              "id                        int64\n",
              "popularity              float64\n",
              "production_companies     object\n",
              "production_countries     object\n",
              "release_date             object\n",
              "revenue                 float64\n",
              "runtime                 float64\n",
              "spoken_languages         object\n",
              "title                    object\n",
              "vote_average            float64\n",
              "vote_count                int64\n",
              "movie_id                  int64\n",
              "cast                     object\n",
              "crew                     object\n",
              "dtype: object"
            ]
          },
          "metadata": {},
          "execution_count": 14
        }
      ]
    },
    {
      "cell_type": "markdown",
      "source": [
        "Looks like some columns that are supposed to be `int64` are correct, we noticed that the `release_date` column can be parsed into a `datetime64` data type."
      ],
      "metadata": {
        "id": "8S0EhtUsDX-K"
      }
    },
    {
      "cell_type": "code",
      "source": [
        "movie_data['release_date'] = pd.to_datetime(movie_data['release_date'])"
      ],
      "metadata": {
        "id": "jZW8FMqpD4Li"
      },
      "execution_count": 15,
      "outputs": []
    },
    {
      "cell_type": "markdown",
      "source": [
        "The reason that we normally would like to parse date data into `datetime64` format is because we can then split and extract the day, month and year out for further analysis (for example, to answer question 4)."
      ],
      "metadata": {
        "id": "ILFPXeTLSP5B"
      }
    },
    {
      "cell_type": "markdown",
      "source": [
        "## Extract Information from `JSON` Strings\n",
        "\n",
        "Looking at the data preview before, we noticed certain columns containing `JSON` formatted strings, and it contains some unnecessary data that aren't really needed, so let's solve this problem.\n",
        "\n",
        "We will first define a `JSON` parser function that only extracts the values that we want:"
      ],
      "metadata": {
        "id": "NKOTPthKEW1t"
      }
    },
    {
      "cell_type": "code",
      "source": [
        "def parse(col, key):\n",
        "    '''\n",
        "    This function takes in 2 arguments:\n",
        "    - col: Column of the DataFrame\n",
        "    - key: Key of the JSON string to extract\n",
        "\n",
        "    This function automatically extracts and replaces the value from the key into the DataFrame column.\n",
        "\n",
        "    Return: None\n",
        "    '''\n",
        "    for index, json_string in zip(movie_data.index, movie_data[col].apply(json.loads)):\n",
        "        extracted_value = [json_string[i][key] for i in range(len(json_string))]\n",
        "        movie_data.loc[index, col] = str(extracted_value)"
      ],
      "metadata": {
        "id": "WuYMo_8dEqS2"
      },
      "execution_count": 16,
      "outputs": []
    },
    {
      "cell_type": "markdown",
      "source": [
        "There are several columns that contains `JSON` strings and we only want to extract only certain values:\n",
        "\n",
        "* `genres`: we only want the `name` of the genres.\n",
        "* `production_companies`: we only want the `name` of the companies.\n",
        "* `production_countries`: we only want the `name` of the countries.\n",
        "* `spoken_languages`: we only want the `name` of the languages.\n",
        "* `cast`: we only want the `name` of the cast.\n",
        "\n",
        "Now we will use the function we defined earlier to do the data extraction:"
      ],
      "metadata": {
        "id": "az5lyOaTHuqK"
      }
    },
    {
      "cell_type": "code",
      "source": [
        "parse('genres', 'name')\n",
        "parse('production_companies', 'name')\n",
        "parse('production_countries', 'name')\n",
        "parse('spoken_languages', 'name')\n",
        "parse('cast', 'name')"
      ],
      "metadata": {
        "id": "t3Tj8PNsJXHF"
      },
      "execution_count": 17,
      "outputs": []
    },
    {
      "cell_type": "markdown",
      "source": [
        "Note that the columns that contain data converted from `JSON` string is not a `list` but a `string`, so we will need to separate them into lists to answer some questions (for example genres, countries and languages).\n",
        "\n",
        "Let's define a function to do that for us:"
      ],
      "metadata": {
        "id": "p2RLNmG2XgUz"
      }
    },
    {
      "cell_type": "code",
      "source": [
        "def str_to_list(columns):\n",
        "    '''\n",
        "    This function takes in 1 argument:\n",
        "    - columns: List of column names to perform conversion\n",
        "    \n",
        "    This function converts The list-like strings into list.\n",
        "\n",
        "    Returns: None\n",
        "    '''\n",
        "    for column in columns:\n",
        "        movie_data[column] = movie_data[column].str.strip(\"[]\").str.replace(\"'\", '').str.split(', ')"
      ],
      "metadata": {
        "id": "me26VnxduyxI"
      },
      "execution_count": 18,
      "outputs": []
    },
    {
      "cell_type": "markdown",
      "source": [
        "Now we will convert the data of those columns into lists:"
      ],
      "metadata": {
        "id": "kD2s_P8Gvohd"
      }
    },
    {
      "cell_type": "code",
      "source": [
        "str_to_list(['genres', 'spoken_languages', 'production_countries', 'production_companies', 'cast'])"
      ],
      "metadata": {
        "id": "ueYjxWccQTv7"
      },
      "execution_count": 19,
      "outputs": []
    },
    {
      "cell_type": "markdown",
      "source": [
        "Let's look at what we have now before proceeding:"
      ],
      "metadata": {
        "id": "pfgQlEdcK5T5"
      }
    },
    {
      "cell_type": "code",
      "source": [
        "movie_data.head()"
      ],
      "metadata": {
        "colab": {
          "base_uri": "https://localhost:8080/",
          "height": 563
        },
        "id": "EObqRAkcK9TH",
        "outputId": "03a517b6-c1f7-4f2b-cb53-dc048b7de7e2"
      },
      "execution_count": 20,
      "outputs": [
        {
          "output_type": "execute_result",
          "data": {
            "text/plain": [
              "        budget                                         genres      id  \\\n",
              "0  237000000.0  [Action, Adventure, Fantasy, Science Fiction]   19995   \n",
              "1  300000000.0                   [Adventure, Fantasy, Action]     285   \n",
              "2  245000000.0                     [Action, Adventure, Crime]  206647   \n",
              "3  250000000.0               [Action, Crime, Drama, Thriller]   49026   \n",
              "4  260000000.0           [Action, Adventure, Science Fiction]   49529   \n",
              "\n",
              "   popularity                               production_companies  \\\n",
              "0  150.437577  [Ingenious Film Partners, Twentieth Century Fo...   \n",
              "1  139.082615  [Walt Disney Pictures, Jerry Bruckheimer Films...   \n",
              "2  107.376788                   [Columbia Pictures, Danjaq, B24]   \n",
              "3  112.312950  [Legendary Pictures, Warner Bros., DC Entertai...   \n",
              "4   43.926995                             [Walt Disney Pictures]   \n",
              "\n",
              "                         production_countries release_date       revenue  \\\n",
              "0  [United States of America, United Kingdom]   2009-12-10  2.787965e+09   \n",
              "1                  [United States of America]   2007-05-19  9.610000e+08   \n",
              "2  [United Kingdom, United States of America]   2015-10-26  8.806746e+08   \n",
              "3                  [United States of America]   2012-07-16  1.084939e+09   \n",
              "4                  [United States of America]   2012-03-07  2.841391e+08   \n",
              "\n",
              "   runtime                                 spoken_languages  \\\n",
              "0    162.0                               [English, Español]   \n",
              "1    169.0                                        [English]   \n",
              "2    148.0  [Français, English, Español, Italiano, Deutsch]   \n",
              "3    165.0                                        [English]   \n",
              "4    132.0                                        [English]   \n",
              "\n",
              "                                      title  vote_average  vote_count  \\\n",
              "0                                    Avatar           7.2       11800   \n",
              "1  Pirates of the Caribbean: At World's End           6.9        4500   \n",
              "2                                   Spectre           6.3        4466   \n",
              "3                     The Dark Knight Rises           7.6        9106   \n",
              "4                               John Carter           6.1        2124   \n",
              "\n",
              "   movie_id                                               cast  \\\n",
              "0     19995  [Sam Worthington, Zoe Saldana, Sigourney Weave...   \n",
              "1       285  [Johnny Depp, Orlando Bloom, Keira Knightley, ...   \n",
              "2    206647  [Daniel Craig, Christoph Waltz, Léa Seydoux, R...   \n",
              "3     49026  [Christian Bale, Michael Caine, Gary Oldman, A...   \n",
              "4     49529  [Taylor Kitsch, Lynn Collins, Samantha Morton,...   \n",
              "\n",
              "                                                crew  \n",
              "0  [{\"credit_id\": \"52fe48009251416c750aca23\", \"de...  \n",
              "1  [{\"credit_id\": \"52fe4232c3a36847f800b579\", \"de...  \n",
              "2  [{\"credit_id\": \"54805967c3a36829b5002c41\", \"de...  \n",
              "3  [{\"credit_id\": \"52fe4781c3a36847f81398c3\", \"de...  \n",
              "4  [{\"credit_id\": \"52fe479ac3a36847f813eaa3\", \"de...  "
            ],
            "text/html": [
              "\n",
              "  <div id=\"df-71484610-50cd-42e9-9db4-990fc267fe49\">\n",
              "    <div class=\"colab-df-container\">\n",
              "      <div>\n",
              "<style scoped>\n",
              "    .dataframe tbody tr th:only-of-type {\n",
              "        vertical-align: middle;\n",
              "    }\n",
              "\n",
              "    .dataframe tbody tr th {\n",
              "        vertical-align: top;\n",
              "    }\n",
              "\n",
              "    .dataframe thead th {\n",
              "        text-align: right;\n",
              "    }\n",
              "</style>\n",
              "<table border=\"1\" class=\"dataframe\">\n",
              "  <thead>\n",
              "    <tr style=\"text-align: right;\">\n",
              "      <th></th>\n",
              "      <th>budget</th>\n",
              "      <th>genres</th>\n",
              "      <th>id</th>\n",
              "      <th>popularity</th>\n",
              "      <th>production_companies</th>\n",
              "      <th>production_countries</th>\n",
              "      <th>release_date</th>\n",
              "      <th>revenue</th>\n",
              "      <th>runtime</th>\n",
              "      <th>spoken_languages</th>\n",
              "      <th>title</th>\n",
              "      <th>vote_average</th>\n",
              "      <th>vote_count</th>\n",
              "      <th>movie_id</th>\n",
              "      <th>cast</th>\n",
              "      <th>crew</th>\n",
              "    </tr>\n",
              "  </thead>\n",
              "  <tbody>\n",
              "    <tr>\n",
              "      <th>0</th>\n",
              "      <td>237000000.0</td>\n",
              "      <td>[Action, Adventure, Fantasy, Science Fiction]</td>\n",
              "      <td>19995</td>\n",
              "      <td>150.437577</td>\n",
              "      <td>[Ingenious Film Partners, Twentieth Century Fo...</td>\n",
              "      <td>[United States of America, United Kingdom]</td>\n",
              "      <td>2009-12-10</td>\n",
              "      <td>2.787965e+09</td>\n",
              "      <td>162.0</td>\n",
              "      <td>[English, Español]</td>\n",
              "      <td>Avatar</td>\n",
              "      <td>7.2</td>\n",
              "      <td>11800</td>\n",
              "      <td>19995</td>\n",
              "      <td>[Sam Worthington, Zoe Saldana, Sigourney Weave...</td>\n",
              "      <td>[{\"credit_id\": \"52fe48009251416c750aca23\", \"de...</td>\n",
              "    </tr>\n",
              "    <tr>\n",
              "      <th>1</th>\n",
              "      <td>300000000.0</td>\n",
              "      <td>[Adventure, Fantasy, Action]</td>\n",
              "      <td>285</td>\n",
              "      <td>139.082615</td>\n",
              "      <td>[Walt Disney Pictures, Jerry Bruckheimer Films...</td>\n",
              "      <td>[United States of America]</td>\n",
              "      <td>2007-05-19</td>\n",
              "      <td>9.610000e+08</td>\n",
              "      <td>169.0</td>\n",
              "      <td>[English]</td>\n",
              "      <td>Pirates of the Caribbean: At World's End</td>\n",
              "      <td>6.9</td>\n",
              "      <td>4500</td>\n",
              "      <td>285</td>\n",
              "      <td>[Johnny Depp, Orlando Bloom, Keira Knightley, ...</td>\n",
              "      <td>[{\"credit_id\": \"52fe4232c3a36847f800b579\", \"de...</td>\n",
              "    </tr>\n",
              "    <tr>\n",
              "      <th>2</th>\n",
              "      <td>245000000.0</td>\n",
              "      <td>[Action, Adventure, Crime]</td>\n",
              "      <td>206647</td>\n",
              "      <td>107.376788</td>\n",
              "      <td>[Columbia Pictures, Danjaq, B24]</td>\n",
              "      <td>[United Kingdom, United States of America]</td>\n",
              "      <td>2015-10-26</td>\n",
              "      <td>8.806746e+08</td>\n",
              "      <td>148.0</td>\n",
              "      <td>[Français, English, Español, Italiano, Deutsch]</td>\n",
              "      <td>Spectre</td>\n",
              "      <td>6.3</td>\n",
              "      <td>4466</td>\n",
              "      <td>206647</td>\n",
              "      <td>[Daniel Craig, Christoph Waltz, Léa Seydoux, R...</td>\n",
              "      <td>[{\"credit_id\": \"54805967c3a36829b5002c41\", \"de...</td>\n",
              "    </tr>\n",
              "    <tr>\n",
              "      <th>3</th>\n",
              "      <td>250000000.0</td>\n",
              "      <td>[Action, Crime, Drama, Thriller]</td>\n",
              "      <td>49026</td>\n",
              "      <td>112.312950</td>\n",
              "      <td>[Legendary Pictures, Warner Bros., DC Entertai...</td>\n",
              "      <td>[United States of America]</td>\n",
              "      <td>2012-07-16</td>\n",
              "      <td>1.084939e+09</td>\n",
              "      <td>165.0</td>\n",
              "      <td>[English]</td>\n",
              "      <td>The Dark Knight Rises</td>\n",
              "      <td>7.6</td>\n",
              "      <td>9106</td>\n",
              "      <td>49026</td>\n",
              "      <td>[Christian Bale, Michael Caine, Gary Oldman, A...</td>\n",
              "      <td>[{\"credit_id\": \"52fe4781c3a36847f81398c3\", \"de...</td>\n",
              "    </tr>\n",
              "    <tr>\n",
              "      <th>4</th>\n",
              "      <td>260000000.0</td>\n",
              "      <td>[Action, Adventure, Science Fiction]</td>\n",
              "      <td>49529</td>\n",
              "      <td>43.926995</td>\n",
              "      <td>[Walt Disney Pictures]</td>\n",
              "      <td>[United States of America]</td>\n",
              "      <td>2012-03-07</td>\n",
              "      <td>2.841391e+08</td>\n",
              "      <td>132.0</td>\n",
              "      <td>[English]</td>\n",
              "      <td>John Carter</td>\n",
              "      <td>6.1</td>\n",
              "      <td>2124</td>\n",
              "      <td>49529</td>\n",
              "      <td>[Taylor Kitsch, Lynn Collins, Samantha Morton,...</td>\n",
              "      <td>[{\"credit_id\": \"52fe479ac3a36847f813eaa3\", \"de...</td>\n",
              "    </tr>\n",
              "  </tbody>\n",
              "</table>\n",
              "</div>\n",
              "      <button class=\"colab-df-convert\" onclick=\"convertToInteractive('df-71484610-50cd-42e9-9db4-990fc267fe49')\"\n",
              "              title=\"Convert this dataframe to an interactive table.\"\n",
              "              style=\"display:none;\">\n",
              "        \n",
              "  <svg xmlns=\"http://www.w3.org/2000/svg\" height=\"24px\"viewBox=\"0 0 24 24\"\n",
              "       width=\"24px\">\n",
              "    <path d=\"M0 0h24v24H0V0z\" fill=\"none\"/>\n",
              "    <path d=\"M18.56 5.44l.94 2.06.94-2.06 2.06-.94-2.06-.94-.94-2.06-.94 2.06-2.06.94zm-11 1L8.5 8.5l.94-2.06 2.06-.94-2.06-.94L8.5 2.5l-.94 2.06-2.06.94zm10 10l.94 2.06.94-2.06 2.06-.94-2.06-.94-.94-2.06-.94 2.06-2.06.94z\"/><path d=\"M17.41 7.96l-1.37-1.37c-.4-.4-.92-.59-1.43-.59-.52 0-1.04.2-1.43.59L10.3 9.45l-7.72 7.72c-.78.78-.78 2.05 0 2.83L4 21.41c.39.39.9.59 1.41.59.51 0 1.02-.2 1.41-.59l7.78-7.78 2.81-2.81c.8-.78.8-2.07 0-2.86zM5.41 20L4 18.59l7.72-7.72 1.47 1.35L5.41 20z\"/>\n",
              "  </svg>\n",
              "      </button>\n",
              "      \n",
              "  <style>\n",
              "    .colab-df-container {\n",
              "      display:flex;\n",
              "      flex-wrap:wrap;\n",
              "      gap: 12px;\n",
              "    }\n",
              "\n",
              "    .colab-df-convert {\n",
              "      background-color: #E8F0FE;\n",
              "      border: none;\n",
              "      border-radius: 50%;\n",
              "      cursor: pointer;\n",
              "      display: none;\n",
              "      fill: #1967D2;\n",
              "      height: 32px;\n",
              "      padding: 0 0 0 0;\n",
              "      width: 32px;\n",
              "    }\n",
              "\n",
              "    .colab-df-convert:hover {\n",
              "      background-color: #E2EBFA;\n",
              "      box-shadow: 0px 1px 2px rgba(60, 64, 67, 0.3), 0px 1px 3px 1px rgba(60, 64, 67, 0.15);\n",
              "      fill: #174EA6;\n",
              "    }\n",
              "\n",
              "    [theme=dark] .colab-df-convert {\n",
              "      background-color: #3B4455;\n",
              "      fill: #D2E3FC;\n",
              "    }\n",
              "\n",
              "    [theme=dark] .colab-df-convert:hover {\n",
              "      background-color: #434B5C;\n",
              "      box-shadow: 0px 1px 3px 1px rgba(0, 0, 0, 0.15);\n",
              "      filter: drop-shadow(0px 1px 2px rgba(0, 0, 0, 0.3));\n",
              "      fill: #FFFFFF;\n",
              "    }\n",
              "  </style>\n",
              "\n",
              "      <script>\n",
              "        const buttonEl =\n",
              "          document.querySelector('#df-71484610-50cd-42e9-9db4-990fc267fe49 button.colab-df-convert');\n",
              "        buttonEl.style.display =\n",
              "          google.colab.kernel.accessAllowed ? 'block' : 'none';\n",
              "\n",
              "        async function convertToInteractive(key) {\n",
              "          const element = document.querySelector('#df-71484610-50cd-42e9-9db4-990fc267fe49');\n",
              "          const dataTable =\n",
              "            await google.colab.kernel.invokeFunction('convertToInteractive',\n",
              "                                                     [key], {});\n",
              "          if (!dataTable) return;\n",
              "\n",
              "          const docLinkHtml = 'Like what you see? Visit the ' +\n",
              "            '<a target=\"_blank\" href=https://colab.research.google.com/notebooks/data_table.ipynb>data table notebook</a>'\n",
              "            + ' to learn more about interactive tables.';\n",
              "          element.innerHTML = '';\n",
              "          dataTable['output_type'] = 'display_data';\n",
              "          await google.colab.output.renderOutput(dataTable, element);\n",
              "          const docLink = document.createElement('div');\n",
              "          docLink.innerHTML = docLinkHtml;\n",
              "          element.appendChild(docLink);\n",
              "        }\n",
              "      </script>\n",
              "    </div>\n",
              "  </div>\n",
              "  "
            ]
          },
          "metadata": {},
          "execution_count": 20
        }
      ]
    },
    {
      "cell_type": "markdown",
      "source": [
        "We successfully extracted the data that we want from the `JSON` strings into lists."
      ],
      "metadata": {
        "id": "KncpMr8wLAxU"
      }
    },
    {
      "cell_type": "markdown",
      "source": [
        "## Execute Operations and Create New Columns\n",
        "\n",
        "In this step, we will mostly be referring to the questions that we want to answer."
      ],
      "metadata": {
        "id": "y6fXOW-1IFpN"
      }
    },
    {
      "cell_type": "markdown",
      "source": [
        "There are some questions related to profit, which is generally the `revenue` minus `budget`, so we will be creating a column for `profit`:"
      ],
      "metadata": {
        "id": "5MM-NO_1Ve3E"
      }
    },
    {
      "cell_type": "code",
      "source": [
        "movie_data['profit'] = movie_data['revenue'] - movie_data['budget']"
      ],
      "metadata": {
        "id": "jBGggyveVq4L"
      },
      "execution_count": 21,
      "outputs": []
    },
    {
      "cell_type": "markdown",
      "source": [
        "Now, let's extract the year from `release_date` into a column called `release_year` so that we can easily answer questions related to years:"
      ],
      "metadata": {
        "id": "uSGZduS_Sm2W"
      }
    },
    {
      "cell_type": "code",
      "source": [
        "movie_data['release_year'] = movie_data['release_date'].dt.year"
      ],
      "metadata": {
        "id": "KFbwI4xRIMSg"
      },
      "execution_count": 22,
      "outputs": []
    },
    {
      "cell_type": "markdown",
      "source": [
        "Finally, we will be arranging our column orders to make analyzing easier:"
      ],
      "metadata": {
        "id": "53ATvgpug7-r"
      }
    },
    {
      "cell_type": "code",
      "source": [
        "new_column_order = [\n",
        "    'budget',\n",
        "    'profit',\n",
        "    'revenue',\n",
        "    'title',\n",
        "    'genres',\n",
        "    'popularity',\n",
        "    'release_date',\n",
        "    'release_year',\n",
        "    'runtime',\n",
        "    'spoken_languages',\n",
        "    'production_countries',\n",
        "    'production_companies',\n",
        "    'cast',\n",
        "    'vote_average',\n",
        "    'vote_count',\n",
        "    'id'\n",
        "]"
      ],
      "metadata": {
        "id": "14vmkJQJhCx-"
      },
      "execution_count": 23,
      "outputs": []
    },
    {
      "cell_type": "markdown",
      "source": [
        "Then applying it to modify the column order of our data frame:"
      ],
      "metadata": {
        "id": "JQD13t-th3sX"
      }
    },
    {
      "cell_type": "code",
      "source": [
        "movie_data = movie_data[new_column_order]"
      ],
      "metadata": {
        "id": "IMWwYWfmh7QM"
      },
      "execution_count": 24,
      "outputs": []
    },
    {
      "cell_type": "markdown",
      "source": [
        "---"
      ],
      "metadata": {
        "id": "swpYXVwC4Zta"
      }
    },
    {
      "cell_type": "markdown",
      "source": [
        "# Answering Questions\n",
        "\n",
        "After processing and analyzing the data, we can finally start to answer some questions using the data we have."
      ],
      "metadata": {
        "id": "lcx_2rG5gJ2X"
      }
    },
    {
      "cell_type": "markdown",
      "source": [
        "## Question 01: Top 5 Most Budget Expensive Movies\n",
        "\n",
        "To determine the top 5 most budget-expensive movies, we will sort our `movie_data` on the `budget` column, in descending order. Then, we will display the first 5 columns of the sorted data:"
      ],
      "metadata": {
        "id": "1fcLrwtOgTEt"
      }
    },
    {
      "cell_type": "code",
      "source": [
        "answer_to_q1 = movie_data.sort_values(by='budget', ascending=False).head()\n",
        "answer_to_q1"
      ],
      "metadata": {
        "colab": {
          "base_uri": "https://localhost:8080/",
          "height": 511
        },
        "id": "zKbqM1AhgShy",
        "outputId": "2663f642-6103-47f9-9df6-a67db31b8be4"
      },
      "execution_count": 25,
      "outputs": [
        {
          "output_type": "execute_result",
          "data": {
            "text/plain": [
              "         budget        profit       revenue  \\\n",
              "17  380000000.0  6.657138e+08  1.045714e+09   \n",
              "1   300000000.0  6.610000e+08  9.610000e+08   \n",
              "7   280000000.0  1.125404e+09  1.405404e+09   \n",
              "10  270000000.0  1.210812e+08  3.910812e+08   \n",
              "4   260000000.0  2.413910e+07  2.841391e+08   \n",
              "\n",
              "                                          title  \\\n",
              "17  Pirates of the Caribbean: On Stranger Tides   \n",
              "1      Pirates of the Caribbean: At World's End   \n",
              "7                       Avengers: Age of Ultron   \n",
              "10                             Superman Returns   \n",
              "4                                   John Carter   \n",
              "\n",
              "                                           genres  popularity release_date  \\\n",
              "17                   [Adventure, Action, Fantasy]  135.413856   2011-05-14   \n",
              "1                    [Adventure, Fantasy, Action]  139.082615   2007-05-19   \n",
              "7            [Action, Adventure, Science Fiction]  134.279229   2015-04-22   \n",
              "10  [Adventure, Fantasy, Action, Science Fiction]   57.925623   2006-06-28   \n",
              "4            [Action, Adventure, Science Fiction]   43.926995   2012-03-07   \n",
              "\n",
              "    release_year  runtime              spoken_languages  \\\n",
              "17          2011    136.0            [English, Español]   \n",
              "1           2007    169.0                     [English]   \n",
              "7           2015    141.0                     [English]   \n",
              "10          2006    154.0  [English, Français, Deutsch]   \n",
              "4           2012    132.0                     [English]   \n",
              "\n",
              "          production_countries  \\\n",
              "17  [United States of America]   \n",
              "1   [United States of America]   \n",
              "7   [United States of America]   \n",
              "10  [United States of America]   \n",
              "4   [United States of America]   \n",
              "\n",
              "                                 production_companies  \\\n",
              "17  [Walt Disney Pictures, Jerry Bruckheimer Films...   \n",
              "1   [Walt Disney Pictures, Jerry Bruckheimer Films...   \n",
              "7   [Marvel Studios, Prime Focus, Revolution Sun S...   \n",
              "10  [DC Comics, Legendary Pictures, Warner Bros., ...   \n",
              "4                              [Walt Disney Pictures]   \n",
              "\n",
              "                                                 cast  vote_average  \\\n",
              "17  [Johnny Depp, Penélope Cruz, Ian McShane, Kevi...           6.4   \n",
              "1   [Johnny Depp, Orlando Bloom, Keira Knightley, ...           6.9   \n",
              "7   [Robert Downey Jr., Chris Hemsworth, Mark Ruff...           7.3   \n",
              "10  [Brandon Routh, Kevin Spacey, Kate Bosworth, J...           5.4   \n",
              "4   [Taylor Kitsch, Lynn Collins, Samantha Morton,...           6.1   \n",
              "\n",
              "    vote_count     id  \n",
              "17        4948   1865  \n",
              "1         4500    285  \n",
              "7         6767  99861  \n",
              "10        1400   1452  \n",
              "4         2124  49529  "
            ],
            "text/html": [
              "\n",
              "  <div id=\"df-8a88982c-1bfd-42b4-959d-373ec41ec383\">\n",
              "    <div class=\"colab-df-container\">\n",
              "      <div>\n",
              "<style scoped>\n",
              "    .dataframe tbody tr th:only-of-type {\n",
              "        vertical-align: middle;\n",
              "    }\n",
              "\n",
              "    .dataframe tbody tr th {\n",
              "        vertical-align: top;\n",
              "    }\n",
              "\n",
              "    .dataframe thead th {\n",
              "        text-align: right;\n",
              "    }\n",
              "</style>\n",
              "<table border=\"1\" class=\"dataframe\">\n",
              "  <thead>\n",
              "    <tr style=\"text-align: right;\">\n",
              "      <th></th>\n",
              "      <th>budget</th>\n",
              "      <th>profit</th>\n",
              "      <th>revenue</th>\n",
              "      <th>title</th>\n",
              "      <th>genres</th>\n",
              "      <th>popularity</th>\n",
              "      <th>release_date</th>\n",
              "      <th>release_year</th>\n",
              "      <th>runtime</th>\n",
              "      <th>spoken_languages</th>\n",
              "      <th>production_countries</th>\n",
              "      <th>production_companies</th>\n",
              "      <th>cast</th>\n",
              "      <th>vote_average</th>\n",
              "      <th>vote_count</th>\n",
              "      <th>id</th>\n",
              "    </tr>\n",
              "  </thead>\n",
              "  <tbody>\n",
              "    <tr>\n",
              "      <th>17</th>\n",
              "      <td>380000000.0</td>\n",
              "      <td>6.657138e+08</td>\n",
              "      <td>1.045714e+09</td>\n",
              "      <td>Pirates of the Caribbean: On Stranger Tides</td>\n",
              "      <td>[Adventure, Action, Fantasy]</td>\n",
              "      <td>135.413856</td>\n",
              "      <td>2011-05-14</td>\n",
              "      <td>2011</td>\n",
              "      <td>136.0</td>\n",
              "      <td>[English, Español]</td>\n",
              "      <td>[United States of America]</td>\n",
              "      <td>[Walt Disney Pictures, Jerry Bruckheimer Films...</td>\n",
              "      <td>[Johnny Depp, Penélope Cruz, Ian McShane, Kevi...</td>\n",
              "      <td>6.4</td>\n",
              "      <td>4948</td>\n",
              "      <td>1865</td>\n",
              "    </tr>\n",
              "    <tr>\n",
              "      <th>1</th>\n",
              "      <td>300000000.0</td>\n",
              "      <td>6.610000e+08</td>\n",
              "      <td>9.610000e+08</td>\n",
              "      <td>Pirates of the Caribbean: At World's End</td>\n",
              "      <td>[Adventure, Fantasy, Action]</td>\n",
              "      <td>139.082615</td>\n",
              "      <td>2007-05-19</td>\n",
              "      <td>2007</td>\n",
              "      <td>169.0</td>\n",
              "      <td>[English]</td>\n",
              "      <td>[United States of America]</td>\n",
              "      <td>[Walt Disney Pictures, Jerry Bruckheimer Films...</td>\n",
              "      <td>[Johnny Depp, Orlando Bloom, Keira Knightley, ...</td>\n",
              "      <td>6.9</td>\n",
              "      <td>4500</td>\n",
              "      <td>285</td>\n",
              "    </tr>\n",
              "    <tr>\n",
              "      <th>7</th>\n",
              "      <td>280000000.0</td>\n",
              "      <td>1.125404e+09</td>\n",
              "      <td>1.405404e+09</td>\n",
              "      <td>Avengers: Age of Ultron</td>\n",
              "      <td>[Action, Adventure, Science Fiction]</td>\n",
              "      <td>134.279229</td>\n",
              "      <td>2015-04-22</td>\n",
              "      <td>2015</td>\n",
              "      <td>141.0</td>\n",
              "      <td>[English]</td>\n",
              "      <td>[United States of America]</td>\n",
              "      <td>[Marvel Studios, Prime Focus, Revolution Sun S...</td>\n",
              "      <td>[Robert Downey Jr., Chris Hemsworth, Mark Ruff...</td>\n",
              "      <td>7.3</td>\n",
              "      <td>6767</td>\n",
              "      <td>99861</td>\n",
              "    </tr>\n",
              "    <tr>\n",
              "      <th>10</th>\n",
              "      <td>270000000.0</td>\n",
              "      <td>1.210812e+08</td>\n",
              "      <td>3.910812e+08</td>\n",
              "      <td>Superman Returns</td>\n",
              "      <td>[Adventure, Fantasy, Action, Science Fiction]</td>\n",
              "      <td>57.925623</td>\n",
              "      <td>2006-06-28</td>\n",
              "      <td>2006</td>\n",
              "      <td>154.0</td>\n",
              "      <td>[English, Français, Deutsch]</td>\n",
              "      <td>[United States of America]</td>\n",
              "      <td>[DC Comics, Legendary Pictures, Warner Bros., ...</td>\n",
              "      <td>[Brandon Routh, Kevin Spacey, Kate Bosworth, J...</td>\n",
              "      <td>5.4</td>\n",
              "      <td>1400</td>\n",
              "      <td>1452</td>\n",
              "    </tr>\n",
              "    <tr>\n",
              "      <th>4</th>\n",
              "      <td>260000000.0</td>\n",
              "      <td>2.413910e+07</td>\n",
              "      <td>2.841391e+08</td>\n",
              "      <td>John Carter</td>\n",
              "      <td>[Action, Adventure, Science Fiction]</td>\n",
              "      <td>43.926995</td>\n",
              "      <td>2012-03-07</td>\n",
              "      <td>2012</td>\n",
              "      <td>132.0</td>\n",
              "      <td>[English]</td>\n",
              "      <td>[United States of America]</td>\n",
              "      <td>[Walt Disney Pictures]</td>\n",
              "      <td>[Taylor Kitsch, Lynn Collins, Samantha Morton,...</td>\n",
              "      <td>6.1</td>\n",
              "      <td>2124</td>\n",
              "      <td>49529</td>\n",
              "    </tr>\n",
              "  </tbody>\n",
              "</table>\n",
              "</div>\n",
              "      <button class=\"colab-df-convert\" onclick=\"convertToInteractive('df-8a88982c-1bfd-42b4-959d-373ec41ec383')\"\n",
              "              title=\"Convert this dataframe to an interactive table.\"\n",
              "              style=\"display:none;\">\n",
              "        \n",
              "  <svg xmlns=\"http://www.w3.org/2000/svg\" height=\"24px\"viewBox=\"0 0 24 24\"\n",
              "       width=\"24px\">\n",
              "    <path d=\"M0 0h24v24H0V0z\" fill=\"none\"/>\n",
              "    <path d=\"M18.56 5.44l.94 2.06.94-2.06 2.06-.94-2.06-.94-.94-2.06-.94 2.06-2.06.94zm-11 1L8.5 8.5l.94-2.06 2.06-.94-2.06-.94L8.5 2.5l-.94 2.06-2.06.94zm10 10l.94 2.06.94-2.06 2.06-.94-2.06-.94-.94-2.06-.94 2.06-2.06.94z\"/><path d=\"M17.41 7.96l-1.37-1.37c-.4-.4-.92-.59-1.43-.59-.52 0-1.04.2-1.43.59L10.3 9.45l-7.72 7.72c-.78.78-.78 2.05 0 2.83L4 21.41c.39.39.9.59 1.41.59.51 0 1.02-.2 1.41-.59l7.78-7.78 2.81-2.81c.8-.78.8-2.07 0-2.86zM5.41 20L4 18.59l7.72-7.72 1.47 1.35L5.41 20z\"/>\n",
              "  </svg>\n",
              "      </button>\n",
              "      \n",
              "  <style>\n",
              "    .colab-df-container {\n",
              "      display:flex;\n",
              "      flex-wrap:wrap;\n",
              "      gap: 12px;\n",
              "    }\n",
              "\n",
              "    .colab-df-convert {\n",
              "      background-color: #E8F0FE;\n",
              "      border: none;\n",
              "      border-radius: 50%;\n",
              "      cursor: pointer;\n",
              "      display: none;\n",
              "      fill: #1967D2;\n",
              "      height: 32px;\n",
              "      padding: 0 0 0 0;\n",
              "      width: 32px;\n",
              "    }\n",
              "\n",
              "    .colab-df-convert:hover {\n",
              "      background-color: #E2EBFA;\n",
              "      box-shadow: 0px 1px 2px rgba(60, 64, 67, 0.3), 0px 1px 3px 1px rgba(60, 64, 67, 0.15);\n",
              "      fill: #174EA6;\n",
              "    }\n",
              "\n",
              "    [theme=dark] .colab-df-convert {\n",
              "      background-color: #3B4455;\n",
              "      fill: #D2E3FC;\n",
              "    }\n",
              "\n",
              "    [theme=dark] .colab-df-convert:hover {\n",
              "      background-color: #434B5C;\n",
              "      box-shadow: 0px 1px 3px 1px rgba(0, 0, 0, 0.15);\n",
              "      filter: drop-shadow(0px 1px 2px rgba(0, 0, 0, 0.3));\n",
              "      fill: #FFFFFF;\n",
              "    }\n",
              "  </style>\n",
              "\n",
              "      <script>\n",
              "        const buttonEl =\n",
              "          document.querySelector('#df-8a88982c-1bfd-42b4-959d-373ec41ec383 button.colab-df-convert');\n",
              "        buttonEl.style.display =\n",
              "          google.colab.kernel.accessAllowed ? 'block' : 'none';\n",
              "\n",
              "        async function convertToInteractive(key) {\n",
              "          const element = document.querySelector('#df-8a88982c-1bfd-42b4-959d-373ec41ec383');\n",
              "          const dataTable =\n",
              "            await google.colab.kernel.invokeFunction('convertToInteractive',\n",
              "                                                     [key], {});\n",
              "          if (!dataTable) return;\n",
              "\n",
              "          const docLinkHtml = 'Like what you see? Visit the ' +\n",
              "            '<a target=\"_blank\" href=https://colab.research.google.com/notebooks/data_table.ipynb>data table notebook</a>'\n",
              "            + ' to learn more about interactive tables.';\n",
              "          element.innerHTML = '';\n",
              "          dataTable['output_type'] = 'display_data';\n",
              "          await google.colab.output.renderOutput(dataTable, element);\n",
              "          const docLink = document.createElement('div');\n",
              "          docLink.innerHTML = docLinkHtml;\n",
              "          element.appendChild(docLink);\n",
              "        }\n",
              "      </script>\n",
              "    </div>\n",
              "  </div>\n",
              "  "
            ]
          },
          "metadata": {},
          "execution_count": 25
        }
      ]
    },
    {
      "cell_type": "markdown",
      "source": [
        "Looks like the top 5 most budget-expensive movies are:\n",
        "\n",
        "1. `[2011]` Pirates of the Caribbean: On Stranger Tides\n",
        "2. `[2007]` Pirates of the Caribbean: At World's End\n",
        "3. `[2015]` Avengers: Age of Ultron\n",
        "4. `[2006]` Superman Returns\n",
        "5. `[2012]` John Carter"
      ],
      "metadata": {
        "id": "OrxI7EjYiJpU"
      }
    },
    {
      "cell_type": "markdown",
      "source": [
        "## Question 02: Top 5 Most Popular Movies\n",
        "\n",
        "Similar to answering the question above, now we will arrange the data frame on the `popularity` columns instead:"
      ],
      "metadata": {
        "id": "0mAGceV4imQV"
      }
    },
    {
      "cell_type": "code",
      "source": [
        "answer_to_q2 = movie_data.sort_values(by='popularity', ascending=False).head()\n",
        "answer_to_q2"
      ],
      "metadata": {
        "colab": {
          "base_uri": "https://localhost:8080/",
          "height": 511
        },
        "id": "Yz3vghT3g1nm",
        "outputId": "a42d58bd-68af-41ee-f413-3871e8c43356"
      },
      "execution_count": 26,
      "outputs": [
        {
          "output_type": "execute_result",
          "data": {
            "text/plain": [
              "          budget        profit       revenue                    title  \\\n",
              "546   74000000.0  1.082731e+09  1.156731e+09                  Minions   \n",
              "95   165000000.0  5.101200e+08  6.751200e+08             Interstellar   \n",
              "788   58000000.0  7.251130e+08  7.831130e+08                 Deadpool   \n",
              "94   170000000.0  6.033286e+08  7.733286e+08  Guardians of the Galaxy   \n",
              "127  150000000.0  2.288583e+08  3.788583e+08       Mad Max: Fury Road   \n",
              "\n",
              "                                             genres  popularity release_date  \\\n",
              "546          [Family, Animation, Adventure, Comedy]  875.581305   2015-06-17   \n",
              "95              [Adventure, Drama, Science Fiction]  724.247784   2014-11-05   \n",
              "788                     [Action, Adventure, Comedy]  514.569956   2016-02-09   \n",
              "94             [Action, Science Fiction, Adventure]  481.098624   2014-07-30   \n",
              "127  [Action, Adventure, Science Fiction, Thriller]  434.278564   2015-05-13   \n",
              "\n",
              "     release_year  runtime spoken_languages  \\\n",
              "546          2015     91.0        [English]   \n",
              "95           2014    169.0        [English]   \n",
              "788          2016    108.0        [English]   \n",
              "94           2014    121.0        [English]   \n",
              "127          2015    120.0        [English]   \n",
              "\n",
              "                                  production_countries  \\\n",
              "546                         [United States of America]   \n",
              "95   [Canada, United States of America, United King...   \n",
              "788                         [United States of America]   \n",
              "94          [United Kingdom, United States of America]   \n",
              "127              [Australia, United States of America]   \n",
              "\n",
              "                                  production_companies  \\\n",
              "546   [Universal Pictures, Illumination Entertainment]   \n",
              "95   [Paramount Pictures, Legendary Pictures, Warne...   \n",
              "788  [Twentieth Century Fox Film Corporation, Marve...   \n",
              "94   [Marvel Studios, Moving Picture Company (MPC),...   \n",
              "127  [Village Roadshow Pictures, Kennedy Miller Pro...   \n",
              "\n",
              "                                                  cast  vote_average  \\\n",
              "546  [Sandra Bullock, Jon Hamm, Michael Keaton, All...           6.4   \n",
              "95   [Matthew McConaughey, Jessica Chastain, Anne H...           8.1   \n",
              "788  [Ryan Reynolds, Morena Baccarin, Ed Skrein, T....           7.4   \n",
              "94   [Chris Pratt, Zoe Saldana, Dave Bautista, Vin ...           7.9   \n",
              "127  [Tom Hardy, Charlize Theron, Nicholas Hoult, H...           7.2   \n",
              "\n",
              "     vote_count      id  \n",
              "546        4571  211672  \n",
              "95        10867  157336  \n",
              "788       10995  293660  \n",
              "94         9742  118340  \n",
              "127        9427   76341  "
            ],
            "text/html": [
              "\n",
              "  <div id=\"df-eacf1bc6-3288-470f-9fb5-6d31047eb75b\">\n",
              "    <div class=\"colab-df-container\">\n",
              "      <div>\n",
              "<style scoped>\n",
              "    .dataframe tbody tr th:only-of-type {\n",
              "        vertical-align: middle;\n",
              "    }\n",
              "\n",
              "    .dataframe tbody tr th {\n",
              "        vertical-align: top;\n",
              "    }\n",
              "\n",
              "    .dataframe thead th {\n",
              "        text-align: right;\n",
              "    }\n",
              "</style>\n",
              "<table border=\"1\" class=\"dataframe\">\n",
              "  <thead>\n",
              "    <tr style=\"text-align: right;\">\n",
              "      <th></th>\n",
              "      <th>budget</th>\n",
              "      <th>profit</th>\n",
              "      <th>revenue</th>\n",
              "      <th>title</th>\n",
              "      <th>genres</th>\n",
              "      <th>popularity</th>\n",
              "      <th>release_date</th>\n",
              "      <th>release_year</th>\n",
              "      <th>runtime</th>\n",
              "      <th>spoken_languages</th>\n",
              "      <th>production_countries</th>\n",
              "      <th>production_companies</th>\n",
              "      <th>cast</th>\n",
              "      <th>vote_average</th>\n",
              "      <th>vote_count</th>\n",
              "      <th>id</th>\n",
              "    </tr>\n",
              "  </thead>\n",
              "  <tbody>\n",
              "    <tr>\n",
              "      <th>546</th>\n",
              "      <td>74000000.0</td>\n",
              "      <td>1.082731e+09</td>\n",
              "      <td>1.156731e+09</td>\n",
              "      <td>Minions</td>\n",
              "      <td>[Family, Animation, Adventure, Comedy]</td>\n",
              "      <td>875.581305</td>\n",
              "      <td>2015-06-17</td>\n",
              "      <td>2015</td>\n",
              "      <td>91.0</td>\n",
              "      <td>[English]</td>\n",
              "      <td>[United States of America]</td>\n",
              "      <td>[Universal Pictures, Illumination Entertainment]</td>\n",
              "      <td>[Sandra Bullock, Jon Hamm, Michael Keaton, All...</td>\n",
              "      <td>6.4</td>\n",
              "      <td>4571</td>\n",
              "      <td>211672</td>\n",
              "    </tr>\n",
              "    <tr>\n",
              "      <th>95</th>\n",
              "      <td>165000000.0</td>\n",
              "      <td>5.101200e+08</td>\n",
              "      <td>6.751200e+08</td>\n",
              "      <td>Interstellar</td>\n",
              "      <td>[Adventure, Drama, Science Fiction]</td>\n",
              "      <td>724.247784</td>\n",
              "      <td>2014-11-05</td>\n",
              "      <td>2014</td>\n",
              "      <td>169.0</td>\n",
              "      <td>[English]</td>\n",
              "      <td>[Canada, United States of America, United King...</td>\n",
              "      <td>[Paramount Pictures, Legendary Pictures, Warne...</td>\n",
              "      <td>[Matthew McConaughey, Jessica Chastain, Anne H...</td>\n",
              "      <td>8.1</td>\n",
              "      <td>10867</td>\n",
              "      <td>157336</td>\n",
              "    </tr>\n",
              "    <tr>\n",
              "      <th>788</th>\n",
              "      <td>58000000.0</td>\n",
              "      <td>7.251130e+08</td>\n",
              "      <td>7.831130e+08</td>\n",
              "      <td>Deadpool</td>\n",
              "      <td>[Action, Adventure, Comedy]</td>\n",
              "      <td>514.569956</td>\n",
              "      <td>2016-02-09</td>\n",
              "      <td>2016</td>\n",
              "      <td>108.0</td>\n",
              "      <td>[English]</td>\n",
              "      <td>[United States of America]</td>\n",
              "      <td>[Twentieth Century Fox Film Corporation, Marve...</td>\n",
              "      <td>[Ryan Reynolds, Morena Baccarin, Ed Skrein, T....</td>\n",
              "      <td>7.4</td>\n",
              "      <td>10995</td>\n",
              "      <td>293660</td>\n",
              "    </tr>\n",
              "    <tr>\n",
              "      <th>94</th>\n",
              "      <td>170000000.0</td>\n",
              "      <td>6.033286e+08</td>\n",
              "      <td>7.733286e+08</td>\n",
              "      <td>Guardians of the Galaxy</td>\n",
              "      <td>[Action, Science Fiction, Adventure]</td>\n",
              "      <td>481.098624</td>\n",
              "      <td>2014-07-30</td>\n",
              "      <td>2014</td>\n",
              "      <td>121.0</td>\n",
              "      <td>[English]</td>\n",
              "      <td>[United Kingdom, United States of America]</td>\n",
              "      <td>[Marvel Studios, Moving Picture Company (MPC),...</td>\n",
              "      <td>[Chris Pratt, Zoe Saldana, Dave Bautista, Vin ...</td>\n",
              "      <td>7.9</td>\n",
              "      <td>9742</td>\n",
              "      <td>118340</td>\n",
              "    </tr>\n",
              "    <tr>\n",
              "      <th>127</th>\n",
              "      <td>150000000.0</td>\n",
              "      <td>2.288583e+08</td>\n",
              "      <td>3.788583e+08</td>\n",
              "      <td>Mad Max: Fury Road</td>\n",
              "      <td>[Action, Adventure, Science Fiction, Thriller]</td>\n",
              "      <td>434.278564</td>\n",
              "      <td>2015-05-13</td>\n",
              "      <td>2015</td>\n",
              "      <td>120.0</td>\n",
              "      <td>[English]</td>\n",
              "      <td>[Australia, United States of America]</td>\n",
              "      <td>[Village Roadshow Pictures, Kennedy Miller Pro...</td>\n",
              "      <td>[Tom Hardy, Charlize Theron, Nicholas Hoult, H...</td>\n",
              "      <td>7.2</td>\n",
              "      <td>9427</td>\n",
              "      <td>76341</td>\n",
              "    </tr>\n",
              "  </tbody>\n",
              "</table>\n",
              "</div>\n",
              "      <button class=\"colab-df-convert\" onclick=\"convertToInteractive('df-eacf1bc6-3288-470f-9fb5-6d31047eb75b')\"\n",
              "              title=\"Convert this dataframe to an interactive table.\"\n",
              "              style=\"display:none;\">\n",
              "        \n",
              "  <svg xmlns=\"http://www.w3.org/2000/svg\" height=\"24px\"viewBox=\"0 0 24 24\"\n",
              "       width=\"24px\">\n",
              "    <path d=\"M0 0h24v24H0V0z\" fill=\"none\"/>\n",
              "    <path d=\"M18.56 5.44l.94 2.06.94-2.06 2.06-.94-2.06-.94-.94-2.06-.94 2.06-2.06.94zm-11 1L8.5 8.5l.94-2.06 2.06-.94-2.06-.94L8.5 2.5l-.94 2.06-2.06.94zm10 10l.94 2.06.94-2.06 2.06-.94-2.06-.94-.94-2.06-.94 2.06-2.06.94z\"/><path d=\"M17.41 7.96l-1.37-1.37c-.4-.4-.92-.59-1.43-.59-.52 0-1.04.2-1.43.59L10.3 9.45l-7.72 7.72c-.78.78-.78 2.05 0 2.83L4 21.41c.39.39.9.59 1.41.59.51 0 1.02-.2 1.41-.59l7.78-7.78 2.81-2.81c.8-.78.8-2.07 0-2.86zM5.41 20L4 18.59l7.72-7.72 1.47 1.35L5.41 20z\"/>\n",
              "  </svg>\n",
              "      </button>\n",
              "      \n",
              "  <style>\n",
              "    .colab-df-container {\n",
              "      display:flex;\n",
              "      flex-wrap:wrap;\n",
              "      gap: 12px;\n",
              "    }\n",
              "\n",
              "    .colab-df-convert {\n",
              "      background-color: #E8F0FE;\n",
              "      border: none;\n",
              "      border-radius: 50%;\n",
              "      cursor: pointer;\n",
              "      display: none;\n",
              "      fill: #1967D2;\n",
              "      height: 32px;\n",
              "      padding: 0 0 0 0;\n",
              "      width: 32px;\n",
              "    }\n",
              "\n",
              "    .colab-df-convert:hover {\n",
              "      background-color: #E2EBFA;\n",
              "      box-shadow: 0px 1px 2px rgba(60, 64, 67, 0.3), 0px 1px 3px 1px rgba(60, 64, 67, 0.15);\n",
              "      fill: #174EA6;\n",
              "    }\n",
              "\n",
              "    [theme=dark] .colab-df-convert {\n",
              "      background-color: #3B4455;\n",
              "      fill: #D2E3FC;\n",
              "    }\n",
              "\n",
              "    [theme=dark] .colab-df-convert:hover {\n",
              "      background-color: #434B5C;\n",
              "      box-shadow: 0px 1px 3px 1px rgba(0, 0, 0, 0.15);\n",
              "      filter: drop-shadow(0px 1px 2px rgba(0, 0, 0, 0.3));\n",
              "      fill: #FFFFFF;\n",
              "    }\n",
              "  </style>\n",
              "\n",
              "      <script>\n",
              "        const buttonEl =\n",
              "          document.querySelector('#df-eacf1bc6-3288-470f-9fb5-6d31047eb75b button.colab-df-convert');\n",
              "        buttonEl.style.display =\n",
              "          google.colab.kernel.accessAllowed ? 'block' : 'none';\n",
              "\n",
              "        async function convertToInteractive(key) {\n",
              "          const element = document.querySelector('#df-eacf1bc6-3288-470f-9fb5-6d31047eb75b');\n",
              "          const dataTable =\n",
              "            await google.colab.kernel.invokeFunction('convertToInteractive',\n",
              "                                                     [key], {});\n",
              "          if (!dataTable) return;\n",
              "\n",
              "          const docLinkHtml = 'Like what you see? Visit the ' +\n",
              "            '<a target=\"_blank\" href=https://colab.research.google.com/notebooks/data_table.ipynb>data table notebook</a>'\n",
              "            + ' to learn more about interactive tables.';\n",
              "          element.innerHTML = '';\n",
              "          dataTable['output_type'] = 'display_data';\n",
              "          await google.colab.output.renderOutput(dataTable, element);\n",
              "          const docLink = document.createElement('div');\n",
              "          docLink.innerHTML = docLinkHtml;\n",
              "          element.appendChild(docLink);\n",
              "        }\n",
              "      </script>\n",
              "    </div>\n",
              "  </div>\n",
              "  "
            ]
          },
          "metadata": {},
          "execution_count": 26
        }
      ]
    },
    {
      "cell_type": "markdown",
      "source": [
        "As we can see from the output above, the top 5 most popular movies are:\n",
        "\n",
        "1. `[2015]` Minions\n",
        "2. `[2014]` Interstellar\n",
        "3. `[2016]` Deadpool\n",
        "4. `[2014]` Guardians of the Galaxy\n",
        "5. `[2015]` Mad Max: Fury Road"
      ],
      "metadata": {
        "id": "Q_J-huzti8Qe"
      }
    },
    {
      "cell_type": "markdown",
      "source": [
        "## Question 03: Top 5 Most Profitable Movies\n",
        "\n",
        "Similar again to the above questions, we will now sort by the `profit` columns:"
      ],
      "metadata": {
        "id": "UjRZT4ZOjskG"
      }
    },
    {
      "cell_type": "code",
      "source": [
        "answer_to_q3 = movie_data.sort_values(by='profit', ascending=False).head()\n",
        "answer_to_q3"
      ],
      "metadata": {
        "colab": {
          "base_uri": "https://localhost:8080/",
          "height": 511
        },
        "id": "3Fm7cHcPi7f1",
        "outputId": "0d0288fe-f306-4639-f713-4044cd1eb5d6"
      },
      "execution_count": 27,
      "outputs": [
        {
          "output_type": "execute_result",
          "data": {
            "text/plain": [
              "         budget        profit       revenue           title  \\\n",
              "0   237000000.0  2.550965e+09  2.787965e+09          Avatar   \n",
              "25  200000000.0  1.645034e+09  1.845034e+09         Titanic   \n",
              "28  150000000.0  1.363529e+09  1.513529e+09  Jurassic World   \n",
              "44  190000000.0  1.316249e+09  1.506249e+09       Furious 7   \n",
              "16  220000000.0  1.299558e+09  1.519558e+09    The Avengers   \n",
              "\n",
              "                                            genres  popularity release_date  \\\n",
              "0    [Action, Adventure, Fantasy, Science Fiction]  150.437577   2009-12-10   \n",
              "25                      [Drama, Romance, Thriller]  100.025899   1997-11-18   \n",
              "28  [Action, Adventure, Science Fiction, Thriller]  418.708552   2015-06-09   \n",
              "44                                        [Action]  102.322217   2015-04-01   \n",
              "16            [Science Fiction, Action, Adventure]  144.448633   2012-04-25   \n",
              "\n",
              "    release_year  runtime                                   spoken_languages  \\\n",
              "0           2009    162.0                                 [English, Español]   \n",
              "25          1997    194.0  [English, Français, Deutsch, svenska, Italiano...   \n",
              "28          2015    124.0                                          [English]   \n",
              "44          2015    137.0                                          [English]   \n",
              "16          2012    143.0                                          [English]   \n",
              "\n",
              "                          production_countries  \\\n",
              "0   [United States of America, United Kingdom]   \n",
              "25                  [United States of America]   \n",
              "28                  [United States of America]   \n",
              "44           [Japan, United States of America]   \n",
              "16                  [United States of America]   \n",
              "\n",
              "                                 production_companies  \\\n",
              "0   [Ingenious Film Partners, Twentieth Century Fo...   \n",
              "25  [Paramount Pictures, Twentieth Century Fox Fil...   \n",
              "28  [Universal Studios, Amblin Entertainment, Lege...   \n",
              "44  [Universal Pictures, Original Film, Fuji Telev...   \n",
              "16               [Paramount Pictures, Marvel Studios]   \n",
              "\n",
              "                                                 cast  vote_average  \\\n",
              "0   [Sam Worthington, Zoe Saldana, Sigourney Weave...           7.2   \n",
              "25  [Kate Winslet, Leonardo DiCaprio, Frances Fish...           7.5   \n",
              "28  [Chris Pratt, Bryce Dallas Howard, Irrfan Khan...           6.5   \n",
              "44  [Vin Diesel, Paul Walker, Dwayne Johnson, Mich...           7.3   \n",
              "16  [Robert Downey Jr., Chris Evans, Mark Ruffalo,...           7.4   \n",
              "\n",
              "    vote_count      id  \n",
              "0        11800   19995  \n",
              "25        7562     597  \n",
              "28        8662  135397  \n",
              "44        4176  168259  \n",
              "16       11776   24428  "
            ],
            "text/html": [
              "\n",
              "  <div id=\"df-1c174e38-4c70-4014-9812-32d8f4fbdda1\">\n",
              "    <div class=\"colab-df-container\">\n",
              "      <div>\n",
              "<style scoped>\n",
              "    .dataframe tbody tr th:only-of-type {\n",
              "        vertical-align: middle;\n",
              "    }\n",
              "\n",
              "    .dataframe tbody tr th {\n",
              "        vertical-align: top;\n",
              "    }\n",
              "\n",
              "    .dataframe thead th {\n",
              "        text-align: right;\n",
              "    }\n",
              "</style>\n",
              "<table border=\"1\" class=\"dataframe\">\n",
              "  <thead>\n",
              "    <tr style=\"text-align: right;\">\n",
              "      <th></th>\n",
              "      <th>budget</th>\n",
              "      <th>profit</th>\n",
              "      <th>revenue</th>\n",
              "      <th>title</th>\n",
              "      <th>genres</th>\n",
              "      <th>popularity</th>\n",
              "      <th>release_date</th>\n",
              "      <th>release_year</th>\n",
              "      <th>runtime</th>\n",
              "      <th>spoken_languages</th>\n",
              "      <th>production_countries</th>\n",
              "      <th>production_companies</th>\n",
              "      <th>cast</th>\n",
              "      <th>vote_average</th>\n",
              "      <th>vote_count</th>\n",
              "      <th>id</th>\n",
              "    </tr>\n",
              "  </thead>\n",
              "  <tbody>\n",
              "    <tr>\n",
              "      <th>0</th>\n",
              "      <td>237000000.0</td>\n",
              "      <td>2.550965e+09</td>\n",
              "      <td>2.787965e+09</td>\n",
              "      <td>Avatar</td>\n",
              "      <td>[Action, Adventure, Fantasy, Science Fiction]</td>\n",
              "      <td>150.437577</td>\n",
              "      <td>2009-12-10</td>\n",
              "      <td>2009</td>\n",
              "      <td>162.0</td>\n",
              "      <td>[English, Español]</td>\n",
              "      <td>[United States of America, United Kingdom]</td>\n",
              "      <td>[Ingenious Film Partners, Twentieth Century Fo...</td>\n",
              "      <td>[Sam Worthington, Zoe Saldana, Sigourney Weave...</td>\n",
              "      <td>7.2</td>\n",
              "      <td>11800</td>\n",
              "      <td>19995</td>\n",
              "    </tr>\n",
              "    <tr>\n",
              "      <th>25</th>\n",
              "      <td>200000000.0</td>\n",
              "      <td>1.645034e+09</td>\n",
              "      <td>1.845034e+09</td>\n",
              "      <td>Titanic</td>\n",
              "      <td>[Drama, Romance, Thriller]</td>\n",
              "      <td>100.025899</td>\n",
              "      <td>1997-11-18</td>\n",
              "      <td>1997</td>\n",
              "      <td>194.0</td>\n",
              "      <td>[English, Français, Deutsch, svenska, Italiano...</td>\n",
              "      <td>[United States of America]</td>\n",
              "      <td>[Paramount Pictures, Twentieth Century Fox Fil...</td>\n",
              "      <td>[Kate Winslet, Leonardo DiCaprio, Frances Fish...</td>\n",
              "      <td>7.5</td>\n",
              "      <td>7562</td>\n",
              "      <td>597</td>\n",
              "    </tr>\n",
              "    <tr>\n",
              "      <th>28</th>\n",
              "      <td>150000000.0</td>\n",
              "      <td>1.363529e+09</td>\n",
              "      <td>1.513529e+09</td>\n",
              "      <td>Jurassic World</td>\n",
              "      <td>[Action, Adventure, Science Fiction, Thriller]</td>\n",
              "      <td>418.708552</td>\n",
              "      <td>2015-06-09</td>\n",
              "      <td>2015</td>\n",
              "      <td>124.0</td>\n",
              "      <td>[English]</td>\n",
              "      <td>[United States of America]</td>\n",
              "      <td>[Universal Studios, Amblin Entertainment, Lege...</td>\n",
              "      <td>[Chris Pratt, Bryce Dallas Howard, Irrfan Khan...</td>\n",
              "      <td>6.5</td>\n",
              "      <td>8662</td>\n",
              "      <td>135397</td>\n",
              "    </tr>\n",
              "    <tr>\n",
              "      <th>44</th>\n",
              "      <td>190000000.0</td>\n",
              "      <td>1.316249e+09</td>\n",
              "      <td>1.506249e+09</td>\n",
              "      <td>Furious 7</td>\n",
              "      <td>[Action]</td>\n",
              "      <td>102.322217</td>\n",
              "      <td>2015-04-01</td>\n",
              "      <td>2015</td>\n",
              "      <td>137.0</td>\n",
              "      <td>[English]</td>\n",
              "      <td>[Japan, United States of America]</td>\n",
              "      <td>[Universal Pictures, Original Film, Fuji Telev...</td>\n",
              "      <td>[Vin Diesel, Paul Walker, Dwayne Johnson, Mich...</td>\n",
              "      <td>7.3</td>\n",
              "      <td>4176</td>\n",
              "      <td>168259</td>\n",
              "    </tr>\n",
              "    <tr>\n",
              "      <th>16</th>\n",
              "      <td>220000000.0</td>\n",
              "      <td>1.299558e+09</td>\n",
              "      <td>1.519558e+09</td>\n",
              "      <td>The Avengers</td>\n",
              "      <td>[Science Fiction, Action, Adventure]</td>\n",
              "      <td>144.448633</td>\n",
              "      <td>2012-04-25</td>\n",
              "      <td>2012</td>\n",
              "      <td>143.0</td>\n",
              "      <td>[English]</td>\n",
              "      <td>[United States of America]</td>\n",
              "      <td>[Paramount Pictures, Marvel Studios]</td>\n",
              "      <td>[Robert Downey Jr., Chris Evans, Mark Ruffalo,...</td>\n",
              "      <td>7.4</td>\n",
              "      <td>11776</td>\n",
              "      <td>24428</td>\n",
              "    </tr>\n",
              "  </tbody>\n",
              "</table>\n",
              "</div>\n",
              "      <button class=\"colab-df-convert\" onclick=\"convertToInteractive('df-1c174e38-4c70-4014-9812-32d8f4fbdda1')\"\n",
              "              title=\"Convert this dataframe to an interactive table.\"\n",
              "              style=\"display:none;\">\n",
              "        \n",
              "  <svg xmlns=\"http://www.w3.org/2000/svg\" height=\"24px\"viewBox=\"0 0 24 24\"\n",
              "       width=\"24px\">\n",
              "    <path d=\"M0 0h24v24H0V0z\" fill=\"none\"/>\n",
              "    <path d=\"M18.56 5.44l.94 2.06.94-2.06 2.06-.94-2.06-.94-.94-2.06-.94 2.06-2.06.94zm-11 1L8.5 8.5l.94-2.06 2.06-.94-2.06-.94L8.5 2.5l-.94 2.06-2.06.94zm10 10l.94 2.06.94-2.06 2.06-.94-2.06-.94-.94-2.06-.94 2.06-2.06.94z\"/><path d=\"M17.41 7.96l-1.37-1.37c-.4-.4-.92-.59-1.43-.59-.52 0-1.04.2-1.43.59L10.3 9.45l-7.72 7.72c-.78.78-.78 2.05 0 2.83L4 21.41c.39.39.9.59 1.41.59.51 0 1.02-.2 1.41-.59l7.78-7.78 2.81-2.81c.8-.78.8-2.07 0-2.86zM5.41 20L4 18.59l7.72-7.72 1.47 1.35L5.41 20z\"/>\n",
              "  </svg>\n",
              "      </button>\n",
              "      \n",
              "  <style>\n",
              "    .colab-df-container {\n",
              "      display:flex;\n",
              "      flex-wrap:wrap;\n",
              "      gap: 12px;\n",
              "    }\n",
              "\n",
              "    .colab-df-convert {\n",
              "      background-color: #E8F0FE;\n",
              "      border: none;\n",
              "      border-radius: 50%;\n",
              "      cursor: pointer;\n",
              "      display: none;\n",
              "      fill: #1967D2;\n",
              "      height: 32px;\n",
              "      padding: 0 0 0 0;\n",
              "      width: 32px;\n",
              "    }\n",
              "\n",
              "    .colab-df-convert:hover {\n",
              "      background-color: #E2EBFA;\n",
              "      box-shadow: 0px 1px 2px rgba(60, 64, 67, 0.3), 0px 1px 3px 1px rgba(60, 64, 67, 0.15);\n",
              "      fill: #174EA6;\n",
              "    }\n",
              "\n",
              "    [theme=dark] .colab-df-convert {\n",
              "      background-color: #3B4455;\n",
              "      fill: #D2E3FC;\n",
              "    }\n",
              "\n",
              "    [theme=dark] .colab-df-convert:hover {\n",
              "      background-color: #434B5C;\n",
              "      box-shadow: 0px 1px 3px 1px rgba(0, 0, 0, 0.15);\n",
              "      filter: drop-shadow(0px 1px 2px rgba(0, 0, 0, 0.3));\n",
              "      fill: #FFFFFF;\n",
              "    }\n",
              "  </style>\n",
              "\n",
              "      <script>\n",
              "        const buttonEl =\n",
              "          document.querySelector('#df-1c174e38-4c70-4014-9812-32d8f4fbdda1 button.colab-df-convert');\n",
              "        buttonEl.style.display =\n",
              "          google.colab.kernel.accessAllowed ? 'block' : 'none';\n",
              "\n",
              "        async function convertToInteractive(key) {\n",
              "          const element = document.querySelector('#df-1c174e38-4c70-4014-9812-32d8f4fbdda1');\n",
              "          const dataTable =\n",
              "            await google.colab.kernel.invokeFunction('convertToInteractive',\n",
              "                                                     [key], {});\n",
              "          if (!dataTable) return;\n",
              "\n",
              "          const docLinkHtml = 'Like what you see? Visit the ' +\n",
              "            '<a target=\"_blank\" href=https://colab.research.google.com/notebooks/data_table.ipynb>data table notebook</a>'\n",
              "            + ' to learn more about interactive tables.';\n",
              "          element.innerHTML = '';\n",
              "          dataTable['output_type'] = 'display_data';\n",
              "          await google.colab.output.renderOutput(dataTable, element);\n",
              "          const docLink = document.createElement('div');\n",
              "          docLink.innerHTML = docLinkHtml;\n",
              "          element.appendChild(docLink);\n",
              "        }\n",
              "      </script>\n",
              "    </div>\n",
              "  </div>\n",
              "  "
            ]
          },
          "metadata": {},
          "execution_count": 27
        }
      ]
    },
    {
      "cell_type": "markdown",
      "source": [
        "Looks like the top 5 most profitable movies are:\n",
        "\n",
        "1. `[2009]` Avatar\n",
        "2. `[1997]` Titanic\n",
        "3. `[2015]` Jurassic World\n",
        "4. `[2015]` Furious 7\n",
        "5. `[2012]` The Avengers"
      ],
      "metadata": {
        "id": "CQPZr0aRj-TH"
      }
    },
    {
      "cell_type": "markdown",
      "source": [
        "## Question 04: Year of Most Profitable Movies\n",
        "\n",
        "From the output above, we can see that in 2015, there are 2 highly profitable movies.\n",
        "\n",
        "Let's see the range of `release_year` for profitable movies.\n",
        "\n",
        "We will use the Top 25% of Most Profitable Movies (Q3 or 0.75 quantile):"
      ],
      "metadata": {
        "id": "Hq41qA37kUGq"
      }
    },
    {
      "cell_type": "code",
      "source": [
        "top25_profit = movie_data['profit'].quantile(q=0.75)\n",
        "top25_profit"
      ],
      "metadata": {
        "colab": {
          "base_uri": "https://localhost:8080/"
        },
        "id": "76QIhSPV_qmb",
        "outputId": "397c007c-ef8e-4c24-a6d4-380f4119a1f0"
      },
      "execution_count": 28,
      "outputs": [
        {
          "output_type": "execute_result",
          "data": {
            "text/plain": [
              "97489822.0"
            ]
          },
          "metadata": {},
          "execution_count": 28
        }
      ]
    },
    {
      "cell_type": "markdown",
      "source": [
        "We will be using \\$97,500,000 as our minimum for a movie to be considered \"profitable\".\n",
        "\n",
        "Now let's plot a graph to see the range of year of profitable movies:"
      ],
      "metadata": {
        "id": "uXEuS3jsBb95"
      }
    },
    {
      "cell_type": "code",
      "source": [
        "profitable_movies = movie_data.query('profit > 97500000')\n",
        "\n",
        "# Count The Frequency of Each Year of Release\n",
        "series_of_q4 = profitable_movies['release_year'].value_counts()\n",
        "\n",
        "# Set The Graph Configuration\n",
        "plt.figure(figsize=(18, 8))\n",
        "plt.title('Release Year of Profitable Movies')\n",
        "\n",
        "# Plot The Graph\n",
        "sns.barplot(x=series_of_q4.keys(), y=series_of_q4.values, palette='summer_r')"
      ],
      "metadata": {
        "colab": {
          "base_uri": "https://localhost:8080/",
          "height": 516
        },
        "id": "v0brYT9UByCo",
        "outputId": "4069ea08-8c6c-4527-8777-f8ef0da94e1e"
      },
      "execution_count": 29,
      "outputs": [
        {
          "output_type": "execute_result",
          "data": {
            "text/plain": [
              "<matplotlib.axes._subplots.AxesSubplot at 0x7f9ff03a1810>"
            ]
          },
          "metadata": {},
          "execution_count": 29
        },
        {
          "output_type": "display_data",
          "data": {
            "text/plain": [
              "<Figure size 1296x576 with 1 Axes>"
            ],
            "image/png": "[encoded data removed]"
          },
          "metadata": {
            "needs_background": "light"
          }
        }
      ]
    },
    {
      "cell_type": "markdown",
      "source": [
        "We can see that there are many profitable movies produced on 2010 to 2014. These years are the top 5 most number of profitable movies produced.\n",
        "\n",
        "Let's explore further to understand why it is so. Now we will plot line graphs of number of movies produced for all years compared to that of profitable movies:"
      ],
      "metadata": {
        "id": "lRYvZxXq_qzw"
      }
    },
    {
      "cell_type": "code",
      "source": [
        "# Declare A Data Frame\n",
        "df_of_q4 = pd.DataFrame()\n",
        "\n",
        "# Create New Data Frame\n",
        "df_of_q4['profitable_movies'] = series_of_q4\n",
        "df_of_q4['all_movies'] = movie_data['release_year'].value_counts()\n",
        "\n",
        "# Set The Graph Configuration\n",
        "plt.figure(figsize=(18, 8))\n",
        "plt.title('Release Year of Movies')\n",
        "\n",
        "# Plot The Graph\n",
        "sns.lineplot(data=df_of_q4)"
      ],
      "metadata": {
        "colab": {
          "base_uri": "https://localhost:8080/",
          "height": 516
        },
        "id": "ILvO2mj-D80A",
        "outputId": "3dd76ac4-2bab-419b-8775-c6e466af930e"
      },
      "execution_count": 30,
      "outputs": [
        {
          "output_type": "execute_result",
          "data": {
            "text/plain": [
              "<matplotlib.axes._subplots.AxesSubplot at 0x7f9fef6e2350>"
            ]
          },
          "metadata": {},
          "execution_count": 30
        },
        {
          "output_type": "display_data",
          "data": {
            "text/plain": [
              "<Figure size 1296x576 with 1 Axes>"
            ],
            "image/png": "[encoded data removed]"
          },
          "metadata": {
            "needs_background": "light"
          }
        }
      ]
    },
    {
      "cell_type": "markdown",
      "source": [
        "We can see that the number of movies produced also spikes up from around the year 1995 to 2015, therefore we cannot safely say that the profitable movies should be produced on 2010 to 2014.\n",
        "\n",
        "Let's try to find the percentage of profitable movies per year:"
      ],
      "metadata": {
        "id": "8D7bxiYSFkoK"
      }
    },
    {
      "cell_type": "code",
      "source": [
        "series2_of_q4 = profitable_movies['release_year'].value_counts()\n",
        "series2_of_q4 = series2_of_q4.div(movie_data['release_year'].value_counts())\n",
        "\n",
        "# Set The Graph Configuration\n",
        "plt.figure(figsize=(18, 14))\n",
        "plt.title('Release Year of Profitable Movies')\n",
        "\n",
        "# Plot The Graph\n",
        "sns.barplot(x=series2_of_q4.values, y=series2_of_q4.keys(), orient='h', palette='summer_r')"
      ],
      "metadata": {
        "colab": {
          "base_uri": "https://localhost:8080/",
          "height": 842
        },
        "id": "mViNWqjOGBoz",
        "outputId": "a31eb0ad-98d3-4361-a7e5-6785982adbd7"
      },
      "execution_count": 31,
      "outputs": [
        {
          "output_type": "execute_result",
          "data": {
            "text/plain": [
              "<matplotlib.axes._subplots.AxesSubplot at 0x7f9ff035dd10>"
            ]
          },
          "metadata": {},
          "execution_count": 31
        },
        {
          "output_type": "display_data",
          "data": {
            "text/plain": [
              "<Figure size 1296x1008 with 1 Axes>"
            ],
            "image/png": "[encoded data removed]"
          },
          "metadata": {
            "needs_background": "light"
          }
        }
      ]
    },
    {
      "cell_type": "markdown",
      "source": [
        "Just as we expected, the percentage of profitable movies produced generally decreases as year increases, this is because the number of less profitable movies produced increases as year increases."
      ],
      "metadata": {
        "id": "ep63eKDgHxGR"
      }
    },
    {
      "cell_type": "markdown",
      "source": [
        "## Question 05: Budget Range of Profitable Movies\n",
        "\n",
        "For this question, we will plot the graph of `profit` against `budget` to see their relationship:"
      ],
      "metadata": {
        "id": "uJ6ytX4Yky0L"
      }
    },
    {
      "cell_type": "code",
      "source": [
        "# Extract Data (in Millions) That We Need Only\n",
        "df_of_q5 = movie_data[['budget', 'profit']].div(1000000)\n",
        "\n",
        "# Set The Graph Configuration\n",
        "plt.figure(figsize=(18, 10))\n",
        "plt.title('Graph of Profit against Budget')\n",
        "\n",
        "# Get Max and Min of Profit for Similar Runtime\n",
        "budget_min_profit = df_of_q5.groupby('budget').min()\n",
        "budget_max_profit = df_of_q5.groupby('budget').max()\n",
        "\n",
        "# Plot The Graph\n",
        "sns.lineplot(data=budget_min_profit, x='budget', y='profit', color='purple')\n",
        "sns.lineplot(data=budget_max_profit, x='budget', y='profit', color='green')\n",
        "sns.scatterplot(data=df_of_q5, x='budget', y='profit')\n",
        "\n",
        "# Create Legend\n",
        "plt.legend(['min_profit', 'max_profit', 'all_data'])"
      ],
      "metadata": {
        "colab": {
          "base_uri": "https://localhost:8080/",
          "height": 638
        },
        "id": "9yVZ6RcAmDzL",
        "outputId": "b94fb86e-e542-47f9-80f0-28c7e17f745b"
      },
      "execution_count": 32,
      "outputs": [
        {
          "output_type": "execute_result",
          "data": {
            "text/plain": [
              "<matplotlib.legend.Legend at 0x7f9fefc55690>"
            ]
          },
          "metadata": {},
          "execution_count": 32
        },
        {
          "output_type": "display_data",
          "data": {
            "text/plain": [
              "<Figure size 1296x720 with 1 Axes>"
            ],
            "image/png": "[encoded data removed]"
          },
          "metadata": {
            "needs_background": "light"
          }
        }
      ]
    },
    {
      "cell_type": "markdown",
      "source": [
        "We can see that the highly profitable movies generally have higher budgets.\n",
        "\n",
        "The graph shows that by investing more money into the budget, movies tend to get higher profit in return. However, we can also see that the higher the budget, the higher the risk of getting a loss or much lower profit in return.\n",
        "\n",
        "The frequency of the spikes in the graph also shows that more movies have generally lower budgets.\n",
        "\n",
        "So to answer the question, the budget range of most profitable movies is **between \\$200 Million to \\$300 Million**.\n",
        "\n",
        "Let's also take a look at the average revenue of profitable movies:"
      ],
      "metadata": {
        "id": "6SCmpzt6pQfh"
      }
    },
    {
      "cell_type": "code",
      "source": [
        "profitable_movies['revenue'].quantile(q=0.5)"
      ],
      "metadata": {
        "colab": {
          "base_uri": "https://localhost:8080/"
        },
        "id": "OYz6w1dLCNfA",
        "outputId": "e856483e-bd06-424f-b36f-819963a53ca1"
      },
      "execution_count": 33,
      "outputs": [
        {
          "output_type": "execute_result",
          "data": {
            "text/plain": [
              "261445332.5"
            ]
          },
          "metadata": {},
          "execution_count": 33
        }
      ]
    },
    {
      "cell_type": "markdown",
      "source": [
        "We can say that for a movie that generates around $260 Million of revenue have a high chance to be profitable."
      ],
      "metadata": {
        "id": "FyieFP02CXtE"
      }
    },
    {
      "cell_type": "markdown",
      "source": [
        "## Question 06: Average Runtime of Profitable Movies compared to Average Runtime of Movies\n",
        "\n",
        "Lets do the normal statistics and compare the average runtime of profitable movies to that of all movies:"
      ],
      "metadata": {
        "id": "7rYLoq1jq76q"
      }
    },
    {
      "cell_type": "code",
      "source": [
        "# Display Average Runtime of Profitable Movies\n",
        "print('Profitable:', profitable_movies['runtime'].mean())\n",
        "\n",
        "# Display Average Runtime of Movies\n",
        "print('All Movies:', movie_data['runtime'].mean())"
      ],
      "metadata": {
        "colab": {
          "base_uri": "https://localhost:8080/"
        },
        "id": "c4zgz0DxrRhy",
        "outputId": "88b5205d-a8c6-438b-d67d-422b1558eac0"
      },
      "execution_count": 34,
      "outputs": [
        {
          "output_type": "stream",
          "name": "stdout",
          "text": [
            "Profitable: 116.12903225806451\n",
            "All Movies: 110.72437287085785\n"
          ]
        }
      ]
    },
    {
      "cell_type": "markdown",
      "source": [
        "Looks like they are quite near, maybe there are many movies that are profitable. Lets visualize it with a graph instead:"
      ],
      "metadata": {
        "id": "i1sW_oxgswDy"
      }
    },
    {
      "cell_type": "code",
      "source": [
        "df_of_q6 = movie_data[['runtime', 'profit']]\n",
        "\n",
        "# Set The Graph Configuration\n",
        "plt.figure(figsize=(18, 10))\n",
        "plt.title('Graph of Profit against Runtime')\n",
        "\n",
        "# Get Max and Min of Profit for Similar Runtime\n",
        "runtime_min_profit = movie_data[['runtime', 'profit']].groupby('runtime').min()\n",
        "runtime_max_profit = movie_data[['runtime', 'profit']].groupby('runtime').max()\n",
        "\n",
        "# Plot The Graph\n",
        "sns.lineplot(data=runtime_min_profit, x='runtime', y='profit', color='purple')\n",
        "sns.lineplot(data=runtime_max_profit, x='runtime', y='profit', color='green')\n",
        "sns.lineplot(x=[0, 350], y=97500000, color='orange')\n",
        "sns.scatterplot(data=df_of_q6, x='runtime', y='profit')\n",
        "\n",
        "# Create Legend\n",
        "plt.legend(['min_profit', 'max_profit', 'profitable_minimum', 'all_data'])"
      ],
      "metadata": {
        "colab": {
          "base_uri": "https://localhost:8080/",
          "height": 638
        },
        "id": "ntJgT_5ksnCE",
        "outputId": "283480ec-6e50-4962-8994-ce850de7905d"
      },
      "execution_count": 35,
      "outputs": [
        {
          "output_type": "execute_result",
          "data": {
            "text/plain": [
              "<matplotlib.legend.Legend at 0x7f9fefb6b490>"
            ]
          },
          "metadata": {},
          "execution_count": 35
        },
        {
          "output_type": "display_data",
          "data": {
            "text/plain": [
              "<Figure size 1296x720 with 1 Axes>"
            ],
            "image/png": "[encoded data removed]"
          },
          "metadata": {
            "needs_background": "light"
          }
        }
      ]
    },
    {
      "cell_type": "markdown",
      "source": [
        "We can see that movies with around 75 to 140 minutes of runtime have an average profit of between \\$0 to \\$25 Million.\n",
        "\n",
        "We also noticed that movies that are highly profitable and less likely to have a loss have a runtime of between 150 and 200 minutes."
      ],
      "metadata": {
        "id": "LyPHzqiovCrg"
      }
    },
    {
      "cell_type": "markdown",
      "source": [
        "## Question 07: Language of Profitable Movies\n",
        "\n",
        "For this question, we will plot a bar chart for each language available for all profitable movies. We will then display the bar chart to show which languages are the most common among profitable movies:\n"
      ],
      "metadata": {
        "id": "7Thp2IBnvZTZ"
      }
    },
    {
      "cell_type": "code",
      "source": [
        "all_languages = []\n",
        "for language in profitable_movies['spoken_languages']: \n",
        "    all_languages.extend(language)\n",
        "\n",
        "# Count Each Languages and Store The Top 10 Most Common Languages\n",
        "series_of_q7 = pd.Series(all_languages).value_counts()[:10].sort_values(ascending=False)\n",
        "\n",
        "# Set The Graph Configuration\n",
        "plt.figure(figsize=(18, 8))\n",
        "plt.title('Language of Profitable Movies')\n",
        "\n",
        "# Plot The Graph\n",
        "sns.barplot(x=series_of_q7.values, y=series_of_q7.keys(), palette='summer_r')"
      ],
      "metadata": {
        "colab": {
          "base_uri": "https://localhost:8080/",
          "height": 916
        },
        "id": "Z9lfRiUIyIpo",
        "outputId": "c1a0c216-46f3-4ea0-8269-b742f21b07e9"
      },
      "execution_count": 36,
      "outputs": [
        {
          "output_type": "execute_result",
          "data": {
            "text/plain": [
              "<matplotlib.axes._subplots.AxesSubplot at 0x7f9fefb95490>"
            ]
          },
          "metadata": {},
          "execution_count": 36
        },
        {
          "output_type": "stream",
          "name": "stderr",
          "text": [
            "/usr/local/lib/python3.7/dist-packages/matplotlib/backends/backend_agg.py:214: RuntimeWarning: Glyph 26085 missing from current font.\n",
            "  font.set_text(s, 0.0, flags=flags)\n",
            "/usr/local/lib/python3.7/dist-packages/matplotlib/backends/backend_agg.py:214: RuntimeWarning: Glyph 26412 missing from current font.\n",
            "  font.set_text(s, 0.0, flags=flags)\n",
            "/usr/local/lib/python3.7/dist-packages/matplotlib/backends/backend_agg.py:214: RuntimeWarning: Glyph 35486 missing from current font.\n",
            "  font.set_text(s, 0.0, flags=flags)\n",
            "/usr/local/lib/python3.7/dist-packages/matplotlib/backends/backend_agg.py:214: RuntimeWarning: Glyph 26222 missing from current font.\n",
            "  font.set_text(s, 0.0, flags=flags)\n",
            "/usr/local/lib/python3.7/dist-packages/matplotlib/backends/backend_agg.py:214: RuntimeWarning: Glyph 36890 missing from current font.\n",
            "  font.set_text(s, 0.0, flags=flags)\n",
            "/usr/local/lib/python3.7/dist-packages/matplotlib/backends/backend_agg.py:214: RuntimeWarning: Glyph 35805 missing from current font.\n",
            "  font.set_text(s, 0.0, flags=flags)\n",
            "/usr/local/lib/python3.7/dist-packages/matplotlib/backends/backend_agg.py:183: RuntimeWarning: Glyph 26085 missing from current font.\n",
            "  font.set_text(s, 0, flags=flags)\n",
            "/usr/local/lib/python3.7/dist-packages/matplotlib/backends/backend_agg.py:183: RuntimeWarning: Glyph 26412 missing from current font.\n",
            "  font.set_text(s, 0, flags=flags)\n",
            "/usr/local/lib/python3.7/dist-packages/matplotlib/backends/backend_agg.py:183: RuntimeWarning: Glyph 35486 missing from current font.\n",
            "  font.set_text(s, 0, flags=flags)\n",
            "/usr/local/lib/python3.7/dist-packages/matplotlib/backends/backend_agg.py:183: RuntimeWarning: Glyph 26222 missing from current font.\n",
            "  font.set_text(s, 0, flags=flags)\n",
            "/usr/local/lib/python3.7/dist-packages/matplotlib/backends/backend_agg.py:183: RuntimeWarning: Glyph 36890 missing from current font.\n",
            "  font.set_text(s, 0, flags=flags)\n",
            "/usr/local/lib/python3.7/dist-packages/matplotlib/backends/backend_agg.py:183: RuntimeWarning: Glyph 35805 missing from current font.\n",
            "  font.set_text(s, 0, flags=flags)\n"
          ]
        },
        {
          "output_type": "display_data",
          "data": {
            "text/plain": [
              "<Figure size 1296x576 with 1 Axes>"
            ],
            "image/png": "[encoded data removed]"
          },
          "metadata": {
            "needs_background": "light"
          }
        }
      ]
    },
    {
      "cell_type": "markdown",
      "source": [
        "As we can see from the bar chart, English is the most common language among all profitable movies. The other common languages are French, Spanish, German and Italian."
      ],
      "metadata": {
        "id": "vcgRxCZcAYkf"
      }
    },
    {
      "cell_type": "markdown",
      "source": [
        "## Question 08: Most Successful Genres\n",
        "\n",
        "Similar to the question above, we will also be using a bar chart to display the genres that are frequently occurred on profitable movies:"
      ],
      "metadata": {
        "id": "CCufM_F6x7-g"
      }
    },
    {
      "cell_type": "code",
      "source": [
        "all_genres = []\n",
        "for genres in profitable_movies['genres']:\n",
        "    all_genres.extend(genres)\n",
        "\n",
        "# Count Each Languages and Store The Top 10 Most Common Languages\n",
        "series_of_q8 = pd.Series(all_genres).value_counts()[:10].sort_values(ascending=False)\n",
        "\n",
        "# Set The Graph Configuration\n",
        "plt.figure(figsize=(18, 10))\n",
        "plt.title('Genres of Profitable Movies')\n",
        "\n",
        "# Plot The Graph\n",
        "sns.barplot(x=series_of_q8.values, y=series_of_q8.keys(), palette='summer_r')"
      ],
      "metadata": {
        "colab": {
          "base_uri": "https://localhost:8080/",
          "height": 624
        },
        "id": "6PVRUWAyx_kc",
        "outputId": "dede9ed6-3788-4c80-8be1-05ce71128d10"
      },
      "execution_count": 37,
      "outputs": [
        {
          "output_type": "execute_result",
          "data": {
            "text/plain": [
              "<matplotlib.axes._subplots.AxesSubplot at 0x7f9fefa55710>"
            ]
          },
          "metadata": {},
          "execution_count": 37
        },
        {
          "output_type": "display_data",
          "data": {
            "text/plain": [
              "<Figure size 1296x720 with 1 Axes>"
            ],
            "image/png": "[encoded data removed]"
          },
          "metadata": {
            "needs_background": "light"
          }
        }
      ]
    },
    {
      "cell_type": "markdown",
      "source": [
        "We can see that the top 5 most common genres of profitable movies are:\n",
        "\n",
        "1. Action\n",
        "2. Adventure\n",
        "3. Comedy\n",
        "4. Drama\n",
        "5. Thriller\n",
        "\n",
        "These 5 genres are highly common compared to the family, fantasy, science fiction, romance and animation genres.\n",
        "\n",
        "Therefore, we can safely say that there are more audience that have higher interest towards action, adventure, comedy, drama and thriller genres."
      ],
      "metadata": {
        "id": "fpnKyYIGU7J_"
      }
    },
    {
      "cell_type": "markdown",
      "source": [
        "## Question 09: Highly Voted Movies\n",
        "\n",
        "To determine the highly voted movies, we will sort our `movie_data` on the `vote_average` column, in descending order. Then, we will display the first 5 columns of the sorted data:"
      ],
      "metadata": {
        "id": "BC9-0ErMuHdP"
      }
    },
    {
      "cell_type": "code",
      "source": [
        "answer_to_q9 = movie_data.sort_values(by='vote_average', ascending=False).head()\n",
        "answer_to_q9"
      ],
      "metadata": {
        "colab": {
          "base_uri": "https://localhost:8080/",
          "height": 441
        },
        "id": "TnSQgjGFVL2T",
        "outputId": "d0c94f1d-2054-4cde-9edd-ec459ad8cfc3"
      },
      "execution_count": 38,
      "outputs": [
        {
          "output_type": "execute_result",
          "data": {
            "text/plain": [
              "          budget       profit      revenue                     title  \\\n",
              "1881  25000000.0    3341469.0   28341469.0  The Shawshank Redemption   \n",
              "2970  10500000.0  -10376491.0     123509.0        There Goes My Baby   \n",
              "3337   6000000.0  239066411.0  245066411.0             The Godfather   \n",
              "3865   3300000.0    9792000.0   13092000.0                  Whiplash   \n",
              "2731  13000000.0   34542841.0   47542841.0    The Godfather: Part II   \n",
              "\n",
              "               genres  popularity release_date  release_year  runtime  \\\n",
              "1881   [Drama, Crime]  136.747729   1994-09-23          1994    142.0   \n",
              "2970  [Drama, Comedy]    0.037073   1994-09-02          1994     99.0   \n",
              "3337   [Drama, Crime]  143.659698   1972-03-14          1972    175.0   \n",
              "3865          [Drama]  192.528841   2014-10-10          2014    105.0   \n",
              "2731   [Drama, Crime]  105.792936   1974-12-20          1974    200.0   \n",
              "\n",
              "                         spoken_languages        production_countries  \\\n",
              "1881                            [English]  [United States of America]   \n",
              "2970                            [English]  [United States of America]   \n",
              "3337           [English, Italiano, Latin]  [United States of America]   \n",
              "3865                            [English]  [United States of America]   \n",
              "2731  [English, Italiano, Latin, Español]  [United States of America]   \n",
              "\n",
              "                                   production_companies  \\\n",
              "1881                        [Castle Rock Entertainment]   \n",
              "2970                             [Nelson Entertainment]   \n",
              "3337           [Paramount Pictures, Alfran Productions]   \n",
              "3865  [Bold Films, Blumhouse Productions, Right of W...   \n",
              "2731          [Paramount Pictures, The Coppola Company]   \n",
              "\n",
              "                                                   cast  vote_average  \\\n",
              "1881  [Tim Robbins, Morgan Freeman, Bob Gunton, Clan...           8.5   \n",
              "2970  [Dermot Mulroney, Ricky Schroder, Kelli Willia...           8.5   \n",
              "3337  [Marlon Brando, Al Pacino, James Caan, Richard...           8.4   \n",
              "3865  [Miles Teller, J.K. Simmons, Melissa Benoist, ...           8.3   \n",
              "2731  [Al Pacino, Robert Duvall, Diane Keaton, Rober...           8.3   \n",
              "\n",
              "      vote_count      id  \n",
              "1881        8205     278  \n",
              "2970           2   88641  \n",
              "3337        5893     238  \n",
              "3865        4254  244786  \n",
              "2731        3338     240  "
            ],
            "text/html": [
              "\n",
              "  <div id=\"df-90a2310d-d092-467e-81a4-d61cc7fe0b03\">\n",
              "    <div class=\"colab-df-container\">\n",
              "      <div>\n",
              "<style scoped>\n",
              "    .dataframe tbody tr th:only-of-type {\n",
              "        vertical-align: middle;\n",
              "    }\n",
              "\n",
              "    .dataframe tbody tr th {\n",
              "        vertical-align: top;\n",
              "    }\n",
              "\n",
              "    .dataframe thead th {\n",
              "        text-align: right;\n",
              "    }\n",
              "</style>\n",
              "<table border=\"1\" class=\"dataframe\">\n",
              "  <thead>\n",
              "    <tr style=\"text-align: right;\">\n",
              "      <th></th>\n",
              "      <th>budget</th>\n",
              "      <th>profit</th>\n",
              "      <th>revenue</th>\n",
              "      <th>title</th>\n",
              "      <th>genres</th>\n",
              "      <th>popularity</th>\n",
              "      <th>release_date</th>\n",
              "      <th>release_year</th>\n",
              "      <th>runtime</th>\n",
              "      <th>spoken_languages</th>\n",
              "      <th>production_countries</th>\n",
              "      <th>production_companies</th>\n",
              "      <th>cast</th>\n",
              "      <th>vote_average</th>\n",
              "      <th>vote_count</th>\n",
              "      <th>id</th>\n",
              "    </tr>\n",
              "  </thead>\n",
              "  <tbody>\n",
              "    <tr>\n",
              "      <th>1881</th>\n",
              "      <td>25000000.0</td>\n",
              "      <td>3341469.0</td>\n",
              "      <td>28341469.0</td>\n",
              "      <td>The Shawshank Redemption</td>\n",
              "      <td>[Drama, Crime]</td>\n",
              "      <td>136.747729</td>\n",
              "      <td>1994-09-23</td>\n",
              "      <td>1994</td>\n",
              "      <td>142.0</td>\n",
              "      <td>[English]</td>\n",
              "      <td>[United States of America]</td>\n",
              "      <td>[Castle Rock Entertainment]</td>\n",
              "      <td>[Tim Robbins, Morgan Freeman, Bob Gunton, Clan...</td>\n",
              "      <td>8.5</td>\n",
              "      <td>8205</td>\n",
              "      <td>278</td>\n",
              "    </tr>\n",
              "    <tr>\n",
              "      <th>2970</th>\n",
              "      <td>10500000.0</td>\n",
              "      <td>-10376491.0</td>\n",
              "      <td>123509.0</td>\n",
              "      <td>There Goes My Baby</td>\n",
              "      <td>[Drama, Comedy]</td>\n",
              "      <td>0.037073</td>\n",
              "      <td>1994-09-02</td>\n",
              "      <td>1994</td>\n",
              "      <td>99.0</td>\n",
              "      <td>[English]</td>\n",
              "      <td>[United States of America]</td>\n",
              "      <td>[Nelson Entertainment]</td>\n",
              "      <td>[Dermot Mulroney, Ricky Schroder, Kelli Willia...</td>\n",
              "      <td>8.5</td>\n",
              "      <td>2</td>\n",
              "      <td>88641</td>\n",
              "    </tr>\n",
              "    <tr>\n",
              "      <th>3337</th>\n",
              "      <td>6000000.0</td>\n",
              "      <td>239066411.0</td>\n",
              "      <td>245066411.0</td>\n",
              "      <td>The Godfather</td>\n",
              "      <td>[Drama, Crime]</td>\n",
              "      <td>143.659698</td>\n",
              "      <td>1972-03-14</td>\n",
              "      <td>1972</td>\n",
              "      <td>175.0</td>\n",
              "      <td>[English, Italiano, Latin]</td>\n",
              "      <td>[United States of America]</td>\n",
              "      <td>[Paramount Pictures, Alfran Productions]</td>\n",
              "      <td>[Marlon Brando, Al Pacino, James Caan, Richard...</td>\n",
              "      <td>8.4</td>\n",
              "      <td>5893</td>\n",
              "      <td>238</td>\n",
              "    </tr>\n",
              "    <tr>\n",
              "      <th>3865</th>\n",
              "      <td>3300000.0</td>\n",
              "      <td>9792000.0</td>\n",
              "      <td>13092000.0</td>\n",
              "      <td>Whiplash</td>\n",
              "      <td>[Drama]</td>\n",
              "      <td>192.528841</td>\n",
              "      <td>2014-10-10</td>\n",
              "      <td>2014</td>\n",
              "      <td>105.0</td>\n",
              "      <td>[English]</td>\n",
              "      <td>[United States of America]</td>\n",
              "      <td>[Bold Films, Blumhouse Productions, Right of W...</td>\n",
              "      <td>[Miles Teller, J.K. Simmons, Melissa Benoist, ...</td>\n",
              "      <td>8.3</td>\n",
              "      <td>4254</td>\n",
              "      <td>244786</td>\n",
              "    </tr>\n",
              "    <tr>\n",
              "      <th>2731</th>\n",
              "      <td>13000000.0</td>\n",
              "      <td>34542841.0</td>\n",
              "      <td>47542841.0</td>\n",
              "      <td>The Godfather: Part II</td>\n",
              "      <td>[Drama, Crime]</td>\n",
              "      <td>105.792936</td>\n",
              "      <td>1974-12-20</td>\n",
              "      <td>1974</td>\n",
              "      <td>200.0</td>\n",
              "      <td>[English, Italiano, Latin, Español]</td>\n",
              "      <td>[United States of America]</td>\n",
              "      <td>[Paramount Pictures, The Coppola Company]</td>\n",
              "      <td>[Al Pacino, Robert Duvall, Diane Keaton, Rober...</td>\n",
              "      <td>8.3</td>\n",
              "      <td>3338</td>\n",
              "      <td>240</td>\n",
              "    </tr>\n",
              "  </tbody>\n",
              "</table>\n",
              "</div>\n",
              "      <button class=\"colab-df-convert\" onclick=\"convertToInteractive('df-90a2310d-d092-467e-81a4-d61cc7fe0b03')\"\n",
              "              title=\"Convert this dataframe to an interactive table.\"\n",
              "              style=\"display:none;\">\n",
              "        \n",
              "  <svg xmlns=\"http://www.w3.org/2000/svg\" height=\"24px\"viewBox=\"0 0 24 24\"\n",
              "       width=\"24px\">\n",
              "    <path d=\"M0 0h24v24H0V0z\" fill=\"none\"/>\n",
              "    <path d=\"M18.56 5.44l.94 2.06.94-2.06 2.06-.94-2.06-.94-.94-2.06-.94 2.06-2.06.94zm-11 1L8.5 8.5l.94-2.06 2.06-.94-2.06-.94L8.5 2.5l-.94 2.06-2.06.94zm10 10l.94 2.06.94-2.06 2.06-.94-2.06-.94-.94-2.06-.94 2.06-2.06.94z\"/><path d=\"M17.41 7.96l-1.37-1.37c-.4-.4-.92-.59-1.43-.59-.52 0-1.04.2-1.43.59L10.3 9.45l-7.72 7.72c-.78.78-.78 2.05 0 2.83L4 21.41c.39.39.9.59 1.41.59.51 0 1.02-.2 1.41-.59l7.78-7.78 2.81-2.81c.8-.78.8-2.07 0-2.86zM5.41 20L4 18.59l7.72-7.72 1.47 1.35L5.41 20z\"/>\n",
              "  </svg>\n",
              "      </button>\n",
              "      \n",
              "  <style>\n",
              "    .colab-df-container {\n",
              "      display:flex;\n",
              "      flex-wrap:wrap;\n",
              "      gap: 12px;\n",
              "    }\n",
              "\n",
              "    .colab-df-convert {\n",
              "      background-color: #E8F0FE;\n",
              "      border: none;\n",
              "      border-radius: 50%;\n",
              "      cursor: pointer;\n",
              "      display: none;\n",
              "      fill: #1967D2;\n",
              "      height: 32px;\n",
              "      padding: 0 0 0 0;\n",
              "      width: 32px;\n",
              "    }\n",
              "\n",
              "    .colab-df-convert:hover {\n",
              "      background-color: #E2EBFA;\n",
              "      box-shadow: 0px 1px 2px rgba(60, 64, 67, 0.3), 0px 1px 3px 1px rgba(60, 64, 67, 0.15);\n",
              "      fill: #174EA6;\n",
              "    }\n",
              "\n",
              "    [theme=dark] .colab-df-convert {\n",
              "      background-color: #3B4455;\n",
              "      fill: #D2E3FC;\n",
              "    }\n",
              "\n",
              "    [theme=dark] .colab-df-convert:hover {\n",
              "      background-color: #434B5C;\n",
              "      box-shadow: 0px 1px 3px 1px rgba(0, 0, 0, 0.15);\n",
              "      filter: drop-shadow(0px 1px 2px rgba(0, 0, 0, 0.3));\n",
              "      fill: #FFFFFF;\n",
              "    }\n",
              "  </style>\n",
              "\n",
              "      <script>\n",
              "        const buttonEl =\n",
              "          document.querySelector('#df-90a2310d-d092-467e-81a4-d61cc7fe0b03 button.colab-df-convert');\n",
              "        buttonEl.style.display =\n",
              "          google.colab.kernel.accessAllowed ? 'block' : 'none';\n",
              "\n",
              "        async function convertToInteractive(key) {\n",
              "          const element = document.querySelector('#df-90a2310d-d092-467e-81a4-d61cc7fe0b03');\n",
              "          const dataTable =\n",
              "            await google.colab.kernel.invokeFunction('convertToInteractive',\n",
              "                                                     [key], {});\n",
              "          if (!dataTable) return;\n",
              "\n",
              "          const docLinkHtml = 'Like what you see? Visit the ' +\n",
              "            '<a target=\"_blank\" href=https://colab.research.google.com/notebooks/data_table.ipynb>data table notebook</a>'\n",
              "            + ' to learn more about interactive tables.';\n",
              "          element.innerHTML = '';\n",
              "          dataTable['output_type'] = 'display_data';\n",
              "          await google.colab.output.renderOutput(dataTable, element);\n",
              "          const docLink = document.createElement('div');\n",
              "          docLink.innerHTML = docLinkHtml;\n",
              "          element.appendChild(docLink);\n",
              "        }\n",
              "      </script>\n",
              "    </div>\n",
              "  </div>\n",
              "  "
            ]
          },
          "metadata": {},
          "execution_count": 38
        }
      ]
    },
    {
      "cell_type": "markdown",
      "source": [
        "Immediately we can see that there can be a potential problem: the `vote_count` being too low which may cause certain bias.\n",
        "\n",
        "Let's find the top 25% of `vote_count`:"
      ],
      "metadata": {
        "id": "50QvNFvNxV79"
      }
    },
    {
      "cell_type": "code",
      "source": [
        "top25_vote = movie_data['vote_count'].quantile(q=0.75)\n",
        "top25_vote"
      ],
      "metadata": {
        "colab": {
          "base_uri": "https://localhost:8080/"
        },
        "id": "bmaVA7-mxfRK",
        "outputId": "b1b38faa-2d4d-4248-d503-4498e4b651c2"
      },
      "execution_count": 39,
      "outputs": [
        {
          "output_type": "execute_result",
          "data": {
            "text/plain": [
              "1148.0"
            ]
          },
          "metadata": {},
          "execution_count": 39
        }
      ]
    },
    {
      "cell_type": "markdown",
      "source": [
        "So now lets compare the top rated movies with `vote_count` of at least 1148:"
      ],
      "metadata": {
        "id": "P2eQo-0ax1S8"
      }
    },
    {
      "cell_type": "code",
      "source": [
        "more_voted_movies = movie_data.query('vote_count >= 1148')\n",
        "\n",
        "answer_to_q9 = more_voted_movies.sort_values(by='vote_average', ascending=False).head()\n",
        "answer_to_q9"
      ],
      "metadata": {
        "colab": {
          "base_uri": "https://localhost:8080/",
          "height": 424
        },
        "id": "l13vPksxx0in",
        "outputId": "384bcdf8-6168-46c0-bcff-70df83dc7f1f"
      },
      "execution_count": 40,
      "outputs": [
        {
          "output_type": "execute_result",
          "data": {
            "text/plain": [
              "          budget       profit      revenue                     title  \\\n",
              "1881  25000000.0    3341469.0   28341469.0  The Shawshank Redemption   \n",
              "3337   6000000.0  239066411.0  245066411.0             The Godfather   \n",
              "2731  13000000.0   34542841.0   47542841.0    The Godfather: Part II   \n",
              "3232   8000000.0  205928762.0  213928762.0              Pulp Fiction   \n",
              "1818  22000000.0  299365567.0  321365567.0          Schindler's List   \n",
              "\n",
              "                     genres  popularity release_date  release_year  runtime  \\\n",
              "1881         [Drama, Crime]  136.747729   1994-09-23          1994    142.0   \n",
              "3337         [Drama, Crime]  143.659698   1972-03-14          1972    175.0   \n",
              "2731         [Drama, Crime]  105.792936   1974-12-20          1974    200.0   \n",
              "3232      [Thriller, Crime]  121.463076   1994-10-08          1994    154.0   \n",
              "1818  [Drama, History, War]  104.469351   1993-11-29          1993    195.0   \n",
              "\n",
              "                          spoken_languages        production_countries  \\\n",
              "1881                             [English]  [United States of America]   \n",
              "3337            [English, Italiano, Latin]  [United States of America]   \n",
              "2731   [English, Italiano, Latin, Español]  [United States of America]   \n",
              "3232          [English, Español, Français]  [United States of America]   \n",
              "1818  [Deutsch, Polski, עִבְרִית, English]  [United States of America]   \n",
              "\n",
              "                             production_companies  \\\n",
              "1881                  [Castle Rock Entertainment]   \n",
              "3337     [Paramount Pictures, Alfran Productions]   \n",
              "2731    [Paramount Pictures, The Coppola Company]   \n",
              "3232  [Miramax Films, A Band Apart, Jersey Films]   \n",
              "1818   [Universal Pictures, Amblin Entertainment]   \n",
              "\n",
              "                                                   cast  vote_average  \\\n",
              "1881  [Tim Robbins, Morgan Freeman, Bob Gunton, Clan...           8.5   \n",
              "3337  [Marlon Brando, Al Pacino, James Caan, Richard...           8.4   \n",
              "2731  [Al Pacino, Robert Duvall, Diane Keaton, Rober...           8.3   \n",
              "3232  [John Travolta, Samuel L. Jackson, Uma Thurman...           8.3   \n",
              "1818  [Liam Neeson, Ben Kingsley, Ralph Fiennes, Car...           8.3   \n",
              "\n",
              "      vote_count   id  \n",
              "1881        8205  278  \n",
              "3337        5893  238  \n",
              "2731        3338  240  \n",
              "3232        8428  680  \n",
              "1818        4329  424  "
            ],
            "text/html": [
              "\n",
              "  <div id=\"df-c7de668a-baee-4a93-8f6b-56ef1e9d153d\">\n",
              "    <div class=\"colab-df-container\">\n",
              "      <div>\n",
              "<style scoped>\n",
              "    .dataframe tbody tr th:only-of-type {\n",
              "        vertical-align: middle;\n",
              "    }\n",
              "\n",
              "    .dataframe tbody tr th {\n",
              "        vertical-align: top;\n",
              "    }\n",
              "\n",
              "    .dataframe thead th {\n",
              "        text-align: right;\n",
              "    }\n",
              "</style>\n",
              "<table border=\"1\" class=\"dataframe\">\n",
              "  <thead>\n",
              "    <tr style=\"text-align: right;\">\n",
              "      <th></th>\n",
              "      <th>budget</th>\n",
              "      <th>profit</th>\n",
              "      <th>revenue</th>\n",
              "      <th>title</th>\n",
              "      <th>genres</th>\n",
              "      <th>popularity</th>\n",
              "      <th>release_date</th>\n",
              "      <th>release_year</th>\n",
              "      <th>runtime</th>\n",
              "      <th>spoken_languages</th>\n",
              "      <th>production_countries</th>\n",
              "      <th>production_companies</th>\n",
              "      <th>cast</th>\n",
              "      <th>vote_average</th>\n",
              "      <th>vote_count</th>\n",
              "      <th>id</th>\n",
              "    </tr>\n",
              "  </thead>\n",
              "  <tbody>\n",
              "    <tr>\n",
              "      <th>1881</th>\n",
              "      <td>25000000.0</td>\n",
              "      <td>3341469.0</td>\n",
              "      <td>28341469.0</td>\n",
              "      <td>The Shawshank Redemption</td>\n",
              "      <td>[Drama, Crime]</td>\n",
              "      <td>136.747729</td>\n",
              "      <td>1994-09-23</td>\n",
              "      <td>1994</td>\n",
              "      <td>142.0</td>\n",
              "      <td>[English]</td>\n",
              "      <td>[United States of America]</td>\n",
              "      <td>[Castle Rock Entertainment]</td>\n",
              "      <td>[Tim Robbins, Morgan Freeman, Bob Gunton, Clan...</td>\n",
              "      <td>8.5</td>\n",
              "      <td>8205</td>\n",
              "      <td>278</td>\n",
              "    </tr>\n",
              "    <tr>\n",
              "      <th>3337</th>\n",
              "      <td>6000000.0</td>\n",
              "      <td>239066411.0</td>\n",
              "      <td>245066411.0</td>\n",
              "      <td>The Godfather</td>\n",
              "      <td>[Drama, Crime]</td>\n",
              "      <td>143.659698</td>\n",
              "      <td>1972-03-14</td>\n",
              "      <td>1972</td>\n",
              "      <td>175.0</td>\n",
              "      <td>[English, Italiano, Latin]</td>\n",
              "      <td>[United States of America]</td>\n",
              "      <td>[Paramount Pictures, Alfran Productions]</td>\n",
              "      <td>[Marlon Brando, Al Pacino, James Caan, Richard...</td>\n",
              "      <td>8.4</td>\n",
              "      <td>5893</td>\n",
              "      <td>238</td>\n",
              "    </tr>\n",
              "    <tr>\n",
              "      <th>2731</th>\n",
              "      <td>13000000.0</td>\n",
              "      <td>34542841.0</td>\n",
              "      <td>47542841.0</td>\n",
              "      <td>The Godfather: Part II</td>\n",
              "      <td>[Drama, Crime]</td>\n",
              "      <td>105.792936</td>\n",
              "      <td>1974-12-20</td>\n",
              "      <td>1974</td>\n",
              "      <td>200.0</td>\n",
              "      <td>[English, Italiano, Latin, Español]</td>\n",
              "      <td>[United States of America]</td>\n",
              "      <td>[Paramount Pictures, The Coppola Company]</td>\n",
              "      <td>[Al Pacino, Robert Duvall, Diane Keaton, Rober...</td>\n",
              "      <td>8.3</td>\n",
              "      <td>3338</td>\n",
              "      <td>240</td>\n",
              "    </tr>\n",
              "    <tr>\n",
              "      <th>3232</th>\n",
              "      <td>8000000.0</td>\n",
              "      <td>205928762.0</td>\n",
              "      <td>213928762.0</td>\n",
              "      <td>Pulp Fiction</td>\n",
              "      <td>[Thriller, Crime]</td>\n",
              "      <td>121.463076</td>\n",
              "      <td>1994-10-08</td>\n",
              "      <td>1994</td>\n",
              "      <td>154.0</td>\n",
              "      <td>[English, Español, Français]</td>\n",
              "      <td>[United States of America]</td>\n",
              "      <td>[Miramax Films, A Band Apart, Jersey Films]</td>\n",
              "      <td>[John Travolta, Samuel L. Jackson, Uma Thurman...</td>\n",
              "      <td>8.3</td>\n",
              "      <td>8428</td>\n",
              "      <td>680</td>\n",
              "    </tr>\n",
              "    <tr>\n",
              "      <th>1818</th>\n",
              "      <td>22000000.0</td>\n",
              "      <td>299365567.0</td>\n",
              "      <td>321365567.0</td>\n",
              "      <td>Schindler's List</td>\n",
              "      <td>[Drama, History, War]</td>\n",
              "      <td>104.469351</td>\n",
              "      <td>1993-11-29</td>\n",
              "      <td>1993</td>\n",
              "      <td>195.0</td>\n",
              "      <td>[Deutsch, Polski, עִבְרִית, English]</td>\n",
              "      <td>[United States of America]</td>\n",
              "      <td>[Universal Pictures, Amblin Entertainment]</td>\n",
              "      <td>[Liam Neeson, Ben Kingsley, Ralph Fiennes, Car...</td>\n",
              "      <td>8.3</td>\n",
              "      <td>4329</td>\n",
              "      <td>424</td>\n",
              "    </tr>\n",
              "  </tbody>\n",
              "</table>\n",
              "</div>\n",
              "      <button class=\"colab-df-convert\" onclick=\"convertToInteractive('df-c7de668a-baee-4a93-8f6b-56ef1e9d153d')\"\n",
              "              title=\"Convert this dataframe to an interactive table.\"\n",
              "              style=\"display:none;\">\n",
              "        \n",
              "  <svg xmlns=\"http://www.w3.org/2000/svg\" height=\"24px\"viewBox=\"0 0 24 24\"\n",
              "       width=\"24px\">\n",
              "    <path d=\"M0 0h24v24H0V0z\" fill=\"none\"/>\n",
              "    <path d=\"M18.56 5.44l.94 2.06.94-2.06 2.06-.94-2.06-.94-.94-2.06-.94 2.06-2.06.94zm-11 1L8.5 8.5l.94-2.06 2.06-.94-2.06-.94L8.5 2.5l-.94 2.06-2.06.94zm10 10l.94 2.06.94-2.06 2.06-.94-2.06-.94-.94-2.06-.94 2.06-2.06.94z\"/><path d=\"M17.41 7.96l-1.37-1.37c-.4-.4-.92-.59-1.43-.59-.52 0-1.04.2-1.43.59L10.3 9.45l-7.72 7.72c-.78.78-.78 2.05 0 2.83L4 21.41c.39.39.9.59 1.41.59.51 0 1.02-.2 1.41-.59l7.78-7.78 2.81-2.81c.8-.78.8-2.07 0-2.86zM5.41 20L4 18.59l7.72-7.72 1.47 1.35L5.41 20z\"/>\n",
              "  </svg>\n",
              "      </button>\n",
              "      \n",
              "  <style>\n",
              "    .colab-df-container {\n",
              "      display:flex;\n",
              "      flex-wrap:wrap;\n",
              "      gap: 12px;\n",
              "    }\n",
              "\n",
              "    .colab-df-convert {\n",
              "      background-color: #E8F0FE;\n",
              "      border: none;\n",
              "      border-radius: 50%;\n",
              "      cursor: pointer;\n",
              "      display: none;\n",
              "      fill: #1967D2;\n",
              "      height: 32px;\n",
              "      padding: 0 0 0 0;\n",
              "      width: 32px;\n",
              "    }\n",
              "\n",
              "    .colab-df-convert:hover {\n",
              "      background-color: #E2EBFA;\n",
              "      box-shadow: 0px 1px 2px rgba(60, 64, 67, 0.3), 0px 1px 3px 1px rgba(60, 64, 67, 0.15);\n",
              "      fill: #174EA6;\n",
              "    }\n",
              "\n",
              "    [theme=dark] .colab-df-convert {\n",
              "      background-color: #3B4455;\n",
              "      fill: #D2E3FC;\n",
              "    }\n",
              "\n",
              "    [theme=dark] .colab-df-convert:hover {\n",
              "      background-color: #434B5C;\n",
              "      box-shadow: 0px 1px 3px 1px rgba(0, 0, 0, 0.15);\n",
              "      filter: drop-shadow(0px 1px 2px rgba(0, 0, 0, 0.3));\n",
              "      fill: #FFFFFF;\n",
              "    }\n",
              "  </style>\n",
              "\n",
              "      <script>\n",
              "        const buttonEl =\n",
              "          document.querySelector('#df-c7de668a-baee-4a93-8f6b-56ef1e9d153d button.colab-df-convert');\n",
              "        buttonEl.style.display =\n",
              "          google.colab.kernel.accessAllowed ? 'block' : 'none';\n",
              "\n",
              "        async function convertToInteractive(key) {\n",
              "          const element = document.querySelector('#df-c7de668a-baee-4a93-8f6b-56ef1e9d153d');\n",
              "          const dataTable =\n",
              "            await google.colab.kernel.invokeFunction('convertToInteractive',\n",
              "                                                     [key], {});\n",
              "          if (!dataTable) return;\n",
              "\n",
              "          const docLinkHtml = 'Like what you see? Visit the ' +\n",
              "            '<a target=\"_blank\" href=https://colab.research.google.com/notebooks/data_table.ipynb>data table notebook</a>'\n",
              "            + ' to learn more about interactive tables.';\n",
              "          element.innerHTML = '';\n",
              "          dataTable['output_type'] = 'display_data';\n",
              "          await google.colab.output.renderOutput(dataTable, element);\n",
              "          const docLink = document.createElement('div');\n",
              "          docLink.innerHTML = docLinkHtml;\n",
              "          element.appendChild(docLink);\n",
              "        }\n",
              "      </script>\n",
              "    </div>\n",
              "  </div>\n",
              "  "
            ]
          },
          "metadata": {},
          "execution_count": 40
        }
      ]
    },
    {
      "cell_type": "markdown",
      "source": [
        "As we can see from the output cell above, the top 5 movies that are highly rated are:\n",
        "\n",
        "1. `[1994]` The Shwshank Redemption\n",
        "2. `[1972]` The Godfather\n",
        "3. `[1974]` The Godfather: Part II\n",
        "4. `[1994]` Pulp Fiction\n",
        "5. `[1993]` Schindler's List"
      ],
      "metadata": {
        "id": "ycmPZhsRyodK"
      }
    },
    {
      "cell_type": "markdown",
      "source": [
        "## Question 10: Frequent Cast in the Movies\n",
        "\n",
        "For this question, we will again plot a bar chart for each cast for all profitable movies. We will then display the bar chart to show which cast are the are present most frequently among profitable movies:"
      ],
      "metadata": {
        "id": "WiJYUf7wzGzI"
      }
    },
    {
      "cell_type": "code",
      "source": [
        "all_cast = []\n",
        "for cast in profitable_movies['cast']:\n",
        "    all_cast.extend(cast)\n",
        "\n",
        "# Count Each Cast and Store The Top 10 Most Frequently Occurred Cast\n",
        "series_of_q10 = pd.Series(all_cast).value_counts()[:10].sort_values(ascending=False)\n",
        "\n",
        "# Set The Graph Configuration\n",
        "plt.figure(figsize=(18, 10))\n",
        "plt.title('Top Casts of Profitable Movies')\n",
        "\n",
        "# Plot The Graph\n",
        "sns.barplot(x=series_of_q10.values, y=series_of_q10.keys(), palette='summer_r')"
      ],
      "metadata": {
        "colab": {
          "base_uri": "https://localhost:8080/",
          "height": 624
        },
        "id": "EG8n5g71zCl7",
        "outputId": "88802ae3-984d-4a83-968b-140821c2f4a4"
      },
      "execution_count": 41,
      "outputs": [
        {
          "output_type": "execute_result",
          "data": {
            "text/plain": [
              "<matplotlib.axes._subplots.AxesSubplot at 0x7f9fef99eed0>"
            ]
          },
          "metadata": {},
          "execution_count": 41
        },
        {
          "output_type": "display_data",
          "data": {
            "text/plain": [
              "<Figure size 1296x720 with 1 Axes>"
            ],
            "image/png": "[encoded data removed]"
          },
          "metadata": {
            "needs_background": "light"
          }
        }
      ]
    },
    {
      "cell_type": "markdown",
      "source": [
        "Looks like our top 5 casts in all profitable movies are:\n",
        "\n",
        "1. Samuel L. Jackson\n",
        "2. Tom Cruise\n",
        "3. Stan Lee\n",
        "4. Morgan Freeman\n",
        "5. Tom Hanks\n",
        "\n",
        "---"
      ],
      "metadata": {
        "id": "zizvT-8J-jbn"
      }
    },
    {
      "cell_type": "markdown",
      "source": [
        "# Conclusion\n",
        "\n",
        "Now that we have completed answering all questions we defined earlier, it's time to conclude the insights that we have analyzed."
      ],
      "metadata": {
        "id": "EsC043Zj-uud"
      }
    },
    {
      "cell_type": "markdown",
      "source": [
        "## Notebook Recap\n",
        "\n",
        "In this notebook, we started with the theory of Exploratory Data Analysis (EDA). Then, we have walked through steps in performing EDA:\n",
        "\n",
        "We started our code by importing modules that will be used in our EDA. Then we continued to preview our data and defining questions, perform data cleaning and data transformation, and finally to answer the questions we defined earlier using the data we have via data visualization."
      ],
      "metadata": {
        "id": "SpHf9p1fC8IB"
      }
    },
    {
      "cell_type": "markdown",
      "source": [
        "## Analysis Conclusion\n",
        "\n",
        "From the questions that we have answered above, we can conclude that for a movie to be profitable, it is encouraged that:\n",
        "\n",
        "* Invest in budget, but not too much to avoid loss.\n",
        "* Try to generate a revenue of around $260 Million.\n",
        "* Have a runtime of around 150 to 200 minutes.\n",
        "* Must support the following languages:\n",
        "    * English\n",
        "    * French\n",
        "    * Spanish\n",
        "    * German\n",
        "    * Italian language\n",
        "* Must have one of the following genres:\n",
        "    * Action\n",
        "    * Adventure\n",
        "    * Comedy\n",
        "    * Drama\n",
        "    * Thriller\n",
        "* Have any of the following cast in production: \n",
        "    * Samuel L. Jackson \n",
        "    * Tom Cruise\n",
        "    * Stan Lee\n",
        "    * Morgan Freeman\n",
        "    * Tom Hanks\n"
      ],
      "metadata": {
        "id": "-slZq9mp-4PZ"
      }
    }
  ]
}