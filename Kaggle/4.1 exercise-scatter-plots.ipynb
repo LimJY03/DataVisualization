{
 "cells": [
  {
   "cell_type": "markdown",
   "id": "96a42571",
   "metadata": {
    "papermill": {
     "duration": 0.010604,
     "end_time": "2022-07-31T13:10:29.936650",
     "exception": false,
     "start_time": "2022-07-31T13:10:29.926046",
     "status": "completed"
    },
    "tags": []
   },
   "source": [
    "**This notebook is an exercise in the [Data Visualization](https://www.kaggle.com/learn/data-visualization) course.  You can reference the tutorial at [this link](https://www.kaggle.com/alexisbcook/scatter-plots).**\n",
    "\n",
    "---\n"
   ]
  },
  {
   "cell_type": "markdown",
   "id": "60f8a318",
   "metadata": {
    "papermill": {
     "duration": 0.009316,
     "end_time": "2022-07-31T13:10:29.955551",
     "exception": false,
     "start_time": "2022-07-31T13:10:29.946235",
     "status": "completed"
    },
    "tags": []
   },
   "source": [
    "In this exercise, you will use your new knowledge to propose a solution to a real-world scenario.  To succeed, you will need to import data into Python, answer questions using the data, and generate **scatter plots** to understand patterns in the data.\n",
    "\n",
    "## Scenario\n",
    "\n",
    "You work for a major candy producer, and your goal is to write a report that your company can use to guide the design of its next product.  Soon after starting your research, you stumble across this [very interesting dataset](https://fivethirtyeight.com/features/the-ultimate-halloween-candy-power-ranking/) containing results from a fun survey to crowdsource favorite candies.\n",
    "\n",
    "## Setup\n",
    "\n",
    "Run the next cell to import and configure the Python libraries that you need to complete the exercise."
   ]
  },
  {
   "cell_type": "code",
   "execution_count": 1,
   "id": "a2d6b9b5",
   "metadata": {
    "execution": {
     "iopub.execute_input": "2022-07-31T13:10:29.977236Z",
     "iopub.status.busy": "2022-07-31T13:10:29.976551Z",
     "iopub.status.idle": "2022-07-31T13:10:31.323723Z",
     "shell.execute_reply": "2022-07-31T13:10:31.322263Z"
    },
    "papermill": {
     "duration": 1.361398,
     "end_time": "2022-07-31T13:10:31.326625",
     "exception": false,
     "start_time": "2022-07-31T13:10:29.965227",
     "status": "completed"
    },
    "tags": []
   },
   "outputs": [
    {
     "name": "stdout",
     "output_type": "stream",
     "text": [
      "Setup Complete\n"
     ]
    }
   ],
   "source": [
    "import pandas as pd\n",
    "pd.plotting.register_matplotlib_converters()\n",
    "\n",
    "import matplotlib.pyplot as plt\n",
    "%matplotlib inline\n",
    "\n",
    "import seaborn as sns\n",
    "\n",
    "print(\"Setup Complete\")"
   ]
  },
  {
   "cell_type": "markdown",
   "id": "e535d49b",
   "metadata": {
    "papermill": {
     "duration": 0.009657,
     "end_time": "2022-07-31T13:10:31.347207",
     "exception": false,
     "start_time": "2022-07-31T13:10:31.337550",
     "status": "completed"
    },
    "tags": []
   },
   "source": [
    "The questions below will give you feedback on your work. Run the following cell to set up our feedback system."
   ]
  },
  {
   "cell_type": "code",
   "execution_count": 2,
   "id": "48543b16",
   "metadata": {
    "execution": {
     "iopub.execute_input": "2022-07-31T13:10:31.368945Z",
     "iopub.status.busy": "2022-07-31T13:10:31.368347Z",
     "iopub.status.idle": "2022-07-31T13:10:31.440341Z",
     "shell.execute_reply": "2022-07-31T13:10:31.438930Z"
    },
    "papermill": {
     "duration": 0.087362,
     "end_time": "2022-07-31T13:10:31.444249",
     "exception": false,
     "start_time": "2022-07-31T13:10:31.356887",
     "status": "completed"
    },
    "tags": []
   },
   "outputs": [
    {
     "name": "stdout",
     "output_type": "stream",
     "text": [
      "Setup Complete\n"
     ]
    }
   ],
   "source": [
    "# Set up code checking\n",
    "import os\n",
    "\n",
    "if not os.path.exists(\"../input/candy.csv\"):\n",
    "    os.symlink(\"../input/data-for-datavis/candy.csv\", \"../input/candy.csv\") \n",
    "\n",
    "from learntools.core import binder\n",
    "binder.bind(globals())\n",
    "\n",
    "from learntools.data_viz_to_coder.ex4 import *\n",
    "\n",
    "print(\"Setup Complete\")"
   ]
  },
  {
   "cell_type": "markdown",
   "id": "d4211c9c",
   "metadata": {
    "papermill": {
     "duration": 0.009264,
     "end_time": "2022-07-31T13:10:31.463549",
     "exception": false,
     "start_time": "2022-07-31T13:10:31.454285",
     "status": "completed"
    },
    "tags": []
   },
   "source": [
    "## Step 1: Load the Data\n",
    "\n",
    "Read the candy data file into `candy_data`.  Use the `\"id\"` column to label the rows."
   ]
  },
  {
   "cell_type": "code",
   "execution_count": 3,
   "id": "e8f833bc",
   "metadata": {
    "execution": {
     "iopub.execute_input": "2022-07-31T13:10:31.485225Z",
     "iopub.status.busy": "2022-07-31T13:10:31.483789Z",
     "iopub.status.idle": "2022-07-31T13:10:31.501937Z",
     "shell.execute_reply": "2022-07-31T13:10:31.500709Z"
    },
    "papermill": {
     "duration": 0.031462,
     "end_time": "2022-07-31T13:10:31.504589",
     "exception": false,
     "start_time": "2022-07-31T13:10:31.473127",
     "status": "completed"
    },
    "tags": []
   },
   "outputs": [
    {
     "data": {
      "application/javascript": [
       "parent.postMessage({\"jupyterEvent\": \"custom.exercise_interaction\", \"data\": {\"outcomeType\": 1, \"valueTowardsCompletion\": 0.3333333333333333, \"interactionType\": 1, \"questionType\": 1, \"questionId\": \"1_LoadData\", \"learnToolsVersion\": \"0.3.4\", \"failureMessage\": \"\", \"exceptionClass\": \"\", \"trace\": \"\"}}, \"*\")"
      ],
      "text/plain": [
       "<IPython.core.display.Javascript object>"
      ]
     },
     "metadata": {},
     "output_type": "display_data"
    },
    {
     "data": {
      "text/markdown": [
       "<span style=\"color:#33cc33\">Correct</span>"
      ],
      "text/plain": [
       "Correct"
      ]
     },
     "metadata": {},
     "output_type": "display_data"
    }
   ],
   "source": [
    "# Path of the file to read\n",
    "candy_filepath = \"../input/candy.csv\"\n",
    "\n",
    "# Fill in the line below to read the file into a variable candy_data\n",
    "candy_data = pd.read_csv(candy_filepath, index_col='id')\n",
    "\n",
    "# Run the line below with no changes to check that you've loaded the data correctly\n",
    "step_1.check()"
   ]
  },
  {
   "cell_type": "code",
   "execution_count": 4,
   "id": "c1c9688f",
   "metadata": {
    "execution": {
     "iopub.execute_input": "2022-07-31T13:10:31.527084Z",
     "iopub.status.busy": "2022-07-31T13:10:31.526671Z",
     "iopub.status.idle": "2022-07-31T13:10:31.531504Z",
     "shell.execute_reply": "2022-07-31T13:10:31.530316Z"
    },
    "papermill": {
     "duration": 0.018307,
     "end_time": "2022-07-31T13:10:31.533786",
     "exception": false,
     "start_time": "2022-07-31T13:10:31.515479",
     "status": "completed"
    },
    "tags": []
   },
   "outputs": [],
   "source": [
    "# Lines below will give you a hint or solution code\n",
    "# step_1.hint()\n",
    "# step_1.solution()"
   ]
  },
  {
   "cell_type": "markdown",
   "id": "6bda88b9",
   "metadata": {
    "papermill": {
     "duration": 0.00994,
     "end_time": "2022-07-31T13:10:31.554101",
     "exception": false,
     "start_time": "2022-07-31T13:10:31.544161",
     "status": "completed"
    },
    "tags": []
   },
   "source": [
    "## Step 2: Review the data\n",
    "\n",
    "Use a Python command to print the first five rows of the data."
   ]
  },
  {
   "cell_type": "code",
   "execution_count": 5,
   "id": "c45c5cf0",
   "metadata": {
    "execution": {
     "iopub.execute_input": "2022-07-31T13:10:31.576008Z",
     "iopub.status.busy": "2022-07-31T13:10:31.575026Z",
     "iopub.status.idle": "2022-07-31T13:10:31.599062Z",
     "shell.execute_reply": "2022-07-31T13:10:31.597352Z"
    },
    "papermill": {
     "duration": 0.037655,
     "end_time": "2022-07-31T13:10:31.601655",
     "exception": false,
     "start_time": "2022-07-31T13:10:31.564000",
     "status": "completed"
    },
    "tags": []
   },
   "outputs": [
    {
     "data": {
      "text/html": [
       "<div>\n",
       "<style scoped>\n",
       "    .dataframe tbody tr th:only-of-type {\n",
       "        vertical-align: middle;\n",
       "    }\n",
       "\n",
       "    .dataframe tbody tr th {\n",
       "        vertical-align: top;\n",
       "    }\n",
       "\n",
       "    .dataframe thead th {\n",
       "        text-align: right;\n",
       "    }\n",
       "</style>\n",
       "<table border=\"1\" class=\"dataframe\">\n",
       "  <thead>\n",
       "    <tr style=\"text-align: right;\">\n",
       "      <th></th>\n",
       "      <th>competitorname</th>\n",
       "      <th>chocolate</th>\n",
       "      <th>fruity</th>\n",
       "      <th>caramel</th>\n",
       "      <th>peanutyalmondy</th>\n",
       "      <th>nougat</th>\n",
       "      <th>crispedricewafer</th>\n",
       "      <th>hard</th>\n",
       "      <th>bar</th>\n",
       "      <th>pluribus</th>\n",
       "      <th>sugarpercent</th>\n",
       "      <th>pricepercent</th>\n",
       "      <th>winpercent</th>\n",
       "    </tr>\n",
       "    <tr>\n",
       "      <th>id</th>\n",
       "      <th></th>\n",
       "      <th></th>\n",
       "      <th></th>\n",
       "      <th></th>\n",
       "      <th></th>\n",
       "      <th></th>\n",
       "      <th></th>\n",
       "      <th></th>\n",
       "      <th></th>\n",
       "      <th></th>\n",
       "      <th></th>\n",
       "      <th></th>\n",
       "      <th></th>\n",
       "    </tr>\n",
       "  </thead>\n",
       "  <tbody>\n",
       "    <tr>\n",
       "      <th>0</th>\n",
       "      <td>100 Grand</td>\n",
       "      <td>Yes</td>\n",
       "      <td>No</td>\n",
       "      <td>Yes</td>\n",
       "      <td>No</td>\n",
       "      <td>No</td>\n",
       "      <td>Yes</td>\n",
       "      <td>No</td>\n",
       "      <td>Yes</td>\n",
       "      <td>No</td>\n",
       "      <td>0.732</td>\n",
       "      <td>0.860</td>\n",
       "      <td>66.971725</td>\n",
       "    </tr>\n",
       "    <tr>\n",
       "      <th>1</th>\n",
       "      <td>3 Musketeers</td>\n",
       "      <td>Yes</td>\n",
       "      <td>No</td>\n",
       "      <td>No</td>\n",
       "      <td>No</td>\n",
       "      <td>Yes</td>\n",
       "      <td>No</td>\n",
       "      <td>No</td>\n",
       "      <td>Yes</td>\n",
       "      <td>No</td>\n",
       "      <td>0.604</td>\n",
       "      <td>0.511</td>\n",
       "      <td>67.602936</td>\n",
       "    </tr>\n",
       "    <tr>\n",
       "      <th>2</th>\n",
       "      <td>Air Heads</td>\n",
       "      <td>No</td>\n",
       "      <td>Yes</td>\n",
       "      <td>No</td>\n",
       "      <td>No</td>\n",
       "      <td>No</td>\n",
       "      <td>No</td>\n",
       "      <td>No</td>\n",
       "      <td>No</td>\n",
       "      <td>No</td>\n",
       "      <td>0.906</td>\n",
       "      <td>0.511</td>\n",
       "      <td>52.341465</td>\n",
       "    </tr>\n",
       "    <tr>\n",
       "      <th>3</th>\n",
       "      <td>Almond Joy</td>\n",
       "      <td>Yes</td>\n",
       "      <td>No</td>\n",
       "      <td>No</td>\n",
       "      <td>Yes</td>\n",
       "      <td>No</td>\n",
       "      <td>No</td>\n",
       "      <td>No</td>\n",
       "      <td>Yes</td>\n",
       "      <td>No</td>\n",
       "      <td>0.465</td>\n",
       "      <td>0.767</td>\n",
       "      <td>50.347546</td>\n",
       "    </tr>\n",
       "    <tr>\n",
       "      <th>4</th>\n",
       "      <td>Baby Ruth</td>\n",
       "      <td>Yes</td>\n",
       "      <td>No</td>\n",
       "      <td>Yes</td>\n",
       "      <td>Yes</td>\n",
       "      <td>Yes</td>\n",
       "      <td>No</td>\n",
       "      <td>No</td>\n",
       "      <td>Yes</td>\n",
       "      <td>No</td>\n",
       "      <td>0.604</td>\n",
       "      <td>0.767</td>\n",
       "      <td>56.914547</td>\n",
       "    </tr>\n",
       "  </tbody>\n",
       "</table>\n",
       "</div>"
      ],
      "text/plain": [
       "   competitorname chocolate fruity caramel peanutyalmondy nougat  \\\n",
       "id                                                                 \n",
       "0       100 Grand       Yes     No     Yes             No     No   \n",
       "1    3 Musketeers       Yes     No      No             No    Yes   \n",
       "2       Air Heads        No    Yes      No             No     No   \n",
       "3      Almond Joy       Yes     No      No            Yes     No   \n",
       "4       Baby Ruth       Yes     No     Yes            Yes    Yes   \n",
       "\n",
       "   crispedricewafer hard  bar pluribus  sugarpercent  pricepercent  winpercent  \n",
       "id                                                                              \n",
       "0               Yes   No  Yes       No         0.732         0.860   66.971725  \n",
       "1                No   No  Yes       No         0.604         0.511   67.602936  \n",
       "2                No   No   No       No         0.906         0.511   52.341465  \n",
       "3                No   No  Yes       No         0.465         0.767   50.347546  \n",
       "4                No   No  Yes       No         0.604         0.767   56.914547  "
      ]
     },
     "execution_count": 5,
     "metadata": {},
     "output_type": "execute_result"
    }
   ],
   "source": [
    "# Print the first five rows of the data\n",
    "candy_data.head()"
   ]
  },
  {
   "cell_type": "markdown",
   "id": "c7b0b354",
   "metadata": {
    "papermill": {
     "duration": 0.009803,
     "end_time": "2022-07-31T13:10:31.621802",
     "exception": false,
     "start_time": "2022-07-31T13:10:31.611999",
     "status": "completed"
    },
    "tags": []
   },
   "source": [
    "The dataset contains 83 rows, where each corresponds to a different candy bar.  There are 13 columns:\n",
    "- `'competitorname'` contains the name of the candy bar. \n",
    "- the next **9** columns (from `'chocolate'` to `'pluribus'`) describe the candy.  For instance, rows with chocolate candies have `\"Yes\"` in the `'chocolate'` column (and candies without chocolate have `\"No\"` in the same column).\n",
    "- `'sugarpercent'` provides some indication of the amount of sugar, where higher values signify higher sugar content.\n",
    "- `'pricepercent'` shows the price per unit, relative to the other candies in the dataset.\n",
    "- `'winpercent'` is calculated from the survey results; higher values indicate that the candy was more popular with survey respondents.\n",
    "\n",
    "Use the first five rows of the data to answer the questions below."
   ]
  },
  {
   "cell_type": "code",
   "execution_count": 6,
   "id": "d393e7da",
   "metadata": {
    "execution": {
     "iopub.execute_input": "2022-07-31T13:10:31.643988Z",
     "iopub.status.busy": "2022-07-31T13:10:31.643554Z",
     "iopub.status.idle": "2022-07-31T13:10:31.652175Z",
     "shell.execute_reply": "2022-07-31T13:10:31.650909Z"
    },
    "papermill": {
     "duration": 0.022315,
     "end_time": "2022-07-31T13:10:31.654385",
     "exception": false,
     "start_time": "2022-07-31T13:10:31.632070",
     "status": "completed"
    },
    "tags": []
   },
   "outputs": [
    {
     "data": {
      "application/javascript": [
       "parent.postMessage({\"jupyterEvent\": \"custom.exercise_interaction\", \"data\": {\"outcomeType\": 1, \"valueTowardsCompletion\": 0.3333333333333333, \"interactionType\": 1, \"questionType\": 1, \"questionId\": \"2_ReviewData\", \"learnToolsVersion\": \"0.3.4\", \"failureMessage\": \"\", \"exceptionClass\": \"\", \"trace\": \"\"}}, \"*\")"
      ],
      "text/plain": [
       "<IPython.core.display.Javascript object>"
      ]
     },
     "metadata": {},
     "output_type": "display_data"
    },
    {
     "data": {
      "text/markdown": [
       "<span style=\"color:#33cc33\">Correct</span>"
      ],
      "text/plain": [
       "Correct"
      ]
     },
     "metadata": {},
     "output_type": "display_data"
    }
   ],
   "source": [
    "# Fill in the line below: Which candy was more popular with survey respondents: '3 Musketeers' or 'Almond Joy'?\n",
    "more_popular = '3 Musketeers'\n",
    "\n",
    "# Fill in the line below: Which candy has higher sugar content: 'Air Heads' or 'Baby Ruth'?\n",
    "more_sugar = 'Air Heads'\n",
    "\n",
    "# Check your answers\n",
    "step_2.check()"
   ]
  },
  {
   "cell_type": "code",
   "execution_count": 7,
   "id": "6bf06fc7",
   "metadata": {
    "execution": {
     "iopub.execute_input": "2022-07-31T13:10:31.677520Z",
     "iopub.status.busy": "2022-07-31T13:10:31.676932Z",
     "iopub.status.idle": "2022-07-31T13:10:31.680538Z",
     "shell.execute_reply": "2022-07-31T13:10:31.679756Z"
    },
    "papermill": {
     "duration": 0.017976,
     "end_time": "2022-07-31T13:10:31.682980",
     "exception": false,
     "start_time": "2022-07-31T13:10:31.665004",
     "status": "completed"
    },
    "tags": []
   },
   "outputs": [],
   "source": [
    "# Lines below will give you a hint or solution code\n",
    "# step_2.hint()\n",
    "# step_2.solution()"
   ]
  },
  {
   "cell_type": "markdown",
   "id": "4073d1dd",
   "metadata": {
    "papermill": {
     "duration": 0.010694,
     "end_time": "2022-07-31T13:10:31.704470",
     "exception": false,
     "start_time": "2022-07-31T13:10:31.693776",
     "status": "completed"
    },
    "tags": []
   },
   "source": [
    "## Step 3: The role of sugar\n",
    "\n",
    "Do people tend to prefer candies with higher sugar content?  \n",
    "\n",
    "#### Part A\n",
    "\n",
    "Create a scatter plot that shows the relationship between `'sugarpercent'` (on the horizontal x-axis) and `'winpercent'` (on the vertical y-axis).  _Don't add a regression line just yet -- you'll do that in the next step!_"
   ]
  },
  {
   "cell_type": "code",
   "execution_count": 8,
   "id": "392ccce8",
   "metadata": {
    "execution": {
     "iopub.execute_input": "2022-07-31T13:10:31.728512Z",
     "iopub.status.busy": "2022-07-31T13:10:31.727779Z",
     "iopub.status.idle": "2022-07-31T13:10:31.982028Z",
     "shell.execute_reply": "2022-07-31T13:10:31.981054Z"
    },
    "papermill": {
     "duration": 0.268766,
     "end_time": "2022-07-31T13:10:31.984446",
     "exception": false,
     "start_time": "2022-07-31T13:10:31.715680",
     "status": "completed"
    },
    "tags": []
   },
   "outputs": [
    {
     "data": {
      "application/javascript": [
       "parent.postMessage({\"jupyterEvent\": \"custom.exercise_interaction\", \"data\": {\"outcomeType\": 1, \"valueTowardsCompletion\": 0.3333333333333333, \"interactionType\": 1, \"questionType\": 2, \"questionId\": \"3.1_PlotBlueScatter\", \"learnToolsVersion\": \"0.3.4\", \"failureMessage\": \"\", \"exceptionClass\": \"\", \"trace\": \"\"}}, \"*\")"
      ],
      "text/plain": [
       "<IPython.core.display.Javascript object>"
      ]
     },
     "metadata": {},
     "output_type": "display_data"
    },
    {
     "data": {
      "text/markdown": [
       "<span style=\"color:#33cc33\">Correct</span>"
      ],
      "text/plain": [
       "Correct"
      ]
     },
     "metadata": {},
     "output_type": "display_data"
    },
    {
     "data": {
      "image/png": "[encoded data removed]",
      "text/plain": [
       "<Figure size 432x288 with 1 Axes>"
      ]
     },
     "metadata": {
      "needs_background": "light"
     },
     "output_type": "display_data"
    }
   ],
   "source": [
    "# Scatter plot showing the relationship between 'sugarpercent' and 'winpercent'\n",
    "sns.scatterplot(x=candy_data['sugarpercent'], y=candy_data['winpercent'])\n",
    "\n",
    "# Check your answer\n",
    "step_3.a.check()"
   ]
  },
  {
   "cell_type": "code",
   "execution_count": 9,
   "id": "d1fdff76",
   "metadata": {
    "execution": {
     "iopub.execute_input": "2022-07-31T13:10:32.009496Z",
     "iopub.status.busy": "2022-07-31T13:10:32.008776Z",
     "iopub.status.idle": "2022-07-31T13:10:32.013479Z",
     "shell.execute_reply": "2022-07-31T13:10:32.012689Z"
    },
    "papermill": {
     "duration": 0.020105,
     "end_time": "2022-07-31T13:10:32.015774",
     "exception": false,
     "start_time": "2022-07-31T13:10:31.995669",
     "status": "completed"
    },
    "tags": []
   },
   "outputs": [],
   "source": [
    "# Lines below will give you a hint or solution code\n",
    "# step_3.a.hint()\n",
    "# step_3.a.solution_plot()"
   ]
  },
  {
   "cell_type": "markdown",
   "id": "78467a00",
   "metadata": {
    "papermill": {
     "duration": 0.010713,
     "end_time": "2022-07-31T13:10:32.037888",
     "exception": false,
     "start_time": "2022-07-31T13:10:32.027175",
     "status": "completed"
    },
    "tags": []
   },
   "source": [
    "#### Part B\n",
    "\n",
    "Does the scatter plot show a **strong** correlation between the two variables?  If so, are candies with more sugar relatively more or less popular with the survey respondents?"
   ]
  },
  {
   "cell_type": "code",
   "execution_count": 10,
   "id": "99024080",
   "metadata": {
    "execution": {
     "iopub.execute_input": "2022-07-31T13:10:32.062247Z",
     "iopub.status.busy": "2022-07-31T13:10:32.061540Z",
     "iopub.status.idle": "2022-07-31T13:10:32.066530Z",
     "shell.execute_reply": "2022-07-31T13:10:32.065585Z"
    },
    "papermill": {
     "duration": 0.019907,
     "end_time": "2022-07-31T13:10:32.068879",
     "exception": false,
     "start_time": "2022-07-31T13:10:32.048972",
     "status": "completed"
    },
    "tags": []
   },
   "outputs": [],
   "source": [
    "# step_3.b.hint()"
   ]
  },
  {
   "cell_type": "code",
   "execution_count": 11,
   "id": "f83390f9",
   "metadata": {
    "execution": {
     "iopub.execute_input": "2022-07-31T13:10:32.093340Z",
     "iopub.status.busy": "2022-07-31T13:10:32.092940Z",
     "iopub.status.idle": "2022-07-31T13:10:32.101019Z",
     "shell.execute_reply": "2022-07-31T13:10:32.099923Z"
    },
    "papermill": {
     "duration": 0.022867,
     "end_time": "2022-07-31T13:10:32.103187",
     "exception": false,
     "start_time": "2022-07-31T13:10:32.080320",
     "status": "completed"
    },
    "tags": []
   },
   "outputs": [
    {
     "data": {
      "application/javascript": [
       "parent.postMessage({\"jupyterEvent\": \"custom.exercise_interaction\", \"data\": {\"interactionType\": 3, \"questionType\": 4, \"questionId\": \"3.2_ThinkBlueScatter\", \"learnToolsVersion\": \"0.3.4\", \"valueTowardsCompletion\": 0.0, \"failureMessage\": \"\", \"exceptionClass\": \"\", \"trace\": \"\", \"outcomeType\": 4}}, \"*\")"
      ],
      "text/plain": [
       "<IPython.core.display.Javascript object>"
      ]
     },
     "metadata": {},
     "output_type": "display_data"
    },
    {
     "data": {
      "text/markdown": [
       "<span style=\"color:#33cc99\">Solution:</span> The scatter plot does not show a strong correlation between the two variables. Since there is no clear relationship between the two variables, this tells us that sugar content does not play a strong role in candy popularity."
      ],
      "text/plain": [
       "Solution: The scatter plot does not show a strong correlation between the two variables. Since there is no clear relationship between the two variables, this tells us that sugar content does not play a strong role in candy popularity."
      ]
     },
     "metadata": {},
     "output_type": "display_data"
    }
   ],
   "source": [
    "# Check your answer (Run this code cell to receive credit!)\n",
    "step_3.b.solution()"
   ]
  },
  {
   "cell_type": "markdown",
   "id": "814edc1b",
   "metadata": {
    "papermill": {
     "duration": 0.011152,
     "end_time": "2022-07-31T13:10:32.126109",
     "exception": false,
     "start_time": "2022-07-31T13:10:32.114957",
     "status": "completed"
    },
    "tags": []
   },
   "source": [
    "## Step 4: Take a closer look\n",
    "\n",
    "#### Part A\n",
    "\n",
    "Create the same scatter plot you created in **Step 3**, but now with a regression line!"
   ]
  },
  {
   "cell_type": "code",
   "execution_count": 12,
   "id": "65b3e6eb",
   "metadata": {
    "execution": {
     "iopub.execute_input": "2022-07-31T13:10:32.150904Z",
     "iopub.status.busy": "2022-07-31T13:10:32.150504Z",
     "iopub.status.idle": "2022-07-31T13:10:32.463681Z",
     "shell.execute_reply": "2022-07-31T13:10:32.462746Z"
    },
    "papermill": {
     "duration": 0.328265,
     "end_time": "2022-07-31T13:10:32.465818",
     "exception": false,
     "start_time": "2022-07-31T13:10:32.137553",
     "status": "completed"
    },
    "tags": []
   },
   "outputs": [
    {
     "data": {
      "application/javascript": [
       "parent.postMessage({\"jupyterEvent\": \"custom.exercise_interaction\", \"data\": {\"outcomeType\": 1, \"valueTowardsCompletion\": 0.3333333333333333, \"interactionType\": 1, \"questionType\": 2, \"questionId\": \"4.1_PlotBlueReg\", \"learnToolsVersion\": \"0.3.4\", \"failureMessage\": \"\", \"exceptionClass\": \"\", \"trace\": \"\"}}, \"*\")"
      ],
      "text/plain": [
       "<IPython.core.display.Javascript object>"
      ]
     },
     "metadata": {},
     "output_type": "display_data"
    },
    {
     "data": {
      "text/markdown": [
       "<span style=\"color:#33cc33\">Correct</span>"
      ],
      "text/plain": [
       "Correct"
      ]
     },
     "metadata": {},
     "output_type": "display_data"
    },
    {
     "data": {
      "image/png": "[encoded data removed]",
      "text/plain": [
       "<Figure size 432x288 with 1 Axes>"
      ]
     },
     "metadata": {
      "needs_background": "light"
     },
     "output_type": "display_data"
    }
   ],
   "source": [
    "# Scatter plot w/ regression line showing the relationship between 'sugarpercent' and 'winpercent'\n",
    "sns.regplot(x=candy_data['sugarpercent'], y=candy_data['winpercent'])\n",
    "\n",
    "# Check your answer\n",
    "step_4.a.check()"
   ]
  },
  {
   "cell_type": "code",
   "execution_count": 13,
   "id": "91118710",
   "metadata": {
    "execution": {
     "iopub.execute_input": "2022-07-31T13:10:32.492351Z",
     "iopub.status.busy": "2022-07-31T13:10:32.491970Z",
     "iopub.status.idle": "2022-07-31T13:10:32.495712Z",
     "shell.execute_reply": "2022-07-31T13:10:32.495001Z"
    },
    "papermill": {
     "duration": 0.01954,
     "end_time": "2022-07-31T13:10:32.497669",
     "exception": false,
     "start_time": "2022-07-31T13:10:32.478129",
     "status": "completed"
    },
    "tags": []
   },
   "outputs": [],
   "source": [
    "# Lines below will give you a hint or solution code\n",
    "# step_4.a.hint()\n",
    "# step_4.a.solution_plot()"
   ]
  },
  {
   "cell_type": "markdown",
   "id": "6e1fb907",
   "metadata": {
    "papermill": {
     "duration": 0.01248,
     "end_time": "2022-07-31T13:10:32.522515",
     "exception": false,
     "start_time": "2022-07-31T13:10:32.510035",
     "status": "completed"
    },
    "tags": []
   },
   "source": [
    "#### Part B\n",
    "\n",
    "According to the plot above, is there a **slight** correlation between `'winpercent'` and `'sugarpercent'`?  What does this tell you about the candy that people tend to prefer?"
   ]
  },
  {
   "cell_type": "code",
   "execution_count": 14,
   "id": "c4c488d8",
   "metadata": {
    "execution": {
     "iopub.execute_input": "2022-07-31T13:10:32.550051Z",
     "iopub.status.busy": "2022-07-31T13:10:32.549399Z",
     "iopub.status.idle": "2022-07-31T13:10:32.554684Z",
     "shell.execute_reply": "2022-07-31T13:10:32.553258Z"
    },
    "papermill": {
     "duration": 0.021455,
     "end_time": "2022-07-31T13:10:32.557071",
     "exception": false,
     "start_time": "2022-07-31T13:10:32.535616",
     "status": "completed"
    },
    "tags": []
   },
   "outputs": [],
   "source": [
    "# step_4.b.hint()"
   ]
  },
  {
   "cell_type": "code",
   "execution_count": 15,
   "id": "013c9b42",
   "metadata": {
    "execution": {
     "iopub.execute_input": "2022-07-31T13:10:32.585279Z",
     "iopub.status.busy": "2022-07-31T13:10:32.584536Z",
     "iopub.status.idle": "2022-07-31T13:10:32.592249Z",
     "shell.execute_reply": "2022-07-31T13:10:32.591382Z"
    },
    "papermill": {
     "duration": 0.024234,
     "end_time": "2022-07-31T13:10:32.594604",
     "exception": false,
     "start_time": "2022-07-31T13:10:32.570370",
     "status": "completed"
    },
    "tags": []
   },
   "outputs": [
    {
     "data": {
      "application/javascript": [
       "parent.postMessage({\"jupyterEvent\": \"custom.exercise_interaction\", \"data\": {\"interactionType\": 3, \"questionType\": 4, \"questionId\": \"4.2_ThinkBlueReg\", \"learnToolsVersion\": \"0.3.4\", \"valueTowardsCompletion\": 0.0, \"failureMessage\": \"\", \"exceptionClass\": \"\", \"trace\": \"\", \"outcomeType\": 4}}, \"*\")"
      ],
      "text/plain": [
       "<IPython.core.display.Javascript object>"
      ]
     },
     "metadata": {},
     "output_type": "display_data"
    },
    {
     "data": {
      "text/markdown": [
       "<span style=\"color:#33cc99\">Solution:</span> Since the regression line has a slightly positive slope, this tells us that there is a slightly positive correlation between `'winpercent'` and `'sugarpercent'`. Thus, people have a slight preference for candies containing relatively more sugar."
      ],
      "text/plain": [
       "Solution: Since the regression line has a slightly positive slope, this tells us that there is a slightly positive correlation between `'winpercent'` and `'sugarpercent'`. Thus, people have a slight preference for candies containing relatively more sugar."
      ]
     },
     "metadata": {},
     "output_type": "display_data"
    }
   ],
   "source": [
    "# Check your answer (Run this code cell to receive credit!)\n",
    "step_4.b.solution()"
   ]
  },
  {
   "cell_type": "markdown",
   "id": "40efd289",
   "metadata": {
    "papermill": {
     "duration": 0.012098,
     "end_time": "2022-07-31T13:10:32.619547",
     "exception": false,
     "start_time": "2022-07-31T13:10:32.607449",
     "status": "completed"
    },
    "tags": []
   },
   "source": [
    "## Step 5: Chocolate!\n",
    "\n",
    "In the code cell below, create a scatter plot to show the relationship between `'pricepercent'` (on the horizontal x-axis) and `'winpercent'` (on the vertical y-axis). Use the `'chocolate'` column to color-code the points.  _Don't add any regression lines just yet -- you'll do that in the next step!_"
   ]
  },
  {
   "cell_type": "code",
   "execution_count": 16,
   "id": "2beade63",
   "metadata": {
    "execution": {
     "iopub.execute_input": "2022-07-31T13:10:32.647982Z",
     "iopub.status.busy": "2022-07-31T13:10:32.646754Z",
     "iopub.status.idle": "2022-07-31T13:10:32.912520Z",
     "shell.execute_reply": "2022-07-31T13:10:32.911325Z"
    },
    "papermill": {
     "duration": 0.283253,
     "end_time": "2022-07-31T13:10:32.915418",
     "exception": false,
     "start_time": "2022-07-31T13:10:32.632165",
     "status": "completed"
    },
    "tags": []
   },
   "outputs": [
    {
     "data": {
      "application/javascript": [
       "parent.postMessage({\"jupyterEvent\": \"custom.exercise_interaction\", \"data\": {\"outcomeType\": 1, \"valueTowardsCompletion\": 0.3333333333333333, \"interactionType\": 1, \"questionType\": 2, \"questionId\": \"5_ColorScatter\", \"learnToolsVersion\": \"0.3.4\", \"failureMessage\": \"\", \"exceptionClass\": \"\", \"trace\": \"\"}}, \"*\")"
      ],
      "text/plain": [
       "<IPython.core.display.Javascript object>"
      ]
     },
     "metadata": {},
     "output_type": "display_data"
    },
    {
     "data": {
      "text/markdown": [
       "<span style=\"color:#33cc33\">Correct</span>"
      ],
      "text/plain": [
       "Correct"
      ]
     },
     "metadata": {},
     "output_type": "display_data"
    },
    {
     "data": {
      "image/png": "[encoded data removed]",
      "text/plain": [
       "<Figure size 432x288 with 1 Axes>"
      ]
     },
     "metadata": {
      "needs_background": "light"
     },
     "output_type": "display_data"
    }
   ],
   "source": [
    "# Scatter plot showing the relationship between 'pricepercent', 'winpercent', and 'chocolate'\n",
    "sns.scatterplot(x=candy_data['pricepercent'], y=candy_data['winpercent'], hue=candy_data['chocolate'])\n",
    "\n",
    "# Check your answer\n",
    "step_5.check()"
   ]
  },
  {
   "cell_type": "code",
   "execution_count": 17,
   "id": "2cdccc45",
   "metadata": {
    "execution": {
     "iopub.execute_input": "2022-07-31T13:10:32.945245Z",
     "iopub.status.busy": "2022-07-31T13:10:32.944277Z",
     "iopub.status.idle": "2022-07-31T13:10:32.949703Z",
     "shell.execute_reply": "2022-07-31T13:10:32.948902Z"
    },
    "papermill": {
     "duration": 0.023129,
     "end_time": "2022-07-31T13:10:32.952034",
     "exception": false,
     "start_time": "2022-07-31T13:10:32.928905",
     "status": "completed"
    },
    "tags": []
   },
   "outputs": [],
   "source": [
    "# Lines below will give you a hint or solution code\n",
    "# step_5.hint()\n",
    "# step_5.solution_plot()"
   ]
  },
  {
   "cell_type": "markdown",
   "id": "0ebf6be7",
   "metadata": {
    "papermill": {
     "duration": 0.014651,
     "end_time": "2022-07-31T13:10:32.980144",
     "exception": false,
     "start_time": "2022-07-31T13:10:32.965493",
     "status": "completed"
    },
    "tags": []
   },
   "source": [
    "Can you see any interesting patterns in the scatter plot?  We'll investigate this plot further  by adding regression lines in the next step!\n",
    "\n",
    "## Step 6: Investigate chocolate\n",
    "\n",
    "#### Part A\n",
    "\n",
    "Create the same scatter plot you created in **Step 5**, but now with two regression lines, corresponding to (1) chocolate candies and (2) candies without chocolate."
   ]
  },
  {
   "cell_type": "code",
   "execution_count": 18,
   "id": "e4834c74",
   "metadata": {
    "execution": {
     "iopub.execute_input": "2022-07-31T13:10:33.012124Z",
     "iopub.status.busy": "2022-07-31T13:10:33.010990Z",
     "iopub.status.idle": "2022-07-31T13:10:33.643026Z",
     "shell.execute_reply": "2022-07-31T13:10:33.641871Z"
    },
    "papermill": {
     "duration": 0.650398,
     "end_time": "2022-07-31T13:10:33.645681",
     "exception": false,
     "start_time": "2022-07-31T13:10:32.995283",
     "status": "completed"
    },
    "tags": []
   },
   "outputs": [
    {
     "data": {
      "application/javascript": [
       "parent.postMessage({\"jupyterEvent\": \"custom.exercise_interaction\", \"data\": {\"outcomeType\": 1, \"valueTowardsCompletion\": 0.3333333333333333, \"interactionType\": 1, \"questionType\": 2, \"questionId\": \"6.1_PlotColorReg\", \"learnToolsVersion\": \"0.3.4\", \"failureMessage\": \"\", \"exceptionClass\": \"\", \"trace\": \"\"}}, \"*\")"
      ],
      "text/plain": [
       "<IPython.core.display.Javascript object>"
      ]
     },
     "metadata": {},
     "output_type": "display_data"
    },
    {
     "data": {
      "text/markdown": [
       "<span style=\"color:#33cc33\">Correct</span>"
      ],
      "text/plain": [
       "Correct"
      ]
     },
     "metadata": {},
     "output_type": "display_data"
    },
    {
     "data": {
      "image/png": "[encoded data removed]",
      "text/plain": [
       "<Figure size 416.375x360 with 1 Axes>"
      ]
     },
     "metadata": {
      "needs_background": "light"
     },
     "output_type": "display_data"
    }
   ],
   "source": [
    "# Color-coded scatter plot w/ regression lines\n",
    "sns.lmplot(x='pricepercent', y='winpercent', hue='chocolate', data=candy_data)\n",
    "\n",
    "# Check your answer\n",
    "step_6.a.check()"
   ]
  },
  {
   "cell_type": "code",
   "execution_count": 19,
   "id": "225a6dc5",
   "metadata": {
    "execution": {
     "iopub.execute_input": "2022-07-31T13:10:33.675629Z",
     "iopub.status.busy": "2022-07-31T13:10:33.675256Z",
     "iopub.status.idle": "2022-07-31T13:10:33.679336Z",
     "shell.execute_reply": "2022-07-31T13:10:33.678293Z"
    },
    "papermill": {
     "duration": 0.021823,
     "end_time": "2022-07-31T13:10:33.681552",
     "exception": false,
     "start_time": "2022-07-31T13:10:33.659729",
     "status": "completed"
    },
    "tags": []
   },
   "outputs": [],
   "source": [
    "# Lines below will give you a hint or solution code\n",
    "# step_6.a.hint()\n",
    "# step_6.a.solution_plot()"
   ]
  },
  {
   "cell_type": "markdown",
   "id": "a801f931",
   "metadata": {
    "papermill": {
     "duration": 0.013862,
     "end_time": "2022-07-31T13:10:33.709588",
     "exception": false,
     "start_time": "2022-07-31T13:10:33.695726",
     "status": "completed"
    },
    "tags": []
   },
   "source": [
    "#### Part B\n",
    "\n",
    "Using the regression lines, what conclusions can you draw about the effects of chocolate and price on candy popularity?"
   ]
  },
  {
   "cell_type": "code",
   "execution_count": 20,
   "id": "cddcb0c1",
   "metadata": {
    "execution": {
     "iopub.execute_input": "2022-07-31T13:10:33.740640Z",
     "iopub.status.busy": "2022-07-31T13:10:33.739931Z",
     "iopub.status.idle": "2022-07-31T13:10:33.743989Z",
     "shell.execute_reply": "2022-07-31T13:10:33.743055Z"
    },
    "papermill": {
     "duration": 0.022656,
     "end_time": "2022-07-31T13:10:33.746265",
     "exception": false,
     "start_time": "2022-07-31T13:10:33.723609",
     "status": "completed"
    },
    "tags": []
   },
   "outputs": [],
   "source": [
    "# step_6.b.hint()"
   ]
  },
  {
   "cell_type": "code",
   "execution_count": 21,
   "id": "43bb1ae5",
   "metadata": {
    "execution": {
     "iopub.execute_input": "2022-07-31T13:10:33.777824Z",
     "iopub.status.busy": "2022-07-31T13:10:33.777112Z",
     "iopub.status.idle": "2022-07-31T13:10:33.785681Z",
     "shell.execute_reply": "2022-07-31T13:10:33.784778Z"
    },
    "papermill": {
     "duration": 0.027325,
     "end_time": "2022-07-31T13:10:33.787828",
     "exception": false,
     "start_time": "2022-07-31T13:10:33.760503",
     "status": "completed"
    },
    "tags": []
   },
   "outputs": [
    {
     "data": {
      "application/javascript": [
       "parent.postMessage({\"jupyterEvent\": \"custom.exercise_interaction\", \"data\": {\"interactionType\": 3, \"questionType\": 4, \"questionId\": \"6.2_ThinkColorReg\", \"learnToolsVersion\": \"0.3.4\", \"valueTowardsCompletion\": 0.0, \"failureMessage\": \"\", \"exceptionClass\": \"\", \"trace\": \"\", \"outcomeType\": 4}}, \"*\")"
      ],
      "text/plain": [
       "<IPython.core.display.Javascript object>"
      ]
     },
     "metadata": {},
     "output_type": "display_data"
    },
    {
     "data": {
      "text/markdown": [
       "<span style=\"color:#33cc99\">Solution:</span> We'll begin with the regression line for chocolate candies. Since this line has a slightly positive slope, we can say that more expensive chocolate candies tend to be more popular (than relatively cheaper chocolate candies).  Likewise, since the regression line for candies without chocolate has a negative slope, we can say that if candies don't contain chocolate, they tend to be more popular when they are cheaper.  One important note, however, is that the dataset is quite small -- so we shouldn't invest too much trust in these patterns!  To inspire more confidence in the results, we should add more candies to the dataset."
      ],
      "text/plain": [
       "Solution: We'll begin with the regression line for chocolate candies. Since this line has a slightly positive slope, we can say that more expensive chocolate candies tend to be more popular (than relatively cheaper chocolate candies).  Likewise, since the regression line for candies without chocolate has a negative slope, we can say that if candies don't contain chocolate, they tend to be more popular when they are cheaper.  One important note, however, is that the dataset is quite small -- so we shouldn't invest too much trust in these patterns!  To inspire more confidence in the results, we should add more candies to the dataset."
      ]
     },
     "metadata": {},
     "output_type": "display_data"
    }
   ],
   "source": [
    "# Check your answer (Run this code cell to receive credit!)\n",
    "step_6.b.solution()"
   ]
  },
  {
   "cell_type": "markdown",
   "id": "cee2109b",
   "metadata": {
    "papermill": {
     "duration": 0.01401,
     "end_time": "2022-07-31T13:10:33.816730",
     "exception": false,
     "start_time": "2022-07-31T13:10:33.802720",
     "status": "completed"
    },
    "tags": []
   },
   "source": [
    "## Step 7: Everybody loves chocolate.\n",
    "\n",
    "#### Part A\n",
    "\n",
    "Create a categorical scatter plot to highlight the relationship between `'chocolate'` and `'winpercent'`.  Put `'chocolate'` on the (horizontal) x-axis, and `'winpercent'` on the (vertical) y-axis."
   ]
  },
  {
   "cell_type": "code",
   "execution_count": 22,
   "id": "c65c0e56",
   "metadata": {
    "execution": {
     "iopub.execute_input": "2022-07-31T13:10:33.848463Z",
     "iopub.status.busy": "2022-07-31T13:10:33.847459Z",
     "iopub.status.idle": "2022-07-31T13:10:33.993166Z",
     "shell.execute_reply": "2022-07-31T13:10:33.992111Z"
    },
    "papermill": {
     "duration": 0.164527,
     "end_time": "2022-07-31T13:10:33.995623",
     "exception": false,
     "start_time": "2022-07-31T13:10:33.831096",
     "status": "completed"
    },
    "tags": []
   },
   "outputs": [
    {
     "data": {
      "application/javascript": [
       "parent.postMessage({\"jupyterEvent\": \"custom.exercise_interaction\", \"data\": {\"outcomeType\": 1, \"valueTowardsCompletion\": 0.3333333333333333, \"interactionType\": 1, \"questionType\": 2, \"questionId\": \"7.1_PlotSwarm\", \"learnToolsVersion\": \"0.3.4\", \"failureMessage\": \"\", \"exceptionClass\": \"\", \"trace\": \"\"}}, \"*\")"
      ],
      "text/plain": [
       "<IPython.core.display.Javascript object>"
      ]
     },
     "metadata": {},
     "output_type": "display_data"
    },
    {
     "data": {
      "text/markdown": [
       "<span style=\"color:#33cc33\">Correct</span>"
      ],
      "text/plain": [
       "Correct"
      ]
     },
     "metadata": {},
     "output_type": "display_data"
    },
    {
     "data": {
      "image/png": "[encoded data removed]",
      "text/plain": [
       "<Figure size 432x288 with 1 Axes>"
      ]
     },
     "metadata": {
      "needs_background": "light"
     },
     "output_type": "display_data"
    }
   ],
   "source": [
    "# Scatter plot showing the relationship between 'chocolate' and 'winpercent'\n",
    "sns.swarmplot(x=candy_data['chocolate'], y=candy_data['winpercent'])\n",
    "\n",
    "# Check your answer\n",
    "step_7.a.check()"
   ]
  },
  {
   "cell_type": "code",
   "execution_count": 23,
   "id": "d885bc83",
   "metadata": {
    "execution": {
     "iopub.execute_input": "2022-07-31T13:10:34.028960Z",
     "iopub.status.busy": "2022-07-31T13:10:34.028553Z",
     "iopub.status.idle": "2022-07-31T13:10:34.032985Z",
     "shell.execute_reply": "2022-07-31T13:10:34.031869Z"
    },
    "papermill": {
     "duration": 0.02436,
     "end_time": "2022-07-31T13:10:34.035280",
     "exception": false,
     "start_time": "2022-07-31T13:10:34.010920",
     "status": "completed"
    },
    "tags": []
   },
   "outputs": [],
   "source": [
    "# Lines below will give you a hint or solution code\n",
    "# step_7.a.hint()\n",
    "# step_7.a.solution_plot()"
   ]
  },
  {
   "cell_type": "markdown",
   "id": "701f627f",
   "metadata": {
    "papermill": {
     "duration": 0.015014,
     "end_time": "2022-07-31T13:10:34.065826",
     "exception": false,
     "start_time": "2022-07-31T13:10:34.050812",
     "status": "completed"
    },
    "tags": []
   },
   "source": [
    "#### Part B\n",
    "\n",
    "You decide to dedicate a section of your report to the fact that chocolate candies tend to be more popular than candies without chocolate.  Which plot is more appropriate to tell this story: the plot from **Step 6**, or the plot from **Step 7**?"
   ]
  },
  {
   "cell_type": "code",
   "execution_count": 24,
   "id": "9e18901f",
   "metadata": {
    "execution": {
     "iopub.execute_input": "2022-07-31T13:10:34.101079Z",
     "iopub.status.busy": "2022-07-31T13:10:34.100672Z",
     "iopub.status.idle": "2022-07-31T13:10:34.105322Z",
     "shell.execute_reply": "2022-07-31T13:10:34.103920Z"
    },
    "papermill": {
     "duration": 0.025017,
     "end_time": "2022-07-31T13:10:34.107806",
     "exception": false,
     "start_time": "2022-07-31T13:10:34.082789",
     "status": "completed"
    },
    "tags": []
   },
   "outputs": [],
   "source": [
    "# step_7.b.hint()"
   ]
  },
  {
   "cell_type": "code",
   "execution_count": 25,
   "id": "6871f581",
   "metadata": {
    "execution": {
     "iopub.execute_input": "2022-07-31T13:10:34.141038Z",
     "iopub.status.busy": "2022-07-31T13:10:34.140628Z",
     "iopub.status.idle": "2022-07-31T13:10:34.150042Z",
     "shell.execute_reply": "2022-07-31T13:10:34.148868Z"
    },
    "papermill": {
     "duration": 0.028326,
     "end_time": "2022-07-31T13:10:34.152248",
     "exception": false,
     "start_time": "2022-07-31T13:10:34.123922",
     "status": "completed"
    },
    "tags": []
   },
   "outputs": [
    {
     "data": {
      "application/javascript": [
       "parent.postMessage({\"jupyterEvent\": \"custom.exercise_interaction\", \"data\": {\"interactionType\": 3, \"questionType\": 4, \"questionId\": \"7.2_ThinkSwarm\", \"learnToolsVersion\": \"0.3.4\", \"valueTowardsCompletion\": 0.0, \"failureMessage\": \"\", \"exceptionClass\": \"\", \"trace\": \"\", \"outcomeType\": 4}}, \"*\")"
      ],
      "text/plain": [
       "<IPython.core.display.Javascript object>"
      ]
     },
     "metadata": {},
     "output_type": "display_data"
    },
    {
     "data": {
      "text/markdown": [
       "<span style=\"color:#33cc99\">Solution:</span> In this case, the categorical scatter plot from **Step 7** is the more appropriate plot. While both plots tell the desired story, the plot from **Step 6** conveys far more information that could distract from the main point."
      ],
      "text/plain": [
       "Solution: In this case, the categorical scatter plot from **Step 7** is the more appropriate plot. While both plots tell the desired story, the plot from **Step 6** conveys far more information that could distract from the main point."
      ]
     },
     "metadata": {},
     "output_type": "display_data"
    }
   ],
   "source": [
    "# Check your answer (Run this code cell to receive credit!)\n",
    "step_7.b.solution()"
   ]
  },
  {
   "cell_type": "markdown",
   "id": "a811b9aa",
   "metadata": {
    "papermill": {
     "duration": 0.01517,
     "end_time": "2022-07-31T13:10:34.183584",
     "exception": false,
     "start_time": "2022-07-31T13:10:34.168414",
     "status": "completed"
    },
    "tags": []
   },
   "source": [
    "## Keep going\n",
    "\n",
    "Explore **[histograms and density plots](https://www.kaggle.com/alexisbcook/distributions)**."
   ]
  },
  {
   "cell_type": "markdown",
   "id": "2ed248f9",
   "metadata": {
    "papermill": {
     "duration": 0.01566,
     "end_time": "2022-07-31T13:10:34.214697",
     "exception": false,
     "start_time": "2022-07-31T13:10:34.199037",
     "status": "completed"
    },
    "tags": []
   },
   "source": [
    "---\n",
    "\n",
    "\n",
    "\n",
    "\n",
    "*Have questions or comments? Visit the [course discussion forum](https://www.kaggle.com/learn/data-visualization/discussion) to chat with other learners.*"
   ]
  }
 ],
 "metadata": {
  "kernelspec": {
   "display_name": "Python 3",
   "language": "python",
   "name": "python3"
  },
  "language_info": {
   "codemirror_mode": {
    "name": "ipython",
    "version": 3
   },
   "file_extension": ".py",
   "mimetype": "text/x-python",
   "name": "python",
   "nbconvert_exporter": "python",
   "pygments_lexer": "ipython3",
   "version": "3.7.12"
  },
  "papermill": {
   "default_parameters": {},
   "duration": 15.922576,
   "end_time": "2022-07-31T13:10:34.953873",
   "environment_variables": {},
   "exception": null,
   "input_path": "__notebook__.ipynb",
   "output_path": "__notebook__.ipynb",
   "parameters": {},
   "start_time": "2022-07-31T13:10:19.031297",
   "version": "2.3.4"
  }
 },
 "nbformat": 4,
 "nbformat_minor": 5
}
