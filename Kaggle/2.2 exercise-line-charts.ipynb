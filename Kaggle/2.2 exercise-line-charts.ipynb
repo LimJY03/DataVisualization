{
 "cells": [
  {
   "cell_type": "markdown",
   "id": "90df7ed1",
   "metadata": {
    "papermill": {
     "duration": 0.007073,
     "end_time": "2022-07-17T11:34:23.366750",
     "exception": false,
     "start_time": "2022-07-17T11:34:23.359677",
     "status": "completed"
    },
    "tags": []
   },
   "source": [
    "**This notebook is an exercise in the [Data Visualization](https://www.kaggle.com/learn/data-visualization) course.  You can reference the tutorial at [this link](https://www.kaggle.com/alexisbcook/line-charts).**\n",
    "\n",
    "---\n"
   ]
  },
  {
   "cell_type": "markdown",
   "id": "0440455a",
   "metadata": {
    "papermill": {
     "duration": 0.005658,
     "end_time": "2022-07-17T11:34:23.378637",
     "exception": false,
     "start_time": "2022-07-17T11:34:23.372979",
     "status": "completed"
    },
    "tags": []
   },
   "source": [
    "In this exercise, you will use your new knowledge to propose a solution to a real-world scenario. To succeed, you will need to import data into Python, answer questions using the data, and generate **line charts** to understand patterns in the data.\n",
    "\n",
    "## Scenario\n",
    "\n",
    "You have recently been hired to manage the museums in the City of Los Angeles. Your first project focuses on the four museums pictured in the images below.\n",
    "\n",
    "![ex1_museums](https://i.imgur.com/pFYL8J1.png)\n",
    "\n",
    "You will leverage data from the Los Angeles [Data Portal](https://data.lacity.org/) that tracks monthly visitors to each museum.  \n",
    "\n",
    "![ex1_xlsx](https://i.imgur.com/mGWYlym.png)\n",
    "\n",
    "## Setup\n",
    "\n",
    "Run the next cell to import and configure the Python libraries that you need to complete the exercise."
   ]
  },
  {
   "cell_type": "code",
   "execution_count": 1,
   "id": "5fe85fd2",
   "metadata": {
    "execution": {
     "iopub.execute_input": "2022-07-17T11:34:23.392578Z",
     "iopub.status.busy": "2022-07-17T11:34:23.392170Z",
     "iopub.status.idle": "2022-07-17T11:34:24.549793Z",
     "shell.execute_reply": "2022-07-17T11:34:24.548368Z"
    },
    "papermill": {
     "duration": 1.168089,
     "end_time": "2022-07-17T11:34:24.552705",
     "exception": false,
     "start_time": "2022-07-17T11:34:23.384616",
     "status": "completed"
    },
    "tags": []
   },
   "outputs": [
    {
     "name": "stdout",
     "output_type": "stream",
     "text": [
      "Setup Complete\n"
     ]
    }
   ],
   "source": [
    "import pandas as pd\n",
    "pd.plotting.register_matplotlib_converters()\n",
    "import matplotlib.pyplot as plt\n",
    "%matplotlib inline\n",
    "import seaborn as sns\n",
    "\n",
    "print(\"Setup Complete\")"
   ]
  },
  {
   "cell_type": "markdown",
   "id": "4d12d315",
   "metadata": {
    "papermill": {
     "duration": 0.006186,
     "end_time": "2022-07-17T11:34:24.565716",
     "exception": false,
     "start_time": "2022-07-17T11:34:24.559530",
     "status": "completed"
    },
    "tags": []
   },
   "source": [
    "The questions below will give you feedback on your work. Run the following cell to set up the feedback system."
   ]
  },
  {
   "cell_type": "code",
   "execution_count": 2,
   "id": "9ac7b493",
   "metadata": {
    "execution": {
     "iopub.execute_input": "2022-07-17T11:34:24.580040Z",
     "iopub.status.busy": "2022-07-17T11:34:24.579631Z",
     "iopub.status.idle": "2022-07-17T11:34:24.641069Z",
     "shell.execute_reply": "2022-07-17T11:34:24.639314Z"
    },
    "papermill": {
     "duration": 0.071873,
     "end_time": "2022-07-17T11:34:24.643697",
     "exception": false,
     "start_time": "2022-07-17T11:34:24.571824",
     "status": "completed"
    },
    "tags": []
   },
   "outputs": [
    {
     "name": "stdout",
     "output_type": "stream",
     "text": [
      "Setup Complete\n"
     ]
    }
   ],
   "source": [
    "# Set up code checking\n",
    "import os\n",
    "if not os.path.exists(\"../input/museum_visitors.csv\"):\n",
    "    os.symlink(\"../input/data-for-datavis/museum_visitors.csv\", \"../input/museum_visitors.csv\") \n",
    "from learntools.core import binder\n",
    "binder.bind(globals())\n",
    "from learntools.data_viz_to_coder.ex2 import *\n",
    "\n",
    "print(\"Setup Complete\")"
   ]
  },
  {
   "cell_type": "markdown",
   "id": "e0979df2",
   "metadata": {
    "papermill": {
     "duration": 0.005918,
     "end_time": "2022-07-17T11:34:24.656006",
     "exception": false,
     "start_time": "2022-07-17T11:34:24.650088",
     "status": "completed"
    },
    "tags": []
   },
   "source": [
    "## Step 1: Load the data\n",
    "\n",
    "Your first assignment is to read the LA Museum Visitors data file into `museum_data`.  Note that:\n",
    "- The filepath to the dataset is stored as `museum_filepath`.  Please **do not** change the provided value of the filepath.\n",
    "- The name of the column to use as row labels is `\"Date\"`.  (This can be seen in cell A1 when the file is opened in Excel.)\n",
    "\n",
    "To help with this, you may find it useful to revisit some relevant code from the tutorial, which we have pasted below:\n",
    "\n",
    "```python\n",
    "# Path of the file to read\n",
    "spotify_filepath = \"../input/spotify.csv\"\n",
    "\n",
    "# Read the file into a variable spotify_data\n",
    "spotify_data = pd.read_csv(spotify_filepath, index_col=\"Date\", parse_dates=True)\n",
    "```\n",
    "\n",
    "The code you need to write now looks very similar!"
   ]
  },
  {
   "cell_type": "code",
   "execution_count": 3,
   "id": "df35a272",
   "metadata": {
    "execution": {
     "iopub.execute_input": "2022-07-17T11:34:24.670609Z",
     "iopub.status.busy": "2022-07-17T11:34:24.669559Z",
     "iopub.status.idle": "2022-07-17T11:34:24.687006Z",
     "shell.execute_reply": "2022-07-17T11:34:24.685971Z"
    },
    "papermill": {
     "duration": 0.026983,
     "end_time": "2022-07-17T11:34:24.689177",
     "exception": false,
     "start_time": "2022-07-17T11:34:24.662194",
     "status": "completed"
    },
    "tags": []
   },
   "outputs": [
    {
     "data": {
      "application/javascript": [
       "parent.postMessage({\"jupyterEvent\": \"custom.exercise_interaction\", \"data\": {\"outcomeType\": 1, \"valueTowardsCompletion\": 0.3333333333333333, \"interactionType\": 1, \"questionType\": 1, \"questionId\": \"1_LoadMuseumData\", \"learnToolsVersion\": \"0.3.4\", \"failureMessage\": \"\", \"exceptionClass\": \"\", \"trace\": \"\"}}, \"*\")"
      ],
      "text/plain": [
       "<IPython.core.display.Javascript object>"
      ]
     },
     "metadata": {},
     "output_type": "display_data"
    },
    {
     "data": {
      "text/markdown": [
       "<span style=\"color:#33cc33\">Correct</span>"
      ],
      "text/plain": [
       "Correct"
      ]
     },
     "metadata": {},
     "output_type": "display_data"
    }
   ],
   "source": [
    "# Path of the file to read\n",
    "museum_filepath = \"../input/museum_visitors.csv\"\n",
    "\n",
    "# Fill in the line below to read the file into a variable museum_data\n",
    "museum_data = pd.read_csv(museum_filepath, index_col=\"Date\", parse_dates=True)\n",
    "\n",
    "# Run the line below with no changes to check that you've loaded the data correctly\n",
    "step_1.check()"
   ]
  },
  {
   "cell_type": "code",
   "execution_count": 4,
   "id": "051442ad",
   "metadata": {
    "execution": {
     "iopub.execute_input": "2022-07-17T11:34:24.704152Z",
     "iopub.status.busy": "2022-07-17T11:34:24.703276Z",
     "iopub.status.idle": "2022-07-17T11:34:24.708010Z",
     "shell.execute_reply": "2022-07-17T11:34:24.707181Z"
    },
    "papermill": {
     "duration": 0.014828,
     "end_time": "2022-07-17T11:34:24.710350",
     "exception": false,
     "start_time": "2022-07-17T11:34:24.695522",
     "status": "completed"
    },
    "tags": []
   },
   "outputs": [],
   "source": [
    "# Uncomment the line below to receive a hint\n",
    "# step_1.hint()\n",
    "\n",
    "# Uncomment the line below to see the solution\n",
    "# step_1.solution()"
   ]
  },
  {
   "cell_type": "markdown",
   "id": "d617ce34",
   "metadata": {
    "papermill": {
     "duration": 0.006288,
     "end_time": "2022-07-17T11:34:24.723080",
     "exception": false,
     "start_time": "2022-07-17T11:34:24.716792",
     "status": "completed"
    },
    "tags": []
   },
   "source": [
    "## Step 2: Review the data\n",
    "\n",
    "Use a Python command to print the last 5 rows of the data."
   ]
  },
  {
   "cell_type": "code",
   "execution_count": 5,
   "id": "088bc0b5",
   "metadata": {
    "execution": {
     "iopub.execute_input": "2022-07-17T11:34:24.737691Z",
     "iopub.status.busy": "2022-07-17T11:34:24.737048Z",
     "iopub.status.idle": "2022-07-17T11:34:24.752146Z",
     "shell.execute_reply": "2022-07-17T11:34:24.751030Z"
    },
    "papermill": {
     "duration": 0.02519,
     "end_time": "2022-07-17T11:34:24.754546",
     "exception": false,
     "start_time": "2022-07-17T11:34:24.729356",
     "status": "completed"
    },
    "tags": []
   },
   "outputs": [
    {
     "data": {
      "text/html": [
       "<div>\n",
       "<style scoped>\n",
       "    .dataframe tbody tr th:only-of-type {\n",
       "        vertical-align: middle;\n",
       "    }\n",
       "\n",
       "    .dataframe tbody tr th {\n",
       "        vertical-align: top;\n",
       "    }\n",
       "\n",
       "    .dataframe thead th {\n",
       "        text-align: right;\n",
       "    }\n",
       "</style>\n",
       "<table border=\"1\" class=\"dataframe\">\n",
       "  <thead>\n",
       "    <tr style=\"text-align: right;\">\n",
       "      <th></th>\n",
       "      <th>Avila Adobe</th>\n",
       "      <th>Firehouse Museum</th>\n",
       "      <th>Chinese American Museum</th>\n",
       "      <th>America Tropical Interpretive Center</th>\n",
       "    </tr>\n",
       "    <tr>\n",
       "      <th>Date</th>\n",
       "      <th></th>\n",
       "      <th></th>\n",
       "      <th></th>\n",
       "      <th></th>\n",
       "    </tr>\n",
       "  </thead>\n",
       "  <tbody>\n",
       "    <tr>\n",
       "      <th>2018-07-01</th>\n",
       "      <td>23136</td>\n",
       "      <td>4191</td>\n",
       "      <td>2620</td>\n",
       "      <td>4718</td>\n",
       "    </tr>\n",
       "    <tr>\n",
       "      <th>2018-08-01</th>\n",
       "      <td>20815</td>\n",
       "      <td>4866</td>\n",
       "      <td>2409</td>\n",
       "      <td>3891</td>\n",
       "    </tr>\n",
       "    <tr>\n",
       "      <th>2018-09-01</th>\n",
       "      <td>21020</td>\n",
       "      <td>4956</td>\n",
       "      <td>2146</td>\n",
       "      <td>3180</td>\n",
       "    </tr>\n",
       "    <tr>\n",
       "      <th>2018-10-01</th>\n",
       "      <td>19280</td>\n",
       "      <td>4622</td>\n",
       "      <td>2364</td>\n",
       "      <td>3775</td>\n",
       "    </tr>\n",
       "    <tr>\n",
       "      <th>2018-11-01</th>\n",
       "      <td>17163</td>\n",
       "      <td>4082</td>\n",
       "      <td>2385</td>\n",
       "      <td>4562</td>\n",
       "    </tr>\n",
       "  </tbody>\n",
       "</table>\n",
       "</div>"
      ],
      "text/plain": [
       "            Avila Adobe  Firehouse Museum  Chinese American Museum  \\\n",
       "Date                                                                 \n",
       "2018-07-01        23136              4191                     2620   \n",
       "2018-08-01        20815              4866                     2409   \n",
       "2018-09-01        21020              4956                     2146   \n",
       "2018-10-01        19280              4622                     2364   \n",
       "2018-11-01        17163              4082                     2385   \n",
       "\n",
       "            America Tropical Interpretive Center  \n",
       "Date                                              \n",
       "2018-07-01                                  4718  \n",
       "2018-08-01                                  3891  \n",
       "2018-09-01                                  3180  \n",
       "2018-10-01                                  3775  \n",
       "2018-11-01                                  4562  "
      ]
     },
     "execution_count": 5,
     "metadata": {},
     "output_type": "execute_result"
    }
   ],
   "source": [
    "# Print the last five rows of the data \n",
    "museum_data.tail()"
   ]
  },
  {
   "cell_type": "markdown",
   "id": "459bff4f",
   "metadata": {
    "papermill": {
     "duration": 0.006311,
     "end_time": "2022-07-17T11:34:24.767626",
     "exception": false,
     "start_time": "2022-07-17T11:34:24.761315",
     "status": "completed"
    },
    "tags": []
   },
   "source": [
    "The last row (for `2018-11-01`) tracks the number of visitors to each museum in November 2018, the next-to-last row (for `2018-10-01`) tracks the number of visitors to each museum in October 2018, _and so on_.\n",
    "\n",
    "Use the last 5 rows of the data to answer the questions below."
   ]
  },
  {
   "cell_type": "code",
   "execution_count": 6,
   "id": "c7943ad3",
   "metadata": {
    "execution": {
     "iopub.execute_input": "2022-07-17T11:34:24.783055Z",
     "iopub.status.busy": "2022-07-17T11:34:24.782662Z",
     "iopub.status.idle": "2022-07-17T11:34:24.790073Z",
     "shell.execute_reply": "2022-07-17T11:34:24.789280Z"
    },
    "papermill": {
     "duration": 0.017479,
     "end_time": "2022-07-17T11:34:24.792037",
     "exception": false,
     "start_time": "2022-07-17T11:34:24.774558",
     "status": "completed"
    },
    "tags": []
   },
   "outputs": [
    {
     "data": {
      "application/javascript": [
       "parent.postMessage({\"jupyterEvent\": \"custom.exercise_interaction\", \"data\": {\"outcomeType\": 1, \"valueTowardsCompletion\": 0.3333333333333333, \"interactionType\": 1, \"questionType\": 1, \"questionId\": \"2_ReviewData\", \"learnToolsVersion\": \"0.3.4\", \"failureMessage\": \"\", \"exceptionClass\": \"\", \"trace\": \"\"}}, \"*\")"
      ],
      "text/plain": [
       "<IPython.core.display.Javascript object>"
      ]
     },
     "metadata": {},
     "output_type": "display_data"
    },
    {
     "data": {
      "text/markdown": [
       "<span style=\"color:#33cc33\">Correct</span>"
      ],
      "text/plain": [
       "Correct"
      ]
     },
     "metadata": {},
     "output_type": "display_data"
    }
   ],
   "source": [
    "# Fill in the line below: How many visitors did the Chinese American Museum receive in July 2018?\n",
    "ca_museum_jul18 = 2620\n",
    "\n",
    "# Fill in the line below: In October 2018, how many more visitors did Avila Adobe receive than the Firehouse Museum?\n",
    "avila_oct18 = 19280 - 4622\n",
    "\n",
    "# Check your answers\n",
    "step_2.check()"
   ]
  },
  {
   "cell_type": "code",
   "execution_count": 7,
   "id": "15de9d50",
   "metadata": {
    "execution": {
     "iopub.execute_input": "2022-07-17T11:34:24.808182Z",
     "iopub.status.busy": "2022-07-17T11:34:24.807046Z",
     "iopub.status.idle": "2022-07-17T11:34:24.811492Z",
     "shell.execute_reply": "2022-07-17T11:34:24.810661Z"
    },
    "papermill": {
     "duration": 0.014682,
     "end_time": "2022-07-17T11:34:24.813654",
     "exception": false,
     "start_time": "2022-07-17T11:34:24.798972",
     "status": "completed"
    },
    "tags": []
   },
   "outputs": [],
   "source": [
    "# Lines below will give you a hint or solution code\n",
    "# step_2.hint()\n",
    "# step_2.solution()"
   ]
  },
  {
   "cell_type": "markdown",
   "id": "a0725a78",
   "metadata": {
    "papermill": {
     "duration": 0.006758,
     "end_time": "2022-07-17T11:34:24.827776",
     "exception": false,
     "start_time": "2022-07-17T11:34:24.821018",
     "status": "completed"
    },
    "tags": []
   },
   "source": [
    "## Step 3: Convince the museum board \n",
    "\n",
    "The Firehouse Museum claims they ran an event in 2014 that brought an incredible number of visitors, and that they should get extra budget to run a similar event again.  The other museums think these types of events aren't that important, and budgets should be split purely based on recent visitors on an average day.  \n",
    "\n",
    "To show the museum board how the event compared to regular traffic at each museum, create a line chart that shows how the number of visitors to each museum evolved over time.  Your figure should have four lines (one for each museum).\n",
    "\n",
    "> **(Optional) Note**: If you have some prior experience with plotting figures in Python, you might be familiar with the `plt.show()` command.  If you decide to use this command, please place it **after** the line of code that checks your answer (in this case, place it after `step_3.check()` below) -- otherwise, the checking code will return an error!"
   ]
  },
  {
   "cell_type": "code",
   "execution_count": 8,
   "id": "0fcb9948",
   "metadata": {
    "execution": {
     "iopub.execute_input": "2022-07-17T11:34:24.843563Z",
     "iopub.status.busy": "2022-07-17T11:34:24.842879Z",
     "iopub.status.idle": "2022-07-17T11:34:25.263554Z",
     "shell.execute_reply": "2022-07-17T11:34:25.262565Z"
    },
    "papermill": {
     "duration": 0.431535,
     "end_time": "2022-07-17T11:34:25.266190",
     "exception": false,
     "start_time": "2022-07-17T11:34:24.834655",
     "status": "completed"
    },
    "tags": []
   },
   "outputs": [
    {
     "data": {
      "application/javascript": [
       "parent.postMessage({\"jupyterEvent\": \"custom.exercise_interaction\", \"data\": {\"outcomeType\": 1, \"valueTowardsCompletion\": 0.3333333333333333, \"interactionType\": 1, \"questionType\": 2, \"questionId\": \"3_PlotAll\", \"learnToolsVersion\": \"0.3.4\", \"failureMessage\": \"\", \"exceptionClass\": \"\", \"trace\": \"\"}}, \"*\")"
      ],
      "text/plain": [
       "<IPython.core.display.Javascript object>"
      ]
     },
     "metadata": {},
     "output_type": "display_data"
    },
    {
     "data": {
      "text/markdown": [
       "<span style=\"color:#33cc33\">Correct</span>"
      ],
      "text/plain": [
       "Correct"
      ]
     },
     "metadata": {},
     "output_type": "display_data"
    },
    {
     "data": {
      "image/png": "[encoded data removed]",
      "text/plain": [
       "<Figure size 1008x432 with 1 Axes>"
      ]
     },
     "metadata": {
      "needs_background": "light"
     },
     "output_type": "display_data"
    }
   ],
   "source": [
    "# Line chart showing the number of visitors to each museum over time\n",
    "plt.figure(figsize=(14, 6))\n",
    "plt.title(\"Number of Visitors to Each Museum over Time\")\n",
    "\n",
    "sns.lineplot(data=museum_data)\n",
    "\n",
    "# Check your answer\n",
    "step_3.check()"
   ]
  },
  {
   "cell_type": "code",
   "execution_count": 9,
   "id": "0422534c",
   "metadata": {
    "execution": {
     "iopub.execute_input": "2022-07-17T11:34:25.288189Z",
     "iopub.status.busy": "2022-07-17T11:34:25.287486Z",
     "iopub.status.idle": "2022-07-17T11:34:25.292617Z",
     "shell.execute_reply": "2022-07-17T11:34:25.291813Z"
    },
    "papermill": {
     "duration": 0.018597,
     "end_time": "2022-07-17T11:34:25.294833",
     "exception": false,
     "start_time": "2022-07-17T11:34:25.276236",
     "status": "completed"
    },
    "tags": []
   },
   "outputs": [],
   "source": [
    "# Lines below will give you a hint or solution code\n",
    "# step_3.hint()\n",
    "# step_3.solution_plot()"
   ]
  },
  {
   "cell_type": "markdown",
   "id": "ca74b192",
   "metadata": {
    "papermill": {
     "duration": 0.008401,
     "end_time": "2022-07-17T11:34:25.312551",
     "exception": false,
     "start_time": "2022-07-17T11:34:25.304150",
     "status": "completed"
    },
    "tags": []
   },
   "source": [
    "## Step 4: Assess seasonality\n",
    "\n",
    "When meeting with the employees at Avila Adobe, you hear that one major pain point is that the number of museum visitors varies greatly with the seasons, with low seasons (when the employees are perfectly staffed and happy) and also high seasons (when the employees are understaffed and stressed).  You realize that if you can predict these high and low seasons, you can plan ahead to hire some additional seasonal employees to help out with the extra work.\n",
    "\n",
    "#### Part A\n",
    "Create a line chart that shows how the number of visitors to Avila Adobe has evolved over time.  (_If your code returns an error, the first thing that you should check is that you've spelled the name of the column correctly!  You must write the name of the column exactly as it appears in the dataset._)"
   ]
  },
  {
   "cell_type": "code",
   "execution_count": 10,
   "id": "6a38480d",
   "metadata": {
    "execution": {
     "iopub.execute_input": "2022-07-17T11:34:25.332134Z",
     "iopub.status.busy": "2022-07-17T11:34:25.330986Z",
     "iopub.status.idle": "2022-07-17T11:34:25.597809Z",
     "shell.execute_reply": "2022-07-17T11:34:25.596524Z"
    },
    "papermill": {
     "duration": 0.279457,
     "end_time": "2022-07-17T11:34:25.600710",
     "exception": false,
     "start_time": "2022-07-17T11:34:25.321253",
     "status": "completed"
    },
    "tags": []
   },
   "outputs": [
    {
     "name": "stdout",
     "output_type": "stream",
     "text": [
      "Thank you for creating a line chart!  To see how your code compares to the official solution, please use the code cell below.\n"
     ]
    },
    {
     "data": {
      "application/javascript": [
       "parent.postMessage({\"jupyterEvent\": \"custom.exercise_interaction\", \"data\": {\"outcomeType\": 1, \"valueTowardsCompletion\": 0.3333333333333333, \"interactionType\": 1, \"questionType\": 2, \"questionId\": \"4.1_PlotAvila\", \"learnToolsVersion\": \"0.3.4\", \"failureMessage\": \"\", \"exceptionClass\": \"\", \"trace\": \"\"}}, \"*\")"
      ],
      "text/plain": [
       "<IPython.core.display.Javascript object>"
      ]
     },
     "metadata": {},
     "output_type": "display_data"
    },
    {
     "data": {
      "text/markdown": [
       "<span style=\"color:#33cc33\">Correct</span>"
      ],
      "text/plain": [
       "Correct"
      ]
     },
     "metadata": {},
     "output_type": "display_data"
    },
    {
     "data": {
      "image/png": "[encoded data removed]",
      "text/plain": [
       "<Figure size 1008x432 with 1 Axes>"
      ]
     },
     "metadata": {
      "needs_background": "light"
     },
     "output_type": "display_data"
    }
   ],
   "source": [
    "# Line plot showing the number of visitors to Avila Adobe over time\n",
    "plt.figure(figsize=(14, 6))\n",
    "plt.title(\"Number of Visitors to Avila Adobe over Time\")\n",
    "\n",
    "sns.lineplot(data=museum_data['Avila Adobe'])\n",
    "\n",
    "# Check your answer\n",
    "step_4.a.check()"
   ]
  },
  {
   "cell_type": "code",
   "execution_count": 11,
   "id": "cfd08080",
   "metadata": {
    "execution": {
     "iopub.execute_input": "2022-07-17T11:34:25.623712Z",
     "iopub.status.busy": "2022-07-17T11:34:25.623318Z",
     "iopub.status.idle": "2022-07-17T11:34:25.627754Z",
     "shell.execute_reply": "2022-07-17T11:34:25.626939Z"
    },
    "papermill": {
     "duration": 0.018947,
     "end_time": "2022-07-17T11:34:25.629888",
     "exception": false,
     "start_time": "2022-07-17T11:34:25.610941",
     "status": "completed"
    },
    "tags": []
   },
   "outputs": [],
   "source": [
    "# Lines below will give you a hint or solution code\n",
    "# step_4.a.hint()\n",
    "# step_4.a.solution_plot()"
   ]
  },
  {
   "cell_type": "markdown",
   "id": "4b08ecd2",
   "metadata": {
    "papermill": {
     "duration": 0.009588,
     "end_time": "2022-07-17T11:34:25.649411",
     "exception": false,
     "start_time": "2022-07-17T11:34:25.639823",
     "status": "completed"
    },
    "tags": []
   },
   "source": [
    "#### Part B\n",
    "\n",
    "Does Avila Adobe get more visitors:\n",
    "- in September-February (in LA, the fall and winter months), or \n",
    "- in March-August (in LA, the spring and summer)?  \n",
    "\n",
    "Using this information, when should the museum staff additional seasonal employees?"
   ]
  },
  {
   "cell_type": "code",
   "execution_count": 12,
   "id": "09172283",
   "metadata": {
    "execution": {
     "iopub.execute_input": "2022-07-17T11:34:25.672147Z",
     "iopub.status.busy": "2022-07-17T11:34:25.671445Z",
     "iopub.status.idle": "2022-07-17T11:34:25.675644Z",
     "shell.execute_reply": "2022-07-17T11:34:25.674805Z"
    },
    "papermill": {
     "duration": 0.018317,
     "end_time": "2022-07-17T11:34:25.677825",
     "exception": false,
     "start_time": "2022-07-17T11:34:25.659508",
     "status": "completed"
    },
    "tags": []
   },
   "outputs": [],
   "source": [
    "#step_4.b.hint()"
   ]
  },
  {
   "cell_type": "code",
   "execution_count": 13,
   "id": "27db7e4e",
   "metadata": {
    "execution": {
     "iopub.execute_input": "2022-07-17T11:34:25.700116Z",
     "iopub.status.busy": "2022-07-17T11:34:25.699664Z",
     "iopub.status.idle": "2022-07-17T11:34:25.707580Z",
     "shell.execute_reply": "2022-07-17T11:34:25.706467Z"
    },
    "papermill": {
     "duration": 0.02207,
     "end_time": "2022-07-17T11:34:25.709814",
     "exception": false,
     "start_time": "2022-07-17T11:34:25.687744",
     "status": "completed"
    },
    "tags": []
   },
   "outputs": [
    {
     "data": {
      "application/javascript": [
       "parent.postMessage({\"jupyterEvent\": \"custom.exercise_interaction\", \"data\": {\"interactionType\": 3, \"questionType\": 4, \"questionId\": \"4.2_ThinkAvila\", \"learnToolsVersion\": \"0.3.4\", \"valueTowardsCompletion\": 0.0, \"failureMessage\": \"\", \"exceptionClass\": \"\", \"trace\": \"\", \"outcomeType\": 4}}, \"*\")"
      ],
      "text/plain": [
       "<IPython.core.display.Javascript object>"
      ]
     },
     "metadata": {},
     "output_type": "display_data"
    },
    {
     "data": {
      "text/markdown": [
       "<span style=\"color:#33cc99\">Solution:</span> The line chart generally dips to relatively low values around the early part of each year (in December and January), and reaches its highest values in the middle of the year (especially around May and June).  Thus, Avila Adobe usually gets more visitors in March-August (or the spring and summer months).  With this in mind, Avila Adobe could definitely benefit from hiring more seasonal employees to help with the extra work in March-August (the spring and summer)!"
      ],
      "text/plain": [
       "Solution: The line chart generally dips to relatively low values around the early part of each year (in December and January), and reaches its highest values in the middle of the year (especially around May and June).  Thus, Avila Adobe usually gets more visitors in March-August (or the spring and summer months).  With this in mind, Avila Adobe could definitely benefit from hiring more seasonal employees to help with the extra work in March-August (the spring and summer)!"
      ]
     },
     "metadata": {},
     "output_type": "display_data"
    }
   ],
   "source": [
    "# Check your answer (Run this code cell to receive credit!)\n",
    "step_4.b.solution()"
   ]
  },
  {
   "cell_type": "markdown",
   "id": "b9e4387c",
   "metadata": {
    "papermill": {
     "duration": 0.009779,
     "end_time": "2022-07-17T11:34:25.729890",
     "exception": false,
     "start_time": "2022-07-17T11:34:25.720111",
     "status": "completed"
    },
    "tags": []
   },
   "source": [
    "# Keep going\n",
    "\n",
    "Move on to learn about **[bar charts and heatmaps](https://www.kaggle.com/alexisbcook/bar-charts-and-heatmaps)** with a new dataset!"
   ]
  },
  {
   "cell_type": "markdown",
   "id": "b52bd9ae",
   "metadata": {
    "papermill": {
     "duration": 0.009607,
     "end_time": "2022-07-17T11:34:25.749629",
     "exception": false,
     "start_time": "2022-07-17T11:34:25.740022",
     "status": "completed"
    },
    "tags": []
   },
   "source": [
    "---\n",
    "\n",
    "\n",
    "\n",
    "\n",
    "*Have questions or comments? Visit the [course discussion forum](https://www.kaggle.com/learn/data-visualization/discussion) to chat with other learners.*"
   ]
  }
 ],
 "metadata": {
  "kernelspec": {
   "display_name": "Python 3",
   "language": "python",
   "name": "python3"
  },
  "language_info": {
   "codemirror_mode": {
    "name": "ipython",
    "version": 3
   },
   "file_extension": ".py",
   "mimetype": "text/x-python",
   "name": "python",
   "nbconvert_exporter": "python",
   "pygments_lexer": "ipython3",
   "version": "3.7.12"
  },
  "papermill": {
   "default_parameters": {},
   "duration": 12.994568,
   "end_time": "2022-07-17T11:34:26.482742",
   "environment_variables": {},
   "exception": null,
   "input_path": "__notebook__.ipynb",
   "output_path": "__notebook__.ipynb",
   "parameters": {},
   "start_time": "2022-07-17T11:34:13.488174",
   "version": "2.3.4"
  }
 },
 "nbformat": 4,
 "nbformat_minor": 5
}
